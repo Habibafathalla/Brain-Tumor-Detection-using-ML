{
 "cells": [
  {
   "cell_type": "code",
   "execution_count": 15,
   "metadata": {},
   "outputs": [],
   "source": [
    "import os\n",
    "import numpy as np\n",
    "import pandas as pd\n",
    "import matplotlib.pyplot as plt\n",
    "%matplotlib inline\n",
    "import cv2"
   ]
  },
  {
   "cell_type": "code",
   "execution_count": 16,
   "metadata": {},
   "outputs": [],
   "source": [
    "accs = []"
   ]
  },
  {
   "cell_type": "code",
   "execution_count": 17,
   "metadata": {},
   "outputs": [],
   "source": [
    "data_train = pd.read_csv('../Created Dataset/var_skew_dataset.csv')"
   ]
  },
  {
   "cell_type": "code",
   "execution_count": 18,
   "metadata": {},
   "outputs": [
    {
     "data": {
      "text/html": [
       "<div>\n",
       "<style scoped>\n",
       "    .dataframe tbody tr th:only-of-type {\n",
       "        vertical-align: middle;\n",
       "    }\n",
       "\n",
       "    .dataframe tbody tr th {\n",
       "        vertical-align: top;\n",
       "    }\n",
       "\n",
       "    .dataframe thead th {\n",
       "        text-align: right;\n",
       "    }\n",
       "</style>\n",
       "<table border=\"1\" class=\"dataframe\">\n",
       "  <thead>\n",
       "    <tr style=\"text-align: right;\">\n",
       "      <th></th>\n",
       "      <th>Mean</th>\n",
       "      <th>std</th>\n",
       "      <th>Variance</th>\n",
       "      <th>Skewness</th>\n",
       "      <th>Entropy</th>\n",
       "      <th>RMS</th>\n",
       "      <th>Kurtios</th>\n",
       "      <th>HMI1</th>\n",
       "      <th>HMI2</th>\n",
       "      <th>HMI3</th>\n",
       "      <th>...</th>\n",
       "      <th>homogeneity4</th>\n",
       "      <th>energy1</th>\n",
       "      <th>energy2</th>\n",
       "      <th>energy3</th>\n",
       "      <th>energy4</th>\n",
       "      <th>correlation1</th>\n",
       "      <th>correlation2</th>\n",
       "      <th>correlation3</th>\n",
       "      <th>correlation4</th>\n",
       "      <th>Class</th>\n",
       "    </tr>\n",
       "  </thead>\n",
       "  <tbody>\n",
       "    <tr>\n",
       "      <th>0</th>\n",
       "      <td>55.212544</td>\n",
       "      <td>46.056565</td>\n",
       "      <td>2121.207208</td>\n",
       "      <td>0.370450</td>\n",
       "      <td>5.375762</td>\n",
       "      <td>9.302612</td>\n",
       "      <td>-0.628678</td>\n",
       "      <td>2.752905</td>\n",
       "      <td>8.030957</td>\n",
       "      <td>11.070417</td>\n",
       "      <td>...</td>\n",
       "      <td>0.513325</td>\n",
       "      <td>0.177499</td>\n",
       "      <td>0.172328</td>\n",
       "      <td>0.180325</td>\n",
       "      <td>0.171641</td>\n",
       "      <td>0.969317</td>\n",
       "      <td>0.959636</td>\n",
       "      <td>0.974818</td>\n",
       "      <td>0.958198</td>\n",
       "      <td>0</td>\n",
       "    </tr>\n",
       "    <tr>\n",
       "      <th>1</th>\n",
       "      <td>76.037273</td>\n",
       "      <td>79.565990</td>\n",
       "      <td>6330.746828</td>\n",
       "      <td>0.585233</td>\n",
       "      <td>5.781641</td>\n",
       "      <td>7.635726</td>\n",
       "      <td>-0.877843</td>\n",
       "      <td>2.904895</td>\n",
       "      <td>7.803627</td>\n",
       "      <td>12.448359</td>\n",
       "      <td>...</td>\n",
       "      <td>0.432991</td>\n",
       "      <td>0.230150</td>\n",
       "      <td>0.221221</td>\n",
       "      <td>0.232777</td>\n",
       "      <td>0.221043</td>\n",
       "      <td>0.969677</td>\n",
       "      <td>0.958555</td>\n",
       "      <td>0.973180</td>\n",
       "      <td>0.957760</td>\n",
       "      <td>0</td>\n",
       "    </tr>\n",
       "    <tr>\n",
       "      <th>2</th>\n",
       "      <td>53.652053</td>\n",
       "      <td>59.587603</td>\n",
       "      <td>3550.682395</td>\n",
       "      <td>1.574931</td>\n",
       "      <td>4.946379</td>\n",
       "      <td>10.302398</td>\n",
       "      <td>2.218936</td>\n",
       "      <td>2.779911</td>\n",
       "      <td>7.267831</td>\n",
       "      <td>10.447366</td>\n",
       "      <td>...</td>\n",
       "      <td>0.490227</td>\n",
       "      <td>0.232071</td>\n",
       "      <td>0.220649</td>\n",
       "      <td>0.233649</td>\n",
       "      <td>0.221646</td>\n",
       "      <td>0.949499</td>\n",
       "      <td>0.932350</td>\n",
       "      <td>0.958399</td>\n",
       "      <td>0.931763</td>\n",
       "      <td>0</td>\n",
       "    </tr>\n",
       "    <tr>\n",
       "      <th>3</th>\n",
       "      <td>49.231160</td>\n",
       "      <td>42.645217</td>\n",
       "      <td>1818.614523</td>\n",
       "      <td>0.483434</td>\n",
       "      <td>6.123446</td>\n",
       "      <td>10.533521</td>\n",
       "      <td>-1.392569</td>\n",
       "      <td>2.778616</td>\n",
       "      <td>7.928608</td>\n",
       "      <td>10.892414</td>\n",
       "      <td>...</td>\n",
       "      <td>0.450451</td>\n",
       "      <td>0.374133</td>\n",
       "      <td>0.365637</td>\n",
       "      <td>0.379210</td>\n",
       "      <td>0.367641</td>\n",
       "      <td>0.913667</td>\n",
       "      <td>0.891387</td>\n",
       "      <td>0.927097</td>\n",
       "      <td>0.891294</td>\n",
       "      <td>0</td>\n",
       "    </tr>\n",
       "    <tr>\n",
       "      <th>4</th>\n",
       "      <td>77.261385</td>\n",
       "      <td>83.705507</td>\n",
       "      <td>7006.611845</td>\n",
       "      <td>0.747321</td>\n",
       "      <td>6.017668</td>\n",
       "      <td>7.935202</td>\n",
       "      <td>-0.774676</td>\n",
       "      <td>2.996775</td>\n",
       "      <td>7.602490</td>\n",
       "      <td>11.633094</td>\n",
       "      <td>...</td>\n",
       "      <td>0.444437</td>\n",
       "      <td>0.312793</td>\n",
       "      <td>0.304938</td>\n",
       "      <td>0.317934</td>\n",
       "      <td>0.302303</td>\n",
       "      <td>0.923784</td>\n",
       "      <td>0.898480</td>\n",
       "      <td>0.934894</td>\n",
       "      <td>0.898350</td>\n",
       "      <td>0</td>\n",
       "    </tr>\n",
       "  </tbody>\n",
       "</table>\n",
       "<p>5 rows × 40 columns</p>\n",
       "</div>"
      ],
      "text/plain": [
       "        Mean        std     Variance  Skewness   Entropy        RMS   Kurtios  \\\n",
       "0  55.212544  46.056565  2121.207208  0.370450  5.375762   9.302612 -0.628678   \n",
       "1  76.037273  79.565990  6330.746828  0.585233  5.781641   7.635726 -0.877843   \n",
       "2  53.652053  59.587603  3550.682395  1.574931  4.946379  10.302398  2.218936   \n",
       "3  49.231160  42.645217  1818.614523  0.483434  6.123446  10.533521 -1.392569   \n",
       "4  77.261385  83.705507  7006.611845  0.747321  6.017668   7.935202 -0.774676   \n",
       "\n",
       "       HMI1      HMI2       HMI3  ...  homogeneity4   energy1   energy2  \\\n",
       "0  2.752905  8.030957  11.070417  ...      0.513325  0.177499  0.172328   \n",
       "1  2.904895  7.803627  12.448359  ...      0.432991  0.230150  0.221221   \n",
       "2  2.779911  7.267831  10.447366  ...      0.490227  0.232071  0.220649   \n",
       "3  2.778616  7.928608  10.892414  ...      0.450451  0.374133  0.365637   \n",
       "4  2.996775  7.602490  11.633094  ...      0.444437  0.312793  0.304938   \n",
       "\n",
       "    energy3   energy4  correlation1  correlation2  correlation3  correlation4  \\\n",
       "0  0.180325  0.171641      0.969317      0.959636      0.974818      0.958198   \n",
       "1  0.232777  0.221043      0.969677      0.958555      0.973180      0.957760   \n",
       "2  0.233649  0.221646      0.949499      0.932350      0.958399      0.931763   \n",
       "3  0.379210  0.367641      0.913667      0.891387      0.927097      0.891294   \n",
       "4  0.317934  0.302303      0.923784      0.898480      0.934894      0.898350   \n",
       "\n",
       "   Class  \n",
       "0      0  \n",
       "1      0  \n",
       "2      0  \n",
       "3      0  \n",
       "4      0  \n",
       "\n",
       "[5 rows x 40 columns]"
      ]
     },
     "execution_count": 18,
     "metadata": {},
     "output_type": "execute_result"
    }
   ],
   "source": [
    "data_train .head()"
   ]
  },
  {
   "cell_type": "code",
   "execution_count": 19,
   "metadata": {},
   "outputs": [],
   "source": [
    "data_test = pd.read_csv('../Created Dataset/testing_dataset.csv')"
   ]
  },
  {
   "cell_type": "code",
   "execution_count": 20,
   "metadata": {},
   "outputs": [
    {
     "data": {
      "text/html": [
       "<div>\n",
       "<style scoped>\n",
       "    .dataframe tbody tr th:only-of-type {\n",
       "        vertical-align: middle;\n",
       "    }\n",
       "\n",
       "    .dataframe tbody tr th {\n",
       "        vertical-align: top;\n",
       "    }\n",
       "\n",
       "    .dataframe thead th {\n",
       "        text-align: right;\n",
       "    }\n",
       "</style>\n",
       "<table border=\"1\" class=\"dataframe\">\n",
       "  <thead>\n",
       "    <tr style=\"text-align: right;\">\n",
       "      <th></th>\n",
       "      <th>Mean</th>\n",
       "      <th>std</th>\n",
       "      <th>Variance</th>\n",
       "      <th>Skewness</th>\n",
       "      <th>Entropy</th>\n",
       "      <th>RMS</th>\n",
       "      <th>Kurtios</th>\n",
       "      <th>HMI1</th>\n",
       "      <th>HMI2</th>\n",
       "      <th>HMI3</th>\n",
       "      <th>...</th>\n",
       "      <th>homogeneity4</th>\n",
       "      <th>energy1</th>\n",
       "      <th>energy2</th>\n",
       "      <th>energy3</th>\n",
       "      <th>energy4</th>\n",
       "      <th>correlation1</th>\n",
       "      <th>correlation2</th>\n",
       "      <th>correlation3</th>\n",
       "      <th>correlation4</th>\n",
       "      <th>Class</th>\n",
       "    </tr>\n",
       "  </thead>\n",
       "  <tbody>\n",
       "    <tr>\n",
       "      <th>0</th>\n",
       "      <td>56.681144</td>\n",
       "      <td>79.743492</td>\n",
       "      <td>6359.024498</td>\n",
       "      <td>1.291628</td>\n",
       "      <td>4.222218</td>\n",
       "      <td>6.189814</td>\n",
       "      <td>0.554260</td>\n",
       "      <td>2.838741</td>\n",
       "      <td>7.015589</td>\n",
       "      <td>11.773509</td>\n",
       "      <td>...</td>\n",
       "      <td>0.444178</td>\n",
       "      <td>0.264679</td>\n",
       "      <td>0.255574</td>\n",
       "      <td>0.271262</td>\n",
       "      <td>0.256515</td>\n",
       "      <td>0.950466</td>\n",
       "      <td>0.938164</td>\n",
       "      <td>0.961990</td>\n",
       "      <td>0.937776</td>\n",
       "      <td>0</td>\n",
       "    </tr>\n",
       "    <tr>\n",
       "      <th>1</th>\n",
       "      <td>57.081780</td>\n",
       "      <td>47.936449</td>\n",
       "      <td>2297.903123</td>\n",
       "      <td>0.680044</td>\n",
       "      <td>6.105423</td>\n",
       "      <td>9.747268</td>\n",
       "      <td>-0.904191</td>\n",
       "      <td>2.842497</td>\n",
       "      <td>7.755364</td>\n",
       "      <td>11.051098</td>\n",
       "      <td>...</td>\n",
       "      <td>0.472436</td>\n",
       "      <td>0.397531</td>\n",
       "      <td>0.392872</td>\n",
       "      <td>0.402578</td>\n",
       "      <td>0.392745</td>\n",
       "      <td>0.881808</td>\n",
       "      <td>0.857369</td>\n",
       "      <td>0.907018</td>\n",
       "      <td>0.860329</td>\n",
       "      <td>0</td>\n",
       "    </tr>\n",
       "    <tr>\n",
       "      <th>2</th>\n",
       "      <td>29.245408</td>\n",
       "      <td>38.499349</td>\n",
       "      <td>1482.199897</td>\n",
       "      <td>0.751134</td>\n",
       "      <td>3.975813</td>\n",
       "      <td>7.177204</td>\n",
       "      <td>-1.231857</td>\n",
       "      <td>2.697422</td>\n",
       "      <td>7.582266</td>\n",
       "      <td>10.132647</td>\n",
       "      <td>...</td>\n",
       "      <td>0.244510</td>\n",
       "      <td>0.064213</td>\n",
       "      <td>0.060488</td>\n",
       "      <td>0.066614</td>\n",
       "      <td>0.060517</td>\n",
       "      <td>0.924454</td>\n",
       "      <td>0.899439</td>\n",
       "      <td>0.945721</td>\n",
       "      <td>0.898244</td>\n",
       "      <td>0</td>\n",
       "    </tr>\n",
       "    <tr>\n",
       "      <th>3</th>\n",
       "      <td>50.539923</td>\n",
       "      <td>57.317611</td>\n",
       "      <td>3285.308586</td>\n",
       "      <td>1.992440</td>\n",
       "      <td>6.159680</td>\n",
       "      <td>11.159507</td>\n",
       "      <td>3.412302</td>\n",
       "      <td>2.619346</td>\n",
       "      <td>7.517582</td>\n",
       "      <td>11.172308</td>\n",
       "      <td>...</td>\n",
       "      <td>0.501064</td>\n",
       "      <td>0.304583</td>\n",
       "      <td>0.295839</td>\n",
       "      <td>0.310390</td>\n",
       "      <td>0.295836</td>\n",
       "      <td>0.903205</td>\n",
       "      <td>0.877960</td>\n",
       "      <td>0.921479</td>\n",
       "      <td>0.879440</td>\n",
       "      <td>0</td>\n",
       "    </tr>\n",
       "    <tr>\n",
       "      <th>4</th>\n",
       "      <td>29.926339</td>\n",
       "      <td>52.966868</td>\n",
       "      <td>2805.489070</td>\n",
       "      <td>2.501142</td>\n",
       "      <td>4.874646</td>\n",
       "      <td>7.413451</td>\n",
       "      <td>5.950644</td>\n",
       "      <td>2.483199</td>\n",
       "      <td>7.457868</td>\n",
       "      <td>9.281168</td>\n",
       "      <td>...</td>\n",
       "      <td>0.512756</td>\n",
       "      <td>0.404275</td>\n",
       "      <td>0.381825</td>\n",
       "      <td>0.421123</td>\n",
       "      <td>0.409811</td>\n",
       "      <td>0.900932</td>\n",
       "      <td>0.856400</td>\n",
       "      <td>0.937271</td>\n",
       "      <td>0.912609</td>\n",
       "      <td>0</td>\n",
       "    </tr>\n",
       "  </tbody>\n",
       "</table>\n",
       "<p>5 rows × 40 columns</p>\n",
       "</div>"
      ],
      "text/plain": [
       "        Mean        std     Variance  Skewness   Entropy        RMS   Kurtios  \\\n",
       "0  56.681144  79.743492  6359.024498  1.291628  4.222218   6.189814  0.554260   \n",
       "1  57.081780  47.936449  2297.903123  0.680044  6.105423   9.747268 -0.904191   \n",
       "2  29.245408  38.499349  1482.199897  0.751134  3.975813   7.177204 -1.231857   \n",
       "3  50.539923  57.317611  3285.308586  1.992440  6.159680  11.159507  3.412302   \n",
       "4  29.926339  52.966868  2805.489070  2.501142  4.874646   7.413451  5.950644   \n",
       "\n",
       "       HMI1      HMI2       HMI3  ...  homogeneity4   energy1   energy2  \\\n",
       "0  2.838741  7.015589  11.773509  ...      0.444178  0.264679  0.255574   \n",
       "1  2.842497  7.755364  11.051098  ...      0.472436  0.397531  0.392872   \n",
       "2  2.697422  7.582266  10.132647  ...      0.244510  0.064213  0.060488   \n",
       "3  2.619346  7.517582  11.172308  ...      0.501064  0.304583  0.295839   \n",
       "4  2.483199  7.457868   9.281168  ...      0.512756  0.404275  0.381825   \n",
       "\n",
       "    energy3   energy4  correlation1  correlation2  correlation3  correlation4  \\\n",
       "0  0.271262  0.256515      0.950466      0.938164      0.961990      0.937776   \n",
       "1  0.402578  0.392745      0.881808      0.857369      0.907018      0.860329   \n",
       "2  0.066614  0.060517      0.924454      0.899439      0.945721      0.898244   \n",
       "3  0.310390  0.295836      0.903205      0.877960      0.921479      0.879440   \n",
       "4  0.421123  0.409811      0.900932      0.856400      0.937271      0.912609   \n",
       "\n",
       "   Class  \n",
       "0      0  \n",
       "1      0  \n",
       "2      0  \n",
       "3      0  \n",
       "4      0  \n",
       "\n",
       "[5 rows x 40 columns]"
      ]
     },
     "execution_count": 20,
     "metadata": {},
     "output_type": "execute_result"
    }
   ],
   "source": [
    "data_test.head()"
   ]
  },
  {
   "cell_type": "code",
   "execution_count": 21,
   "metadata": {},
   "outputs": [],
   "source": [
    "import warnings\n",
    "warnings.filterwarnings(\"ignore\")"
   ]
  },
  {
   "cell_type": "code",
   "execution_count": 22,
   "metadata": {},
   "outputs": [],
   "source": [
    "# df = df.dropna()\n",
    "\n",
    "missing_data = ['Area', 'Perimeter', 'Circle', 'Convex Area', 'Solidity', 'Equivalent Diameter', 'Major Axis', 'Minor Axis']\n",
    "for i in missing_data:\n",
    "    fill_list = data_train[i].dropna().tolist()\n",
    "    data_train [i] = data_train[i].fillna(pd.Series(np.random.choice(fill_list , size = len(data_train.index))))\n",
    "# data_train.isnull().sum()"
   ]
  },
  {
   "cell_type": "code",
   "execution_count": 23,
   "metadata": {},
   "outputs": [],
   "source": [
    "# df = df.dropna()\n",
    "\n",
    "missing_data = ['Area', 'Perimeter', 'Circle', 'Convex Area', 'Solidity', 'Equivalent Diameter', 'Major Axis', 'Minor Axis']\n",
    "for i in missing_data:\n",
    "    fill_list = data_test[i].dropna().tolist()\n",
    "    data_test[i] = data_test[i].fillna(pd.Series(np.random.choice(fill_list , size = len(data_test.index))))\n",
    "# data_test.isnull().sum()"
   ]
  },
  {
   "cell_type": "code",
   "execution_count": 24,
   "metadata": {},
   "outputs": [],
   "source": [
    "X = data_train.drop(columns=[\"Class\"])\n",
    "y = data_train[\"Class\"]\n",
    "Xt = data_test.drop(columns=[\"Class\"])\n",
    "yt = data_test[\"Class\"]"
   ]
  },
  {
   "cell_type": "code",
   "execution_count": 25,
   "metadata": {},
   "outputs": [],
   "source": [
    "# import random\n",
    "# Xt = random.shuffle(Xt)"
   ]
  },
  {
   "attachments": {},
   "cell_type": "markdown",
   "metadata": {},
   "source": [
    "## feature selection"
   ]
  },
  {
   "cell_type": "code",
   "execution_count": 26,
   "metadata": {},
   "outputs": [],
   "source": [
    "from sklearn.feature_selection import SelectKBest, mutual_info_classif\n",
    "\n",
    "# Initialize the feature selector\n",
    "k_best = SelectKBest(score_func=mutual_info_classif, k=25)  # Select the top 2 features based on mutual information\n",
    "\n",
    "feature_names = ['Mean', 'std', 'Variance','Skewness','Entropy', 'RMS', 'Kurtios', 'HMI1', 'HMI2', 'HMI3',\n",
    "       'HMI4', 'Area', 'Perimeter', 'Circle', 'Convex Area', 'Solidity',\n",
    "       'Equivalent Diameter', 'Major Axis', 'Minor Axis', 'contrast1',\n",
    "       'contrast2', 'contrast3', 'contrast4', 'dissimilarity1',\n",
    "       'dissimilarity2', 'dissimilarity3', 'dissimilarity4', 'homogeneity1',\n",
    "       'homogeneity2', 'homogeneity3', 'homogeneity4', 'energy1', 'energy2',\n",
    "       'energy3', 'energy4', 'correlation1', 'correlation2', 'correlation3',\n",
    "       'correlation4']\n",
    "\n",
    "# Apply feature selection to the data\n",
    "X_selected = k_best.fit_transform(X, y)\n",
    "\n",
    "# Get the selected feature indices and scores\n",
    "selected_indices = k_best.get_support(indices=True)\n",
    "selected_scores = k_best.scores_\n",
    "\n",
    "# Sort the features based on scores in ascending order\n",
    "sorted_features = sorted(zip(selected_indices, selected_scores), key=lambda x: x[1], reverse=True)\n",
    "X_select = pd.DataFrame()\n",
    "# Print the top 20 features in ascending order\n",
    "ll=[]\n",
    "for idx, score in sorted_features[:25]:\n",
    "    ll.append(feature_names[idx])\n",
    "#     print(f\"Feature {feature_names[idx]}: Score {score}\")"
   ]
  },
  {
   "attachments": {},
   "cell_type": "markdown",
   "metadata": {},
   "source": [
    "## select best features only"
   ]
  },
  {
   "cell_type": "code",
   "execution_count": 27,
   "metadata": {},
   "outputs": [],
   "source": [
    "X_select = X[ll]\n",
    "Xt_select = Xt[ll]"
   ]
  },
  {
   "attachments": {},
   "cell_type": "markdown",
   "metadata": {},
   "source": [
    "# models with whole dataset"
   ]
  },
  {
   "cell_type": "code",
   "execution_count": 28,
   "metadata": {},
   "outputs": [],
   "source": [
    "from sklearn.model_selection import train_test_split\n",
    "X_train,X_val,y_train,y_val = train_test_split(X,y,test_size=0.2,random_state=42)"
   ]
  },
  {
   "attachments": {},
   "cell_type": "markdown",
   "metadata": {},
   "source": [
    "## RF"
   ]
  },
  {
   "cell_type": "code",
   "execution_count": 29,
   "metadata": {},
   "outputs": [],
   "source": [
    "from sklearn.ensemble import RandomForestClassifier\n",
    "rf_clf = RandomForestClassifier()\n",
    "# Fit the parameters before oversampling:\n",
    "rf_clf.fit(X_train, y_train)\n",
    "# print(f\"Train Acc of Random Forest : {rf_clf.score(X_train,y_train)}\")\n",
    "# print(f\"Validation Acc of Random Forest : {rf_clf.score(X_val,y_val)}\")\n",
    "# print(f\"Test Acc of Random Forest : {rf_clf.score(Xt,yt) }\")\n",
    "accs.append([rf_clf.score(X_train,y_train),rf_clf.score(X_val,y_val),rf_clf.score(Xt,yt)])"
   ]
  },
  {
   "attachments": {},
   "cell_type": "markdown",
   "metadata": {},
   "source": [
    "## SVM"
   ]
  },
  {
   "cell_type": "code",
   "execution_count": 30,
   "metadata": {},
   "outputs": [],
   "source": [
    "from sklearn.svm import SVC\n",
    "clf1 = SVC(kernel='rbf')\n",
    "clf1.fit(X_train, y_train)\n",
    "# print(f\"Train Acc of SVM : {clf1.score(X_train,y_train)}\")\n",
    "# print(f\"Validation Acc of SVM : {clf1.score(X_val,y_val)}\")\n",
    "# print(f\"Test Acc of SVM : {clf1.score(Xt,yt) }\")\n",
    "accs.append([clf1.score(X_train,y_train),clf1.score(X_val,y_val),clf1.score(Xt,yt)])"
   ]
  },
  {
   "attachments": {},
   "cell_type": "markdown",
   "metadata": {},
   "source": [
    "## KNN"
   ]
  },
  {
   "cell_type": "code",
   "execution_count": 31,
   "metadata": {},
   "outputs": [],
   "source": [
    "from sklearn.neighbors import KNeighborsClassifier\n",
    "\n",
    "# create KNeighborsClassifier with 7 neighbors \n",
    "knn = KNeighborsClassifier(n_neighbors=10)\n",
    "# Fit the data to knn model\n",
    "knn.fit(X_train,y_train)\n",
    "# print(f\"Train acc of KNN: {knn.score(X_train,y_train)}\")\n",
    "# print(f\"Validation Acc of KNN : {knn.score(X_val,y_val)}\")\n",
    "# print(f\"Test Acc of KNN : {knn.score(Xt,yt) }\")\n",
    "accs.append([knn.score(X_train,y_train),knn.score(X_val,y_val),knn.score(Xt,yt)])"
   ]
  },
  {
   "attachments": {},
   "cell_type": "markdown",
   "metadata": {},
   "source": [
    "## XGBoost"
   ]
  },
  {
   "cell_type": "code",
   "execution_count": 32,
   "metadata": {},
   "outputs": [],
   "source": [
    "## make xgboost classifier\n",
    "from xgboost import XGBClassifier\n",
    "xgb = XGBClassifier()\n",
    "xgb.fit(X_train,y_train)\n",
    "# print(f\"Train acc of XGBoost: {xgb.score(X_train,y_train)}\")\n",
    "# print(f\"Validation Acc of XGBoost : {xgb.score(X_val,y_val)}\")\n",
    "# print(f\"Test Acc of XGBoost : {xgb.score(Xt,yt) }\")\n",
    "accs.append([xgb.score(X_train,y_train),xgb.score(X_val,y_val),xgb.score(Xt,yt)])"
   ]
  },
  {
   "attachments": {},
   "cell_type": "markdown",
   "metadata": {},
   "source": [
    "## PCA and StandardScaler"
   ]
  },
  {
   "cell_type": "code",
   "execution_count": 33,
   "metadata": {},
   "outputs": [],
   "source": [
    "from sklearn.decomposition import PCA\n",
    "from sklearn.preprocessing import StandardScaler\n",
    "pca_m = PCA(n_components=39)\n",
    "\n",
    "new_X = pca_m.fit_transform(X)\n",
    "# scaler = StandardScaler()\n",
    "# new_X = scaler.fit_transform(new_X)\n",
    "\n",
    "new_Xt = pca_m.fit_transform(Xt)\n",
    "# scaler = StandardScaler()\n",
    "# new_Xt = scaler.fit_transform(new_Xt)"
   ]
  },
  {
   "attachments": {},
   "cell_type": "markdown",
   "metadata": {},
   "source": [
    "## split data after pca and scaler"
   ]
  },
  {
   "cell_type": "code",
   "execution_count": 34,
   "metadata": {},
   "outputs": [],
   "source": [
    "X_trainn,X_valn,y_trainn,y_valn = train_test_split(new_X,y,test_size=0.2,random_state=42)"
   ]
  },
  {
   "attachments": {},
   "cell_type": "markdown",
   "metadata": {},
   "source": [
    "## RF PCA"
   ]
  },
  {
   "cell_type": "code",
   "execution_count": 35,
   "metadata": {},
   "outputs": [],
   "source": [
    "from sklearn.ensemble import RandomForestClassifier\n",
    "rf_clf2 = RandomForestClassifier()\n",
    "# Fit the parameters before oversampling:\n",
    "rf_clf2.fit(X_trainn, y_trainn)\n",
    "# print(f\"Train Acc of Random Forest PCA : {rf_clf2.score(X_trainn,y_trainn)}\")\n",
    "# print(f\"Validation Acc of Random Forest PCA  : {rf_clf2.score(X_valn,y_valn)}\")\n",
    "# print(f\"Test Acc of Random Forest PCA  : {rf_clf2.score(new_Xt,yt) }\")\n",
    "accs.append([rf_clf2.score(X_trainn,y_trainn),rf_clf2.score(X_valn,y_valn),rf_clf2.score(new_Xt,yt)])"
   ]
  },
  {
   "attachments": {},
   "cell_type": "markdown",
   "metadata": {},
   "source": [
    "## SVM PCA"
   ]
  },
  {
   "cell_type": "code",
   "execution_count": 36,
   "metadata": {},
   "outputs": [],
   "source": [
    "from sklearn.svm import SVC\n",
    "clf2 = SVC(kernel='rbf')\n",
    "clf2.fit(X_trainn, y_trainn)\n",
    "\n",
    "# print(f\"Train Acc of SVM PCA : {clf2.score(X_trainn,y_trainn)}\")\n",
    "# print(f\"Validation Acc of SVM PCA  : {clf2.score(X_valn,y_valn)}\")\n",
    "# print(f\"Test Acc of SVM PCA  : {clf2.score(new_Xt,yt) }\")\n",
    "accs.append([clf2.score(X_trainn,y_trainn),clf2.score(X_valn,y_valn),clf2.score(new_Xt,yt)])"
   ]
  },
  {
   "attachments": {},
   "cell_type": "markdown",
   "metadata": {},
   "source": [
    "## KNN PCA"
   ]
  },
  {
   "cell_type": "code",
   "execution_count": 37,
   "metadata": {},
   "outputs": [],
   "source": [
    "knn2 = KNeighborsClassifier(n_neighbors=10)\n",
    "# Fit the data to knn model\n",
    "knn2.fit(X_trainn,y_trainn)\n",
    "# print(f\"Train acc of KNN PCA : {knn2.score(X_trainn,y_trainn)}\")\n",
    "# print(f\"Validation Acc of KNN PCA  : {knn2.score(X_valn,y_valn)}\")\n",
    "# print(f\"Test Acc of KNN PCA  : {knn2.score(new_Xt,yt) }\")\n",
    "accs.append([knn2.score(X_trainn,y_trainn),knn2.score(X_valn,y_valn),knn2.score(new_Xt,yt)])"
   ]
  },
  {
   "attachments": {},
   "cell_type": "markdown",
   "metadata": {},
   "source": [
    "## XGBoost PCA"
   ]
  },
  {
   "cell_type": "code",
   "execution_count": 38,
   "metadata": {},
   "outputs": [],
   "source": [
    "## make xgboost classifier\n",
    "\n",
    "xgb2 = XGBClassifier()\n",
    "xgb2.fit(X_trainn,y_trainn)\n",
    "# print(f\"Train acc of XGBoost PCA : {xgb2.score(X_trainn,y_trainn)}\")\n",
    "# print(f\"Validation Acc of XGBoost PCA  : {xgb2.score(X_valn,y_valn)}\")\n",
    "# print(f\"Test Acc of XGBoost PCA  : {xgb2.score(new_Xt,yt) }\")\n",
    "accs.append([xgb2.score(X_trainn,y_trainn),xgb2.score(X_valn,y_valn),xgb2.score(new_Xt,yt)])"
   ]
  },
  {
   "attachments": {},
   "cell_type": "markdown",
   "metadata": {},
   "source": [
    "# selected features"
   ]
  },
  {
   "cell_type": "code",
   "execution_count": 39,
   "metadata": {},
   "outputs": [],
   "source": [
    "from sklearn.model_selection import train_test_split\n",
    "X_train,X_val,y_train,y_val = train_test_split(X_select,y,test_size=0.2,random_state=42)"
   ]
  },
  {
   "attachments": {},
   "cell_type": "markdown",
   "metadata": {},
   "source": [
    "## RF Selected"
   ]
  },
  {
   "cell_type": "code",
   "execution_count": 40,
   "metadata": {},
   "outputs": [],
   "source": [
    "from sklearn.ensemble import RandomForestClassifier\n",
    "rf_clf = RandomForestClassifier()\n",
    "# Fit the parameters before oversampling:\n",
    "rf_clf.fit(X_train, y_train)\n",
    "# print(f\"Train Acc of Random Forest : {rf_clf.score(X_train,y_train)}\")\n",
    "# # rf_clf.score(X_test,y_test)\n",
    "# print(f\"Validation Acc of Random Forest PCA  : {rf_clf.score(X_val,y_val)}\")\n",
    "# print(f\"Test Acc of Random Forest PCA  : {rf_clf.score(Xt_select,yt) }\")\n",
    "accs.append([rf_clf.score(X_train,y_train),rf_clf.score(X_val,y_val),rf_clf.score(Xt_select,yt)])"
   ]
  },
  {
   "attachments": {},
   "cell_type": "markdown",
   "metadata": {},
   "source": [
    "## SVM Selected"
   ]
  },
  {
   "cell_type": "code",
   "execution_count": 41,
   "metadata": {},
   "outputs": [],
   "source": [
    "from sklearn.svm import SVC\n",
    "clf1 = SVC(kernel='rbf')\n",
    "clf1.fit(X_train, y_train)\n",
    "# print(f\"Train Acc of SVM : {clf1.score(X_train,y_train)}\")\n",
    "# print(f\"Validation Acc of SVM  : {clf1.score(X_val,y_val)}\")\n",
    "# print(f\"Test Acc of SVM  : {clf1.score(Xt_select,yt) }\")\n",
    "accs.append([clf1.score(X_train,y_train),clf1.score(X_val,y_val),clf1.score(Xt_select,yt)])"
   ]
  },
  {
   "attachments": {},
   "cell_type": "markdown",
   "metadata": {},
   "source": [
    "## KNN Selected"
   ]
  },
  {
   "cell_type": "code",
   "execution_count": 42,
   "metadata": {},
   "outputs": [],
   "source": [
    "from sklearn.neighbors import KNeighborsClassifier\n",
    "\n",
    "# create KNeighborsClassifier with 7 neighbors \n",
    "knn = KNeighborsClassifier(n_neighbors=10)\n",
    "# Fit the data to knn model\n",
    "knn.fit(X_train,y_train)\n",
    "# print(f\"Train acc of KNN: {knn.score(X_train,y_train)}\")\n",
    "# print(f\"Validation Acc of KNN  : {knn.score(X_val,y_val)}\")\n",
    "# print(f\"Test Acc of KNN  : {knn.score(Xt_select,yt) }\")\n",
    "accs.append([knn.score(X_train,y_train),knn.score(X_val,y_val),knn.score(Xt_select,yt)])"
   ]
  },
  {
   "attachments": {},
   "cell_type": "markdown",
   "metadata": {},
   "source": [
    "## XGBoost Selected"
   ]
  },
  {
   "cell_type": "code",
   "execution_count": 43,
   "metadata": {},
   "outputs": [],
   "source": [
    "## make xgboost classifier\n",
    "\n",
    "xgb = XGBClassifier()\n",
    "xgb.fit(X_train,y_train)\n",
    "# print(f\"Train acc of XGBoost : {xgb.score(X_train,y_train)}\")\n",
    "# print(f\"Validation Acc of XGBoost  : {xgb.score(X_val,y_val)}\")\n",
    "# print(f\"Test Acc of XGBoost  : {xgb.score(Xt_select,yt) }\")\n",
    "accs.append([xgb.score(X_train,y_train),xgb.score(X_val,y_val),xgb.score(Xt_select,yt)])"
   ]
  },
  {
   "attachments": {},
   "cell_type": "markdown",
   "metadata": {},
   "source": [
    "## With PCA and StandardScaler"
   ]
  },
  {
   "cell_type": "code",
   "execution_count": 44,
   "metadata": {},
   "outputs": [],
   "source": [
    "from sklearn.decomposition import PCA\n",
    "from sklearn.preprocessing import StandardScaler\n",
    "pca_m = PCA(n_components=25)\n",
    "\n",
    "new_X = pca_m.fit_transform(X_select)\n",
    "scaler = StandardScaler()\n",
    "new_X = scaler.fit_transform(X)\n",
    "\n",
    "new_Xt = pca_m.fit_transform(Xt_select)\n",
    "scaler = StandardScaler()\n",
    "new_Xt = scaler.fit_transform(Xt)"
   ]
  },
  {
   "attachments": {},
   "cell_type": "markdown",
   "metadata": {},
   "source": [
    "## Split Selected"
   ]
  },
  {
   "cell_type": "code",
   "execution_count": 45,
   "metadata": {},
   "outputs": [],
   "source": [
    "X_trainn,X_valn,y_trainn,y_valn = train_test_split(new_X,y,test_size=0.2,random_state=42)"
   ]
  },
  {
   "attachments": {},
   "cell_type": "markdown",
   "metadata": {},
   "source": [
    "## RF Selected PCA"
   ]
  },
  {
   "cell_type": "code",
   "execution_count": 46,
   "metadata": {},
   "outputs": [],
   "source": [
    "from sklearn.ensemble import RandomForestClassifier\n",
    "rf_clf2 = RandomForestClassifier()\n",
    "# Fit the parameters before oversampling:\n",
    "rf_clf2.fit(X_trainn, y_trainn)\n",
    "# print(f\"Train Acc of Random Forest PCA : {rf_clf2.score(X_trainn,y_trainn)}\")\n",
    "# print(f\"Validation Acc of Random Forest PCA : {rf_clf2.score(X_valn,y_valn)}\")\n",
    "# print(f\"Test Acc of Random Forest PCA  : {rf_clf2.score(new_Xt,yt) }\")\n",
    "accs.append([rf_clf2.score(X_trainn,y_trainn),rf_clf2.score(X_valn,y_valn),rf_clf2.score(new_Xt,yt)])"
   ]
  },
  {
   "attachments": {},
   "cell_type": "markdown",
   "metadata": {},
   "source": [
    "## SVM Selected PCA"
   ]
  },
  {
   "cell_type": "code",
   "execution_count": 47,
   "metadata": {},
   "outputs": [],
   "source": [
    "from sklearn.svm import SVC\n",
    "clf2 = SVC(kernel='rbf')\n",
    "clf2.fit(X_trainn, y_trainn)\n",
    "\n",
    "# print(f\"Train Acc of SVM PCA : {clf2.score(X_trainn,y_trainn)}\")\n",
    "# print(f\"Validation Acc of SVM PCA : {clf2.score(X_valn,y_valn)}\")\n",
    "# print(f\"Test Acc of SVM PCA  : {clf2.score(new_Xt,yt) }\")\n",
    "accs.append([clf2.score(X_trainn,y_trainn),clf2.score(X_valn,y_valn),clf2.score(new_Xt,yt)])"
   ]
  },
  {
   "attachments": {},
   "cell_type": "markdown",
   "metadata": {},
   "source": [
    "## KNN Selected PCA"
   ]
  },
  {
   "cell_type": "code",
   "execution_count": 48,
   "metadata": {},
   "outputs": [],
   "source": [
    "knn2 = KNeighborsClassifier(n_neighbors=10)\n",
    "# Fit the data to knn model\n",
    "knn2.fit(X_trainn,y_trainn)\n",
    "# print(f\"Train acc of KNN PCA : {knn2.score(X_trainn,y_trainn)}\")\n",
    "# print(f\"Validation Acc of KNN PCA : {knn2.score(X_valn,y_valn)}\")\n",
    "# print(f\"Test Acc of KNN PCA  : {knn2.score(new_Xt,yt) }\")\n",
    "accs.append([knn2.score(X_trainn,y_trainn),knn2.score(X_valn,y_valn),knn2.score(new_Xt,yt)])"
   ]
  },
  {
   "attachments": {},
   "cell_type": "markdown",
   "metadata": {},
   "source": [
    "## XGBoost Selected PCA"
   ]
  },
  {
   "cell_type": "code",
   "execution_count": 49,
   "metadata": {},
   "outputs": [],
   "source": [
    "## make xgboost classifier\n",
    "xgb2 = XGBClassifier()\n",
    "xgb2.fit(X_trainn,y_trainn)\n",
    "# print(f\"Train acc of XGBoost PCA : {xgb2.score(X_trainn,y_trainn)}\")\n",
    "# print(f\"Validation Acc of XGBoost PCA : {xgb2.score(X_valn,y_valn)}\")\n",
    "# print(f\"Test Acc of XGBoost PCA  : {xgb2.score(new_Xt,yt) }\")\n",
    "accs.append([xgb2.score(X_trainn,y_trainn),xgb2.score(X_valn,y_valn),xgb2.score(new_Xt,yt)])"
   ]
  },
  {
   "cell_type": "code",
   "execution_count": 50,
   "metadata": {},
   "outputs": [
    {
     "name": "stdout",
     "output_type": "stream",
     "text": [
      "        train|valid|test\n",
      "  RF      |1.0  | 0.89| 0.89\n",
      "  SVM     |0.52  | 0.53| 0.48\n",
      "  KNN     |0.66  | 0.62| 0.58\n",
      " Xgbost   |1.0  | 0.91| 0.91\n",
      "RF PCA    |1.0  | 0.9| 0.43\n",
      "SVM PCA   |0.55  | 0.54| 0.48\n",
      "KNN PCA   |0.66  | 0.62| 0.52\n",
      "Xgbost PCA|1.0  | 0.92| 0.44\n",
      "================after feature selection================\n",
      "  RF     |1.0  | 0.9| 0.89\n",
      "  SVM    |0.62  | 0.61| 0.58\n",
      "  KNN    |0.75  | 0.69| 0.66\n",
      " Xgbost  |1.0  | 0.9| 0.9\n",
      "RF PCA   |1.0  | 0.89| 0.82\n",
      "SVM PCA  |0.88  | 0.85| 0.82\n",
      "KNN PCA  |0.86  | 0.83| 0.8\n",
      "Xgbost PCA|1.0  | 0.91| 0.86\n"
     ]
    }
   ],
   "source": [
    "print(\"        train|valid|test\")\n",
    "## make float 2 digits only\n",
    "accs = np.array(accs)\n",
    "accs = np.around(accs,decimals=2)\n",
    "print(f\"  RF      |{accs[0][0]}  | {accs[0][1]}| {accs[0][2]}\")\n",
    "print(f\"  SVM     |{accs[1][0]}  | {accs[1][1]}| {accs[1][2]}\")\n",
    "print(f\"  KNN     |{accs[2][0]}  | {accs[2][1]}| {accs[2][2]}\")\n",
    "print(f\" Xgbost   |{accs[3][0]}  | {accs[3][1]}| {accs[3][2]}\")\n",
    "print(f\"RF PCA    |{accs[4][0]}  | {accs[4][1]}| {accs[4][2]}\")\n",
    "print(f\"SVM PCA   |{accs[5][0]}  | {accs[5][1]}| {accs[5][2]}\")\n",
    "print(f\"KNN PCA   |{accs[6][0]}  | {accs[6][1]}| {accs[6][2]}\")\n",
    "print(f\"Xgbost PCA|{accs[7][0]}  | {accs[7][1]}| {accs[7][2]}\")\n",
    "print(\"================after feature selection================\")\n",
    "print(f\"  RF     |{accs[8][0]}  | {accs[8][1]}| {accs[8][2]}\")\n",
    "print(f\"  SVM    |{accs[9][0]}  | {accs[9][1]}| {accs[9][2]}\")\n",
    "print(f\"  KNN    |{accs[10][0]}  | {accs[10][1]}| {accs[10][2]}\")\n",
    "print(f\" Xgbost  |{accs[11][0]}  | {accs[11][1]}| {accs[11][2]}\")\n",
    "print(f\"RF PCA   |{accs[12][0]}  | {accs[12][1]}| {accs[12][2]}\")\n",
    "print(f\"SVM PCA  |{accs[13][0]}  | {accs[13][1]}| {accs[13][2]}\")\n",
    "print(f\"KNN PCA  |{accs[14][0]}  | {accs[14][1]}| {accs[14][2]}\")\n",
    "print(f\"Xgbost PCA|{accs[15][0]}  | {accs[15][1]}| {accs[15][2]}\")"
   ]
  }
 ],
 "metadata": {
  "kernelspec": {
   "display_name": "Python 3 (ipykernel)",
   "language": "python",
   "name": "python3"
  },
  "language_info": {
   "codemirror_mode": {
    "name": "ipython",
    "version": 3
   },
   "file_extension": ".py",
   "mimetype": "text/x-python",
   "name": "python",
   "nbconvert_exporter": "python",
   "pygments_lexer": "ipython3",
   "version": "3.8.3"
  }
 },
 "nbformat": 4,
 "nbformat_minor": 2
}
