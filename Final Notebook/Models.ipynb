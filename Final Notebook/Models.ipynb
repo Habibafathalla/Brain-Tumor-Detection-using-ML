{
 "cells": [
  {
   "cell_type": "code",
   "execution_count": 1,
   "metadata": {},
   "outputs": [],
   "source": [
    "import os\n",
    "import numpy as np\n",
    "import pandas as pd\n",
    "import matplotlib.pyplot as plt\n",
    "%matplotlib inline\n",
    "import cv2"
   ]
  },
  {
   "cell_type": "code",
   "execution_count": 2,
   "metadata": {},
   "outputs": [],
   "source": [
    "df = pd.read_csv('../new_featured_dataset.csv')"
   ]
  },
  {
   "cell_type": "code",
   "execution_count": 3,
   "metadata": {},
   "outputs": [
    {
     "data": {
      "text/html": [
       "<div>\n",
       "<style scoped>\n",
       "    .dataframe tbody tr th:only-of-type {\n",
       "        vertical-align: middle;\n",
       "    }\n",
       "\n",
       "    .dataframe tbody tr th {\n",
       "        vertical-align: top;\n",
       "    }\n",
       "\n",
       "    .dataframe thead th {\n",
       "        text-align: right;\n",
       "    }\n",
       "</style>\n",
       "<table border=\"1\" class=\"dataframe\">\n",
       "  <thead>\n",
       "    <tr style=\"text-align: right;\">\n",
       "      <th></th>\n",
       "      <th>Mean</th>\n",
       "      <th>std</th>\n",
       "      <th>Entropy</th>\n",
       "      <th>RMS</th>\n",
       "      <th>Kurtios</th>\n",
       "      <th>HMI1</th>\n",
       "      <th>HMI2</th>\n",
       "      <th>HMI3</th>\n",
       "      <th>HMI4</th>\n",
       "      <th>Area</th>\n",
       "      <th>...</th>\n",
       "      <th>homogeneity4</th>\n",
       "      <th>energy1</th>\n",
       "      <th>energy2</th>\n",
       "      <th>energy3</th>\n",
       "      <th>energy4</th>\n",
       "      <th>correlation1</th>\n",
       "      <th>correlation2</th>\n",
       "      <th>correlation3</th>\n",
       "      <th>correlation4</th>\n",
       "      <th>Class</th>\n",
       "    </tr>\n",
       "  </thead>\n",
       "  <tbody>\n",
       "    <tr>\n",
       "      <th>0</th>\n",
       "      <td>55.212544</td>\n",
       "      <td>46.056565</td>\n",
       "      <td>5.375762</td>\n",
       "      <td>9.302612</td>\n",
       "      <td>-0.628678</td>\n",
       "      <td>2.752905</td>\n",
       "      <td>8.030957</td>\n",
       "      <td>11.070417</td>\n",
       "      <td>11.550219</td>\n",
       "      <td>10522.700000</td>\n",
       "      <td>...</td>\n",
       "      <td>0.513325</td>\n",
       "      <td>0.177499</td>\n",
       "      <td>0.172328</td>\n",
       "      <td>0.180325</td>\n",
       "      <td>0.171641</td>\n",
       "      <td>0.969317</td>\n",
       "      <td>0.959636</td>\n",
       "      <td>0.974818</td>\n",
       "      <td>0.958198</td>\n",
       "      <td>0</td>\n",
       "    </tr>\n",
       "    <tr>\n",
       "      <th>1</th>\n",
       "      <td>76.037273</td>\n",
       "      <td>79.565990</td>\n",
       "      <td>5.781641</td>\n",
       "      <td>7.635726</td>\n",
       "      <td>-0.877843</td>\n",
       "      <td>2.904895</td>\n",
       "      <td>7.803627</td>\n",
       "      <td>12.448359</td>\n",
       "      <td>12.308773</td>\n",
       "      <td>4735.000000</td>\n",
       "      <td>...</td>\n",
       "      <td>0.432991</td>\n",
       "      <td>0.230150</td>\n",
       "      <td>0.221221</td>\n",
       "      <td>0.232777</td>\n",
       "      <td>0.221043</td>\n",
       "      <td>0.969677</td>\n",
       "      <td>0.958555</td>\n",
       "      <td>0.973180</td>\n",
       "      <td>0.957760</td>\n",
       "      <td>0</td>\n",
       "    </tr>\n",
       "    <tr>\n",
       "      <th>2</th>\n",
       "      <td>53.652053</td>\n",
       "      <td>59.587603</td>\n",
       "      <td>4.946379</td>\n",
       "      <td>10.302398</td>\n",
       "      <td>2.218936</td>\n",
       "      <td>2.779911</td>\n",
       "      <td>7.267831</td>\n",
       "      <td>10.447366</td>\n",
       "      <td>12.249549</td>\n",
       "      <td>10367.875000</td>\n",
       "      <td>...</td>\n",
       "      <td>0.490227</td>\n",
       "      <td>0.232071</td>\n",
       "      <td>0.220649</td>\n",
       "      <td>0.233649</td>\n",
       "      <td>0.221646</td>\n",
       "      <td>0.949499</td>\n",
       "      <td>0.932350</td>\n",
       "      <td>0.958399</td>\n",
       "      <td>0.931763</td>\n",
       "      <td>0</td>\n",
       "    </tr>\n",
       "    <tr>\n",
       "      <th>3</th>\n",
       "      <td>49.231160</td>\n",
       "      <td>42.645217</td>\n",
       "      <td>6.123446</td>\n",
       "      <td>10.533521</td>\n",
       "      <td>-1.392569</td>\n",
       "      <td>2.778616</td>\n",
       "      <td>7.928608</td>\n",
       "      <td>10.892414</td>\n",
       "      <td>12.092358</td>\n",
       "      <td>9536.166667</td>\n",
       "      <td>...</td>\n",
       "      <td>0.450451</td>\n",
       "      <td>0.374133</td>\n",
       "      <td>0.365637</td>\n",
       "      <td>0.379210</td>\n",
       "      <td>0.367641</td>\n",
       "      <td>0.913667</td>\n",
       "      <td>0.891387</td>\n",
       "      <td>0.927097</td>\n",
       "      <td>0.891294</td>\n",
       "      <td>0</td>\n",
       "    </tr>\n",
       "    <tr>\n",
       "      <th>4</th>\n",
       "      <td>77.261385</td>\n",
       "      <td>83.705507</td>\n",
       "      <td>6.017668</td>\n",
       "      <td>7.935202</td>\n",
       "      <td>-0.774676</td>\n",
       "      <td>2.996775</td>\n",
       "      <td>7.602490</td>\n",
       "      <td>11.633094</td>\n",
       "      <td>12.014271</td>\n",
       "      <td>18001.000000</td>\n",
       "      <td>...</td>\n",
       "      <td>0.444437</td>\n",
       "      <td>0.312793</td>\n",
       "      <td>0.304938</td>\n",
       "      <td>0.317934</td>\n",
       "      <td>0.302303</td>\n",
       "      <td>0.923784</td>\n",
       "      <td>0.898480</td>\n",
       "      <td>0.934894</td>\n",
       "      <td>0.898350</td>\n",
       "      <td>0</td>\n",
       "    </tr>\n",
       "  </tbody>\n",
       "</table>\n",
       "<p>5 rows × 38 columns</p>\n",
       "</div>"
      ],
      "text/plain": [
       "        Mean        std   Entropy        RMS   Kurtios      HMI1      HMI2  \\\n",
       "0  55.212544  46.056565  5.375762   9.302612 -0.628678  2.752905  8.030957   \n",
       "1  76.037273  79.565990  5.781641   7.635726 -0.877843  2.904895  7.803627   \n",
       "2  53.652053  59.587603  4.946379  10.302398  2.218936  2.779911  7.267831   \n",
       "3  49.231160  42.645217  6.123446  10.533521 -1.392569  2.778616  7.928608   \n",
       "4  77.261385  83.705507  6.017668   7.935202 -0.774676  2.996775  7.602490   \n",
       "\n",
       "        HMI3       HMI4          Area  ...  homogeneity4   energy1   energy2  \\\n",
       "0  11.070417  11.550219  10522.700000  ...      0.513325  0.177499  0.172328   \n",
       "1  12.448359  12.308773   4735.000000  ...      0.432991  0.230150  0.221221   \n",
       "2  10.447366  12.249549  10367.875000  ...      0.490227  0.232071  0.220649   \n",
       "3  10.892414  12.092358   9536.166667  ...      0.450451  0.374133  0.365637   \n",
       "4  11.633094  12.014271  18001.000000  ...      0.444437  0.312793  0.304938   \n",
       "\n",
       "    energy3   energy4  correlation1  correlation2  correlation3  correlation4  \\\n",
       "0  0.180325  0.171641      0.969317      0.959636      0.974818      0.958198   \n",
       "1  0.232777  0.221043      0.969677      0.958555      0.973180      0.957760   \n",
       "2  0.233649  0.221646      0.949499      0.932350      0.958399      0.931763   \n",
       "3  0.379210  0.367641      0.913667      0.891387      0.927097      0.891294   \n",
       "4  0.317934  0.302303      0.923784      0.898480      0.934894      0.898350   \n",
       "\n",
       "   Class  \n",
       "0      0  \n",
       "1      0  \n",
       "2      0  \n",
       "3      0  \n",
       "4      0  \n",
       "\n",
       "[5 rows x 38 columns]"
      ]
     },
     "execution_count": 3,
     "metadata": {},
     "output_type": "execute_result"
    }
   ],
   "source": [
    "df.head()"
   ]
  },
  {
   "cell_type": "code",
   "execution_count": 4,
   "metadata": {},
   "outputs": [
    {
     "data": {
      "text/plain": [
       "Mean                   0\n",
       "std                    0\n",
       "Entropy                0\n",
       "RMS                    0\n",
       "Kurtios                0\n",
       "HMI1                   0\n",
       "HMI2                   0\n",
       "HMI3                   0\n",
       "HMI4                   0\n",
       "Area                   0\n",
       "Perimeter              0\n",
       "Circle                 0\n",
       "Convex Area            0\n",
       "Solidity               0\n",
       "Equivalent Diameter    0\n",
       "Major Axis             0\n",
       "Minor Axis             0\n",
       "contrast1              0\n",
       "contrast2              0\n",
       "contrast3              0\n",
       "contrast4              0\n",
       "dissimilarity1         0\n",
       "dissimilarity2         0\n",
       "dissimilarity3         0\n",
       "dissimilarity4         0\n",
       "homogeneity1           0\n",
       "homogeneity2           0\n",
       "homogeneity3           0\n",
       "homogeneity4           0\n",
       "energy1                0\n",
       "energy2                0\n",
       "energy3                0\n",
       "energy4                0\n",
       "correlation1           0\n",
       "correlation2           0\n",
       "correlation3           0\n",
       "correlation4           0\n",
       "Class                  0\n",
       "dtype: int64"
      ]
     },
     "execution_count": 4,
     "metadata": {},
     "output_type": "execute_result"
    }
   ],
   "source": [
    "# df = df.dropna()\n",
    "\n",
    "missing_data = ['Area', 'Perimeter', 'Circle', 'Convex Area', 'Solidity', 'Equivalent Diameter', 'Major Axis', 'Minor Axis']\n",
    "for i in missing_data:\n",
    "    fill_list = df[i].dropna().tolist()\n",
    "    # df[i] = df[i].fillna(pd.Series(np.random.choice(fill_list , size = len(df.index))))\n",
    "    mean_fill = np.mean(fill_list)\n",
    "    df[i] = df[i].fillna(mean_fill)\n",
    "df.isnull().sum()"
   ]
  },
  {
   "cell_type": "code",
   "execution_count": 5,
   "metadata": {},
   "outputs": [],
   "source": [
    "X = df.drop(columns=[\"Class\"])\n",
    "y = df[\"Class\"]"
   ]
  },
  {
   "attachments": {},
   "cell_type": "markdown",
   "metadata": {},
   "source": [
    "## feature selection"
   ]
  },
  {
   "cell_type": "code",
   "execution_count": 6,
   "metadata": {},
   "outputs": [
    {
     "name": "stdout",
     "output_type": "stream",
     "text": [
      "Feature Mean: Score 0.47114247635587847\n",
      "Feature std: Score 0.4704960449659905\n",
      "Feature contrast2: Score 0.4661881218395143\n",
      "Feature correlation2: Score 0.46088780747691893\n",
      "Feature correlation3: Score 0.4503137386038183\n",
      "Feature correlation4: Score 0.4443888408258654\n",
      "Feature HMI1: Score 0.30537128586209317\n",
      "Feature contrast1: Score 0.2910232825428394\n",
      "Feature RMS: Score 0.2804242973388842\n",
      "Feature energy1: Score 0.2764622531792984\n",
      "Feature energy2: Score 0.26668708119079554\n",
      "Feature dissimilarity2: Score 0.2484815920396004\n",
      "Feature dissimilarity4: Score 0.2314353008060248\n",
      "Feature correlation1: Score 0.23100753213979797\n",
      "Feature energy3: Score 0.2298266644235456\n",
      "Feature contrast3: Score 0.22858090213767568\n",
      "Feature energy4: Score 0.19928852514920647\n",
      "Feature dissimilarity1: Score 0.15566827057320065\n",
      "Feature contrast4: Score 0.1389583480224612\n",
      "Feature dissimilarity3: Score 0.12807648503937052\n"
     ]
    }
   ],
   "source": [
    "from sklearn.feature_selection import SelectKBest, mutual_info_classif\n",
    "\n",
    "# Initialize the feature selector\n",
    "k_best = SelectKBest(score_func=mutual_info_classif, k=20)  # Select the top 2 features based on mutual information\n",
    "\n",
    "feature_names = ['Mean', 'std', 'Entropy', 'RMS', 'Kurtios', 'HMI1', 'HMI2', 'HMI3',\n",
    "       'HMI4', 'Area', 'Perimeter', 'Circle', 'Convex Area', 'Solidity',\n",
    "       'Equivalent Diameter', 'Major Axis', 'Minor Axis', 'contrast1',\n",
    "       'contrast2', 'contrast3', 'contrast4', 'dissimilarity1',\n",
    "       'dissimilarity2', 'dissimilarity3', 'dissimilarity4', 'homogeneity1',\n",
    "       'homogeneity2', 'homogeneity3', 'homogeneity4', 'energy1', 'energy2',\n",
    "       'energy3', 'energy4', 'correlation1', 'correlation2', 'correlation3',\n",
    "       'correlation4']\n",
    "\n",
    "# Apply feature selection to the data\n",
    "X_selected = k_best.fit_transform(X, y)\n",
    "\n",
    "# Get the selected feature indices and scores\n",
    "selected_indices = k_best.get_support(indices=True)\n",
    "selected_scores = k_best.scores_\n",
    "\n",
    "# Sort the features based on scores in ascending order\n",
    "sorted_features = sorted(zip(selected_indices, selected_scores), key=lambda x: x[1], reverse=True)\n",
    "X_select = pd.DataFrame()\n",
    "# Print the top 20 features in ascending order\n",
    "ll=[]\n",
    "for idx, score in sorted_features[:20]:\n",
    "    ll.append(feature_names[idx])\n",
    "    print(f\"Feature {feature_names[idx]}: Score {score}\")"
   ]
  },
  {
   "attachments": {},
   "cell_type": "markdown",
   "metadata": {},
   "source": [
    "## select best features only"
   ]
  },
  {
   "cell_type": "code",
   "execution_count": 7,
   "metadata": {},
   "outputs": [],
   "source": [
    "X_select = X[ll]"
   ]
  },
  {
   "cell_type": "code",
   "execution_count": 8,
   "metadata": {},
   "outputs": [
    {
     "data": {
      "text/html": [
       "<div>\n",
       "<style scoped>\n",
       "    .dataframe tbody tr th:only-of-type {\n",
       "        vertical-align: middle;\n",
       "    }\n",
       "\n",
       "    .dataframe tbody tr th {\n",
       "        vertical-align: top;\n",
       "    }\n",
       "\n",
       "    .dataframe thead th {\n",
       "        text-align: right;\n",
       "    }\n",
       "</style>\n",
       "<table border=\"1\" class=\"dataframe\">\n",
       "  <thead>\n",
       "    <tr style=\"text-align: right;\">\n",
       "      <th></th>\n",
       "      <th>Mean</th>\n",
       "      <th>std</th>\n",
       "      <th>contrast2</th>\n",
       "      <th>correlation2</th>\n",
       "      <th>correlation3</th>\n",
       "      <th>correlation4</th>\n",
       "      <th>HMI1</th>\n",
       "      <th>contrast1</th>\n",
       "      <th>RMS</th>\n",
       "      <th>energy1</th>\n",
       "      <th>energy2</th>\n",
       "      <th>dissimilarity2</th>\n",
       "      <th>dissimilarity4</th>\n",
       "      <th>correlation1</th>\n",
       "      <th>energy3</th>\n",
       "      <th>contrast3</th>\n",
       "      <th>energy4</th>\n",
       "      <th>dissimilarity1</th>\n",
       "      <th>contrast4</th>\n",
       "      <th>dissimilarity3</th>\n",
       "    </tr>\n",
       "  </thead>\n",
       "  <tbody>\n",
       "    <tr>\n",
       "      <th>0</th>\n",
       "      <td>55.212544</td>\n",
       "      <td>46.056565</td>\n",
       "      <td>183.902674</td>\n",
       "      <td>0.959636</td>\n",
       "      <td>0.974818</td>\n",
       "      <td>0.958198</td>\n",
       "      <td>2.752905</td>\n",
       "      <td>140.013325</td>\n",
       "      <td>9.302612</td>\n",
       "      <td>0.177499</td>\n",
       "      <td>0.172328</td>\n",
       "      <td>4.735315</td>\n",
       "      <td>4.859588</td>\n",
       "      <td>0.969317</td>\n",
       "      <td>0.180325</td>\n",
       "      <td>114.986416</td>\n",
       "      <td>0.171641</td>\n",
       "      <td>3.831805</td>\n",
       "      <td>190.455883</td>\n",
       "      <td>3.082982</td>\n",
       "    </tr>\n",
       "    <tr>\n",
       "      <th>1</th>\n",
       "      <td>76.037273</td>\n",
       "      <td>79.565990</td>\n",
       "      <td>502.955136</td>\n",
       "      <td>0.958555</td>\n",
       "      <td>0.973180</td>\n",
       "      <td>0.957760</td>\n",
       "      <td>2.904895</td>\n",
       "      <td>368.273419</td>\n",
       "      <td>7.635726</td>\n",
       "      <td>0.230150</td>\n",
       "      <td>0.221221</td>\n",
       "      <td>8.761257</td>\n",
       "      <td>8.872275</td>\n",
       "      <td>0.969677</td>\n",
       "      <td>0.232777</td>\n",
       "      <td>325.904539</td>\n",
       "      <td>0.221043</td>\n",
       "      <td>6.768184</td>\n",
       "      <td>512.597992</td>\n",
       "      <td>6.198473</td>\n",
       "    </tr>\n",
       "    <tr>\n",
       "      <th>2</th>\n",
       "      <td>53.652053</td>\n",
       "      <td>59.587603</td>\n",
       "      <td>551.439410</td>\n",
       "      <td>0.932350</td>\n",
       "      <td>0.958399</td>\n",
       "      <td>0.931763</td>\n",
       "      <td>2.779911</td>\n",
       "      <td>411.974803</td>\n",
       "      <td>10.302398</td>\n",
       "      <td>0.232071</td>\n",
       "      <td>0.220649</td>\n",
       "      <td>8.844310</td>\n",
       "      <td>8.784037</td>\n",
       "      <td>0.949499</td>\n",
       "      <td>0.233649</td>\n",
       "      <td>339.474792</td>\n",
       "      <td>0.221646</td>\n",
       "      <td>6.668132</td>\n",
       "      <td>556.220494</td>\n",
       "      <td>6.031714</td>\n",
       "    </tr>\n",
       "    <tr>\n",
       "      <th>3</th>\n",
       "      <td>49.231160</td>\n",
       "      <td>42.645217</td>\n",
       "      <td>535.392752</td>\n",
       "      <td>0.891387</td>\n",
       "      <td>0.927097</td>\n",
       "      <td>0.891294</td>\n",
       "      <td>2.778616</td>\n",
       "      <td>427.392473</td>\n",
       "      <td>10.533521</td>\n",
       "      <td>0.374133</td>\n",
       "      <td>0.365637</td>\n",
       "      <td>10.431541</td>\n",
       "      <td>10.319736</td>\n",
       "      <td>0.913667</td>\n",
       "      <td>0.379210</td>\n",
       "      <td>361.157438</td>\n",
       "      <td>0.367641</td>\n",
       "      <td>8.527744</td>\n",
       "      <td>535.851169</td>\n",
       "      <td>7.879728</td>\n",
       "    </tr>\n",
       "    <tr>\n",
       "      <th>4</th>\n",
       "      <td>77.261385</td>\n",
       "      <td>83.705507</td>\n",
       "      <td>996.340638</td>\n",
       "      <td>0.898480</td>\n",
       "      <td>0.934894</td>\n",
       "      <td>0.898350</td>\n",
       "      <td>2.996775</td>\n",
       "      <td>753.461519</td>\n",
       "      <td>7.935202</td>\n",
       "      <td>0.312793</td>\n",
       "      <td>0.304938</td>\n",
       "      <td>14.913752</td>\n",
       "      <td>14.967293</td>\n",
       "      <td>0.923784</td>\n",
       "      <td>0.317934</td>\n",
       "      <td>644.759621</td>\n",
       "      <td>0.302303</td>\n",
       "      <td>11.950924</td>\n",
       "      <td>997.611651</td>\n",
       "      <td>10.607111</td>\n",
       "    </tr>\n",
       "    <tr>\n",
       "      <th>...</th>\n",
       "      <td>...</td>\n",
       "      <td>...</td>\n",
       "      <td>...</td>\n",
       "      <td>...</td>\n",
       "      <td>...</td>\n",
       "      <td>...</td>\n",
       "      <td>...</td>\n",
       "      <td>...</td>\n",
       "      <td>...</td>\n",
       "      <td>...</td>\n",
       "      <td>...</td>\n",
       "      <td>...</td>\n",
       "      <td>...</td>\n",
       "      <td>...</td>\n",
       "      <td>...</td>\n",
       "      <td>...</td>\n",
       "      <td>...</td>\n",
       "      <td>...</td>\n",
       "      <td>...</td>\n",
       "      <td>...</td>\n",
       "    </tr>\n",
       "    <tr>\n",
       "      <th>5212</th>\n",
       "      <td>55.537216</td>\n",
       "      <td>41.476325</td>\n",
       "      <td>360.145406</td>\n",
       "      <td>0.914916</td>\n",
       "      <td>0.949625</td>\n",
       "      <td>0.912128</td>\n",
       "      <td>2.678192</td>\n",
       "      <td>285.485452</td>\n",
       "      <td>9.934108</td>\n",
       "      <td>0.149783</td>\n",
       "      <td>0.145493</td>\n",
       "      <td>7.329037</td>\n",
       "      <td>7.500077</td>\n",
       "      <td>0.932639</td>\n",
       "      <td>0.154335</td>\n",
       "      <td>213.722145</td>\n",
       "      <td>0.144780</td>\n",
       "      <td>5.922500</td>\n",
       "      <td>371.946740</td>\n",
       "      <td>4.884709</td>\n",
       "    </tr>\n",
       "    <tr>\n",
       "      <th>5213</th>\n",
       "      <td>58.451622</td>\n",
       "      <td>42.845989</td>\n",
       "      <td>325.038720</td>\n",
       "      <td>0.921140</td>\n",
       "      <td>0.955264</td>\n",
       "      <td>0.920016</td>\n",
       "      <td>2.700193</td>\n",
       "      <td>263.393509</td>\n",
       "      <td>10.103457</td>\n",
       "      <td>0.136611</td>\n",
       "      <td>0.132942</td>\n",
       "      <td>7.204017</td>\n",
       "      <td>7.338640</td>\n",
       "      <td>0.936218</td>\n",
       "      <td>0.141475</td>\n",
       "      <td>184.926555</td>\n",
       "      <td>0.131985</td>\n",
       "      <td>5.841866</td>\n",
       "      <td>329.672273</td>\n",
       "      <td>4.831209</td>\n",
       "    </tr>\n",
       "    <tr>\n",
       "      <th>5214</th>\n",
       "      <td>45.893677</td>\n",
       "      <td>33.173744</td>\n",
       "      <td>208.513996</td>\n",
       "      <td>0.915585</td>\n",
       "      <td>0.950032</td>\n",
       "      <td>0.910542</td>\n",
       "      <td>2.585893</td>\n",
       "      <td>164.600526</td>\n",
       "      <td>9.474798</td>\n",
       "      <td>0.081568</td>\n",
       "      <td>0.077379</td>\n",
       "      <td>5.633784</td>\n",
       "      <td>5.813055</td>\n",
       "      <td>0.933455</td>\n",
       "      <td>0.082941</td>\n",
       "      <td>123.585835</td>\n",
       "      <td>0.076869</td>\n",
       "      <td>4.430714</td>\n",
       "      <td>220.971159</td>\n",
       "      <td>3.914038</td>\n",
       "    </tr>\n",
       "    <tr>\n",
       "      <th>5215</th>\n",
       "      <td>41.703392</td>\n",
       "      <td>36.594254</td>\n",
       "      <td>260.407608</td>\n",
       "      <td>0.926110</td>\n",
       "      <td>0.953305</td>\n",
       "      <td>0.926715</td>\n",
       "      <td>2.608306</td>\n",
       "      <td>185.530025</td>\n",
       "      <td>9.738114</td>\n",
       "      <td>0.100671</td>\n",
       "      <td>0.096011</td>\n",
       "      <td>6.705807</td>\n",
       "      <td>6.656449</td>\n",
       "      <td>0.947402</td>\n",
       "      <td>0.102649</td>\n",
       "      <td>164.764602</td>\n",
       "      <td>0.095976</td>\n",
       "      <td>5.071237</td>\n",
       "      <td>258.275182</td>\n",
       "      <td>4.619081</td>\n",
       "    </tr>\n",
       "    <tr>\n",
       "      <th>5216</th>\n",
       "      <td>36.168495</td>\n",
       "      <td>43.646127</td>\n",
       "      <td>312.119533</td>\n",
       "      <td>0.939330</td>\n",
       "      <td>0.962100</td>\n",
       "      <td>0.941147</td>\n",
       "      <td>2.614579</td>\n",
       "      <td>218.478588</td>\n",
       "      <td>7.748545</td>\n",
       "      <td>0.142878</td>\n",
       "      <td>0.135068</td>\n",
       "      <td>6.776350</td>\n",
       "      <td>6.656991</td>\n",
       "      <td>0.957569</td>\n",
       "      <td>0.144641</td>\n",
       "      <td>195.160798</td>\n",
       "      <td>0.135644</td>\n",
       "      <td>5.067747</td>\n",
       "      <td>302.771623</td>\n",
       "      <td>4.692847</td>\n",
       "    </tr>\n",
       "  </tbody>\n",
       "</table>\n",
       "<p>5217 rows × 20 columns</p>\n",
       "</div>"
      ],
      "text/plain": [
       "           Mean        std   contrast2  correlation2  correlation3  \\\n",
       "0     55.212544  46.056565  183.902674      0.959636      0.974818   \n",
       "1     76.037273  79.565990  502.955136      0.958555      0.973180   \n",
       "2     53.652053  59.587603  551.439410      0.932350      0.958399   \n",
       "3     49.231160  42.645217  535.392752      0.891387      0.927097   \n",
       "4     77.261385  83.705507  996.340638      0.898480      0.934894   \n",
       "...         ...        ...         ...           ...           ...   \n",
       "5212  55.537216  41.476325  360.145406      0.914916      0.949625   \n",
       "5213  58.451622  42.845989  325.038720      0.921140      0.955264   \n",
       "5214  45.893677  33.173744  208.513996      0.915585      0.950032   \n",
       "5215  41.703392  36.594254  260.407608      0.926110      0.953305   \n",
       "5216  36.168495  43.646127  312.119533      0.939330      0.962100   \n",
       "\n",
       "      correlation4      HMI1   contrast1        RMS   energy1   energy2  \\\n",
       "0         0.958198  2.752905  140.013325   9.302612  0.177499  0.172328   \n",
       "1         0.957760  2.904895  368.273419   7.635726  0.230150  0.221221   \n",
       "2         0.931763  2.779911  411.974803  10.302398  0.232071  0.220649   \n",
       "3         0.891294  2.778616  427.392473  10.533521  0.374133  0.365637   \n",
       "4         0.898350  2.996775  753.461519   7.935202  0.312793  0.304938   \n",
       "...            ...       ...         ...        ...       ...       ...   \n",
       "5212      0.912128  2.678192  285.485452   9.934108  0.149783  0.145493   \n",
       "5213      0.920016  2.700193  263.393509  10.103457  0.136611  0.132942   \n",
       "5214      0.910542  2.585893  164.600526   9.474798  0.081568  0.077379   \n",
       "5215      0.926715  2.608306  185.530025   9.738114  0.100671  0.096011   \n",
       "5216      0.941147  2.614579  218.478588   7.748545  0.142878  0.135068   \n",
       "\n",
       "      dissimilarity2  dissimilarity4  correlation1   energy3   contrast3  \\\n",
       "0           4.735315        4.859588      0.969317  0.180325  114.986416   \n",
       "1           8.761257        8.872275      0.969677  0.232777  325.904539   \n",
       "2           8.844310        8.784037      0.949499  0.233649  339.474792   \n",
       "3          10.431541       10.319736      0.913667  0.379210  361.157438   \n",
       "4          14.913752       14.967293      0.923784  0.317934  644.759621   \n",
       "...              ...             ...           ...       ...         ...   \n",
       "5212        7.329037        7.500077      0.932639  0.154335  213.722145   \n",
       "5213        7.204017        7.338640      0.936218  0.141475  184.926555   \n",
       "5214        5.633784        5.813055      0.933455  0.082941  123.585835   \n",
       "5215        6.705807        6.656449      0.947402  0.102649  164.764602   \n",
       "5216        6.776350        6.656991      0.957569  0.144641  195.160798   \n",
       "\n",
       "       energy4  dissimilarity1   contrast4  dissimilarity3  \n",
       "0     0.171641        3.831805  190.455883        3.082982  \n",
       "1     0.221043        6.768184  512.597992        6.198473  \n",
       "2     0.221646        6.668132  556.220494        6.031714  \n",
       "3     0.367641        8.527744  535.851169        7.879728  \n",
       "4     0.302303       11.950924  997.611651       10.607111  \n",
       "...        ...             ...         ...             ...  \n",
       "5212  0.144780        5.922500  371.946740        4.884709  \n",
       "5213  0.131985        5.841866  329.672273        4.831209  \n",
       "5214  0.076869        4.430714  220.971159        3.914038  \n",
       "5215  0.095976        5.071237  258.275182        4.619081  \n",
       "5216  0.135644        5.067747  302.771623        4.692847  \n",
       "\n",
       "[5217 rows x 20 columns]"
      ]
     },
     "execution_count": 8,
     "metadata": {},
     "output_type": "execute_result"
    }
   ],
   "source": [
    "X_select"
   ]
  },
  {
   "attachments": {},
   "cell_type": "markdown",
   "metadata": {},
   "source": [
    "# models with whole dataset"
   ]
  },
  {
   "cell_type": "code",
   "execution_count": 9,
   "metadata": {},
   "outputs": [],
   "source": [
    "from sklearn.model_selection import train_test_split\n",
    "X_train,X_test,y_train,y_test = train_test_split(X,y,test_size=0.2,random_state=42)"
   ]
  },
  {
   "attachments": {},
   "cell_type": "markdown",
   "metadata": {},
   "source": [
    "## RF"
   ]
  },
  {
   "cell_type": "code",
   "execution_count": 10,
   "metadata": {},
   "outputs": [
    {
     "name": "stdout",
     "output_type": "stream",
     "text": [
      "Train Acc of Random Forest : 1.0\n",
      "Test Acc of Random Forest : 0.8850574712643678\n"
     ]
    }
   ],
   "source": [
    "from sklearn.ensemble import RandomForestClassifier\n",
    "rf_clf = RandomForestClassifier()\n",
    "# Fit the parameters before oversampling:\n",
    "rf_clf.fit(X_train, y_train)\n",
    "print(f\"Train Acc of Random Forest : {rf_clf.score(X_train,y_train)}\")\n",
    "# rf_clf.score(X_test,y_test)\n",
    "print(f\"Test Acc of Random Forest : {rf_clf.score(X_test,y_test)}\")"
   ]
  },
  {
   "attachments": {},
   "cell_type": "markdown",
   "metadata": {},
   "source": [
    "## SVM"
   ]
  },
  {
   "cell_type": "code",
   "execution_count": 11,
   "metadata": {},
   "outputs": [
    {
     "name": "stdout",
     "output_type": "stream",
     "text": [
      "Train Acc of SVM : 1.0\n",
      "Test Acc of SVM : 0.5153256704980843\n"
     ]
    }
   ],
   "source": [
    "from sklearn.svm import SVC\n",
    "clf1 = SVC(kernel='rbf',C=100,gamma=0.001)\n",
    "clf1.fit(X_train, y_train)\n",
    "print(f\"Train Acc of SVM : {clf1.score(X_train,y_train)}\")\n",
    "print(f\"Test Acc of SVM : {clf1.score(X_test,y_test)}\")"
   ]
  },
  {
   "attachments": {},
   "cell_type": "markdown",
   "metadata": {},
   "source": [
    "## KNN"
   ]
  },
  {
   "cell_type": "code",
   "execution_count": 12,
   "metadata": {},
   "outputs": [
    {
     "name": "stderr",
     "output_type": "stream",
     "text": [
      "c:\\Users\\User\\AppData\\Local\\Programs\\Python\\Python38\\lib\\site-packages\\sklearn\\neighbors\\_classification.py:211: FutureWarning: Unlike other reduction functions (e.g. `skew`, `kurtosis`), the default behavior of `mode` typically preserves the axis it acts along. In SciPy 1.11.0, this behavior will change: the default value of `keepdims` will become False, the `axis` over which the statistic is taken will be eliminated, and the value None will no longer be accepted. Set `keepdims` to True or False to avoid this warning.\n",
      "  mode, _ = stats.mode(_y[neigh_ind, k], axis=1)\n"
     ]
    },
    {
     "name": "stdout",
     "output_type": "stream",
     "text": [
      "Train acc of KNN: 0.7335250419362569\n",
      "Test acc of KNN: 0.6628352490421456\n"
     ]
    },
    {
     "name": "stderr",
     "output_type": "stream",
     "text": [
      "c:\\Users\\User\\AppData\\Local\\Programs\\Python\\Python38\\lib\\site-packages\\sklearn\\neighbors\\_classification.py:211: FutureWarning: Unlike other reduction functions (e.g. `skew`, `kurtosis`), the default behavior of `mode` typically preserves the axis it acts along. In SciPy 1.11.0, this behavior will change: the default value of `keepdims` will become False, the `axis` over which the statistic is taken will be eliminated, and the value None will no longer be accepted. Set `keepdims` to True or False to avoid this warning.\n",
      "  mode, _ = stats.mode(_y[neigh_ind, k], axis=1)\n"
     ]
    }
   ],
   "source": [
    "from sklearn.neighbors import KNeighborsClassifier\n",
    "\n",
    "# create KNeighborsClassifier with 7 neighbors \n",
    "knn = KNeighborsClassifier(n_neighbors=7)\n",
    "# Fit the data to knn model\n",
    "knn.fit(X_train,y_train)\n",
    "print(f\"Train acc of KNN: {knn.score(X_train,y_train)}\")\n",
    "print(f\"Test acc of KNN: {knn.score(X_test,y_test)}\")"
   ]
  },
  {
   "attachments": {},
   "cell_type": "markdown",
   "metadata": {},
   "source": [
    "## PCA and StandardScaler"
   ]
  },
  {
   "cell_type": "code",
   "execution_count": 13,
   "metadata": {},
   "outputs": [],
   "source": [
    "from sklearn.decomposition import PCA\n",
    "from sklearn.preprocessing import StandardScaler\n",
    "pca_m = PCA(n_components=37)\n",
    "\n",
    "new_X = pca_m.fit_transform(X)\n",
    "scaler = StandardScaler()\n",
    "new_X = scaler.fit_transform(new_X)"
   ]
  },
  {
   "attachments": {},
   "cell_type": "markdown",
   "metadata": {},
   "source": [
    "## split data after pca and scaler"
   ]
  },
  {
   "cell_type": "code",
   "execution_count": 14,
   "metadata": {},
   "outputs": [],
   "source": [
    "X_trainn,X_testn,y_trainn,y_testn = train_test_split(new_X,y,test_size=0.2,random_state=42)"
   ]
  },
  {
   "attachments": {},
   "cell_type": "markdown",
   "metadata": {},
   "source": [
    "## RF PCA"
   ]
  },
  {
   "cell_type": "code",
   "execution_count": 15,
   "metadata": {},
   "outputs": [
    {
     "name": "stdout",
     "output_type": "stream",
     "text": [
      "Train Acc of Random Forest PCA : 1.0\n",
      "Test Acc of Random Forest PCA : 0.8955938697318008\n"
     ]
    }
   ],
   "source": [
    "from sklearn.ensemble import RandomForestClassifier\n",
    "rf_clf2 = RandomForestClassifier()\n",
    "# Fit the parameters before oversampling:\n",
    "rf_clf2.fit(X_trainn, y_trainn)\n",
    "print(f\"Train Acc of Random Forest PCA : {rf_clf2.score(X_trainn,y_trainn)}\")\n",
    "print(f\"Test Acc of Random Forest PCA : {rf_clf2.score(X_testn,y_testn)}\")"
   ]
  },
  {
   "attachments": {},
   "cell_type": "markdown",
   "metadata": {},
   "source": [
    "## SVM PCA"
   ]
  },
  {
   "cell_type": "code",
   "execution_count": 16,
   "metadata": {},
   "outputs": [
    {
     "name": "stdout",
     "output_type": "stream",
     "text": [
      "Train Acc of SVM PCA : 0.8698777857656362\n",
      "Test Acc of SVM PCA : 0.8496168582375478\n"
     ]
    }
   ],
   "source": [
    "from sklearn.svm import SVC\n",
    "clf2 = SVC(kernel='linear',C=100,gamma=0.001)\n",
    "clf2.fit(X_trainn, y_trainn)\n",
    "\n",
    "print(f\"Train Acc of SVM PCA : {clf2.score(X_trainn,y_trainn)}\")\n",
    "print(f\"Test Acc of SVM PCA : {clf2.score(X_testn,y_testn)}\")"
   ]
  },
  {
   "attachments": {},
   "cell_type": "markdown",
   "metadata": {},
   "source": [
    "## KNN PCA"
   ]
  },
  {
   "cell_type": "code",
   "execution_count": 17,
   "metadata": {},
   "outputs": [
    {
     "name": "stderr",
     "output_type": "stream",
     "text": [
      "c:\\Users\\User\\AppData\\Local\\Programs\\Python\\Python38\\lib\\site-packages\\sklearn\\neighbors\\_classification.py:211: FutureWarning: Unlike other reduction functions (e.g. `skew`, `kurtosis`), the default behavior of `mode` typically preserves the axis it acts along. In SciPy 1.11.0, this behavior will change: the default value of `keepdims` will become False, the `axis` over which the statistic is taken will be eliminated, and the value None will no longer be accepted. Set `keepdims` to True or False to avoid this warning.\n",
      "  mode, _ = stats.mode(_y[neigh_ind, k], axis=1)\n"
     ]
    },
    {
     "name": "stdout",
     "output_type": "stream",
     "text": [
      "Train acc of KNN PCA : 0.9084591421040019\n",
      "Test acc of KNN PCA : 0.8505747126436781\n"
     ]
    },
    {
     "name": "stderr",
     "output_type": "stream",
     "text": [
      "c:\\Users\\User\\AppData\\Local\\Programs\\Python\\Python38\\lib\\site-packages\\sklearn\\neighbors\\_classification.py:211: FutureWarning: Unlike other reduction functions (e.g. `skew`, `kurtosis`), the default behavior of `mode` typically preserves the axis it acts along. In SciPy 1.11.0, this behavior will change: the default value of `keepdims` will become False, the `axis` over which the statistic is taken will be eliminated, and the value None will no longer be accepted. Set `keepdims` to True or False to avoid this warning.\n",
      "  mode, _ = stats.mode(_y[neigh_ind, k], axis=1)\n"
     ]
    }
   ],
   "source": [
    "knn2 = KNeighborsClassifier(n_neighbors=7)\n",
    "# Fit the data to knn model\n",
    "knn2.fit(X_trainn,y_trainn)\n",
    "print(f\"Train acc of KNN PCA : {knn2.score(X_trainn,y_trainn)}\")\n",
    "print(f\"Test acc of KNN PCA : {knn2.score(X_testn,y_testn)}\")"
   ]
  },
  {
   "attachments": {},
   "cell_type": "markdown",
   "metadata": {},
   "source": [
    "# selected features"
   ]
  },
  {
   "cell_type": "code",
   "execution_count": 18,
   "metadata": {},
   "outputs": [],
   "source": [
    "from sklearn.model_selection import train_test_split\n",
    "X_train,X_test,y_train,y_test = train_test_split(X_select,y,test_size=0.2,random_state=42)"
   ]
  },
  {
   "attachments": {},
   "cell_type": "markdown",
   "metadata": {},
   "source": [
    "## RF Selected"
   ]
  },
  {
   "cell_type": "code",
   "execution_count": 19,
   "metadata": {},
   "outputs": [
    {
     "name": "stdout",
     "output_type": "stream",
     "text": [
      "Train Acc of Random Forest : 1.0\n",
      "Test Acc of Random Forest : 0.8754789272030651\n"
     ]
    }
   ],
   "source": [
    "from sklearn.ensemble import RandomForestClassifier\n",
    "rf_clf = RandomForestClassifier()\n",
    "# Fit the parameters before oversampling:\n",
    "rf_clf.fit(X_train, y_train)\n",
    "print(f\"Train Acc of Random Forest : {rf_clf.score(X_train,y_train)}\")\n",
    "# rf_clf.score(X_test,y_test)\n",
    "print(f\"Test Acc of Random Forest : {rf_clf.score(X_test,y_test)}\")"
   ]
  },
  {
   "attachments": {},
   "cell_type": "markdown",
   "metadata": {},
   "source": [
    "## SVM Selected"
   ]
  },
  {
   "cell_type": "code",
   "execution_count": 20,
   "metadata": {},
   "outputs": [
    {
     "name": "stdout",
     "output_type": "stream",
     "text": [
      "Train Acc of SVM : 0.9453630481667865\n",
      "Test Acc of SVM : 0.7701149425287356\n"
     ]
    }
   ],
   "source": [
    "from sklearn.svm import SVC\n",
    "clf1 = SVC(kernel='rbf',C=100,gamma=0.001)\n",
    "clf1.fit(X_train, y_train)\n",
    "print(f\"Train Acc of SVM : {clf1.score(X_train,y_train)}\")\n",
    "print(f\"Test Acc of SVM : {clf1.score(X_test,y_test)}\")"
   ]
  },
  {
   "attachments": {},
   "cell_type": "markdown",
   "metadata": {},
   "source": [
    "## KNN Selected"
   ]
  },
  {
   "cell_type": "code",
   "execution_count": 21,
   "metadata": {},
   "outputs": [
    {
     "name": "stderr",
     "output_type": "stream",
     "text": [
      "c:\\Users\\User\\AppData\\Local\\Programs\\Python\\Python38\\lib\\site-packages\\sklearn\\neighbors\\_classification.py:211: FutureWarning: Unlike other reduction functions (e.g. `skew`, `kurtosis`), the default behavior of `mode` typically preserves the axis it acts along. In SciPy 1.11.0, this behavior will change: the default value of `keepdims` will become False, the `axis` over which the statistic is taken will be eliminated, and the value None will no longer be accepted. Set `keepdims` to True or False to avoid this warning.\n",
      "  mode, _ = stats.mode(_y[neigh_ind, k], axis=1)\n"
     ]
    },
    {
     "name": "stdout",
     "output_type": "stream",
     "text": [
      "Train acc of KNN: 0.7977474239156482\n",
      "Test acc of KNN: 0.7413793103448276\n"
     ]
    },
    {
     "name": "stderr",
     "output_type": "stream",
     "text": [
      "c:\\Users\\User\\AppData\\Local\\Programs\\Python\\Python38\\lib\\site-packages\\sklearn\\neighbors\\_classification.py:211: FutureWarning: Unlike other reduction functions (e.g. `skew`, `kurtosis`), the default behavior of `mode` typically preserves the axis it acts along. In SciPy 1.11.0, this behavior will change: the default value of `keepdims` will become False, the `axis` over which the statistic is taken will be eliminated, and the value None will no longer be accepted. Set `keepdims` to True or False to avoid this warning.\n",
      "  mode, _ = stats.mode(_y[neigh_ind, k], axis=1)\n"
     ]
    }
   ],
   "source": [
    "from sklearn.neighbors import KNeighborsClassifier\n",
    "\n",
    "# create KNeighborsClassifier with 7 neighbors \n",
    "knn = KNeighborsClassifier(n_neighbors=7)\n",
    "# Fit the data to knn model\n",
    "knn.fit(X_train,y_train)\n",
    "print(f\"Train acc of KNN: {knn.score(X_train,y_train)}\")\n",
    "print(f\"Test acc of KNN: {knn.score(X_test,y_test)}\")"
   ]
  },
  {
   "attachments": {},
   "cell_type": "markdown",
   "metadata": {},
   "source": [
    "## With PCA and StandardScaler"
   ]
  },
  {
   "cell_type": "code",
   "execution_count": 22,
   "metadata": {},
   "outputs": [],
   "source": [
    "from sklearn.decomposition import PCA\n",
    "from sklearn.preprocessing import StandardScaler\n",
    "pca_m = PCA(n_components=20)\n",
    "\n",
    "new_X = pca_m.fit_transform(X_select)\n",
    "scaler = StandardScaler()\n",
    "new_X = scaler.fit_transform(new_X)"
   ]
  },
  {
   "attachments": {},
   "cell_type": "markdown",
   "metadata": {},
   "source": [
    "## Split Selected"
   ]
  },
  {
   "cell_type": "code",
   "execution_count": 23,
   "metadata": {},
   "outputs": [],
   "source": [
    "X_trainn,X_testn,y_trainn,y_testn = train_test_split(new_X,y,test_size=0.2,random_state=42)"
   ]
  },
  {
   "attachments": {},
   "cell_type": "markdown",
   "metadata": {},
   "source": [
    "## RF Selected PCA"
   ]
  },
  {
   "cell_type": "code",
   "execution_count": 24,
   "metadata": {},
   "outputs": [
    {
     "name": "stdout",
     "output_type": "stream",
     "text": [
      "Train Acc of Random Forest PCA : 1.0\n",
      "Test Acc of Random Forest PCA : 0.8917624521072797\n"
     ]
    }
   ],
   "source": [
    "from sklearn.ensemble import RandomForestClassifier\n",
    "rf_clf2 = RandomForestClassifier()\n",
    "# Fit the parameters before oversampling:\n",
    "rf_clf2.fit(X_trainn, y_trainn)\n",
    "print(f\"Train Acc of Random Forest PCA : {rf_clf2.score(X_trainn,y_trainn)}\")\n",
    "print(f\"Test Acc of Random Forest PCA : {rf_clf2.score(X_testn,y_testn)}\")"
   ]
  },
  {
   "attachments": {},
   "cell_type": "markdown",
   "metadata": {},
   "source": [
    "## SVM Selected PCA"
   ]
  },
  {
   "cell_type": "code",
   "execution_count": 25,
   "metadata": {},
   "outputs": [
    {
     "name": "stdout",
     "output_type": "stream",
     "text": [
      "Train Acc of SVM PCA : 0.8070932183081716\n",
      "Test Acc of SVM PCA : 0.8065134099616859\n"
     ]
    }
   ],
   "source": [
    "from sklearn.svm import SVC\n",
    "clf2 = SVC(kernel='linear',C=100,gamma=0.001)\n",
    "clf2.fit(X_trainn, y_trainn)\n",
    "\n",
    "print(f\"Train Acc of SVM PCA : {clf2.score(X_trainn,y_trainn)}\")\n",
    "print(f\"Test Acc of SVM PCA : {clf2.score(X_testn,y_testn)}\")"
   ]
  },
  {
   "attachments": {},
   "cell_type": "markdown",
   "metadata": {},
   "source": [
    "## KNN Selected PCA"
   ]
  },
  {
   "cell_type": "code",
   "execution_count": 26,
   "metadata": {},
   "outputs": [
    {
     "name": "stderr",
     "output_type": "stream",
     "text": [
      "c:\\Users\\User\\AppData\\Local\\Programs\\Python\\Python38\\lib\\site-packages\\sklearn\\neighbors\\_classification.py:211: FutureWarning: Unlike other reduction functions (e.g. `skew`, `kurtosis`), the default behavior of `mode` typically preserves the axis it acts along. In SciPy 1.11.0, this behavior will change: the default value of `keepdims` will become False, the `axis` over which the statistic is taken will be eliminated, and the value None will no longer be accepted. Set `keepdims` to True or False to avoid this warning.\n",
      "  mode, _ = stats.mode(_y[neigh_ind, k], axis=1)\n"
     ]
    },
    {
     "name": "stdout",
     "output_type": "stream",
     "text": [
      "Train acc of KNN PCA : 0.8818595734483585\n",
      "Test acc of KNN PCA : 0.8448275862068966\n"
     ]
    },
    {
     "name": "stderr",
     "output_type": "stream",
     "text": [
      "c:\\Users\\User\\AppData\\Local\\Programs\\Python\\Python38\\lib\\site-packages\\sklearn\\neighbors\\_classification.py:211: FutureWarning: Unlike other reduction functions (e.g. `skew`, `kurtosis`), the default behavior of `mode` typically preserves the axis it acts along. In SciPy 1.11.0, this behavior will change: the default value of `keepdims` will become False, the `axis` over which the statistic is taken will be eliminated, and the value None will no longer be accepted. Set `keepdims` to True or False to avoid this warning.\n",
      "  mode, _ = stats.mode(_y[neigh_ind, k], axis=1)\n"
     ]
    }
   ],
   "source": [
    "knn2 = KNeighborsClassifier(n_neighbors=7)\n",
    "# Fit the data to knn model\n",
    "knn2.fit(X_trainn,y_trainn)\n",
    "print(f\"Train acc of KNN PCA : {knn2.score(X_trainn,y_trainn)}\")\n",
    "print(f\"Test acc of KNN PCA : {knn2.score(X_testn,y_testn)}\")"
   ]
  }
 ],
 "metadata": {
  "kernelspec": {
   "display_name": "Python 3",
   "language": "python",
   "name": "python3"
  },
  "language_info": {
   "codemirror_mode": {
    "name": "ipython",
    "version": 3
   },
   "file_extension": ".py",
   "mimetype": "text/x-python",
   "name": "python",
   "nbconvert_exporter": "python",
   "pygments_lexer": "ipython3",
   "version": "3.8.3"
  },
  "orig_nbformat": 4
 },
 "nbformat": 4,
 "nbformat_minor": 2
}
