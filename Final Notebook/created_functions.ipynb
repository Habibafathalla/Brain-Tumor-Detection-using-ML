{
 "cells": [
  {
   "cell_type": "code",
   "execution_count": 1,
   "id": "9a9c5935",
   "metadata": {},
   "outputs": [],
   "source": [
    "def data_analysis(data):\n",
    "    \n",
    "    # The shape of the data\n",
    "    print(\"The shape of the data set:\")\n",
    "    print(f\"The data set consists of {data.shape[0]} rows and {data.shape[1]} columns.\")\n",
    "    \n",
    "    print('\\n***********************************************')\n",
    "    # Missing Values Check\n",
    "    print(\"The existence of missing values in each column:\")\n",
    "    print(data.isnull().any())\n",
    "    \n",
    "    print('\\n***********************************************')\n",
    "    # Info of the data\n",
    "    print(\"General information about the data:\")\n",
    "    print(data.info())\n",
    "    \n",
    "    print('\\n***********************************************')\n",
    "    # Number of unique values in each column\n",
    "    print(\"The number of unique values in each column:\")\n",
    "    print(data.nunique())"
   ]
  },
  {
   "cell_type": "code",
   "execution_count": null,
   "id": "30dfc704",
   "metadata": {},
   "outputs": [],
   "source": []
  }
 ],
 "metadata": {
  "kernelspec": {
   "display_name": "Python 3 (ipykernel)",
   "language": "python",
   "name": "python3"
  },
  "language_info": {
   "codemirror_mode": {
    "name": "ipython",
    "version": 3
   },
   "file_extension": ".py",
   "mimetype": "text/x-python",
   "name": "python",
   "nbconvert_exporter": "python",
   "pygments_lexer": "ipython3",
   "version": "3.9.13"
  }
 },
 "nbformat": 4,
 "nbformat_minor": 5
}
