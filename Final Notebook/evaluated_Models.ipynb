{
 "cells": [
  {
   "cell_type": "code",
   "execution_count": 2,
   "metadata": {},
   "outputs": [],
   "source": [
    "import os\n",
    "import numpy as np\n",
    "import pandas as pd\n",
    "import matplotlib.pyplot as plt\n",
    "%matplotlib inline\n",
    "import cv2\n",
    "from created_functions import *"
   ]
  },
  {
   "cell_type": "code",
   "execution_count": 5,
   "metadata": {},
   "outputs": [],
   "source": [
    "df = pd.read_csv(\"C:/Users/Lenovo/Documents/GitHub/Brain-Tumor-Datection/Created Dataset/var_skew_dataset.csv\")\n",
    "\n"
   ]
  },
  {
   "cell_type": "code",
   "execution_count": 6,
   "metadata": {},
   "outputs": [
    {
     "data": {
      "text/html": [
       "<div>\n",
       "<style scoped>\n",
       "    .dataframe tbody tr th:only-of-type {\n",
       "        vertical-align: middle;\n",
       "    }\n",
       "\n",
       "    .dataframe tbody tr th {\n",
       "        vertical-align: top;\n",
       "    }\n",
       "\n",
       "    .dataframe thead th {\n",
       "        text-align: right;\n",
       "    }\n",
       "</style>\n",
       "<table border=\"1\" class=\"dataframe\">\n",
       "  <thead>\n",
       "    <tr style=\"text-align: right;\">\n",
       "      <th></th>\n",
       "      <th>Mean</th>\n",
       "      <th>std</th>\n",
       "      <th>Variance</th>\n",
       "      <th>Skewness</th>\n",
       "      <th>Entropy</th>\n",
       "      <th>RMS</th>\n",
       "      <th>Kurtios</th>\n",
       "      <th>HMI1</th>\n",
       "      <th>HMI2</th>\n",
       "      <th>HMI3</th>\n",
       "      <th>...</th>\n",
       "      <th>homogeneity4</th>\n",
       "      <th>energy1</th>\n",
       "      <th>energy2</th>\n",
       "      <th>energy3</th>\n",
       "      <th>energy4</th>\n",
       "      <th>correlation1</th>\n",
       "      <th>correlation2</th>\n",
       "      <th>correlation3</th>\n",
       "      <th>correlation4</th>\n",
       "      <th>Class</th>\n",
       "    </tr>\n",
       "  </thead>\n",
       "  <tbody>\n",
       "    <tr>\n",
       "      <th>0</th>\n",
       "      <td>55.212544</td>\n",
       "      <td>46.056565</td>\n",
       "      <td>2121.207208</td>\n",
       "      <td>0.370450</td>\n",
       "      <td>5.375762</td>\n",
       "      <td>9.302612</td>\n",
       "      <td>-0.628678</td>\n",
       "      <td>2.752905</td>\n",
       "      <td>8.030957</td>\n",
       "      <td>11.070417</td>\n",
       "      <td>...</td>\n",
       "      <td>0.513325</td>\n",
       "      <td>0.177499</td>\n",
       "      <td>0.172328</td>\n",
       "      <td>0.180325</td>\n",
       "      <td>0.171641</td>\n",
       "      <td>0.969317</td>\n",
       "      <td>0.959636</td>\n",
       "      <td>0.974818</td>\n",
       "      <td>0.958198</td>\n",
       "      <td>0</td>\n",
       "    </tr>\n",
       "    <tr>\n",
       "      <th>1</th>\n",
       "      <td>76.037273</td>\n",
       "      <td>79.565990</td>\n",
       "      <td>6330.746828</td>\n",
       "      <td>0.585233</td>\n",
       "      <td>5.781641</td>\n",
       "      <td>7.635726</td>\n",
       "      <td>-0.877843</td>\n",
       "      <td>2.904895</td>\n",
       "      <td>7.803627</td>\n",
       "      <td>12.448359</td>\n",
       "      <td>...</td>\n",
       "      <td>0.432991</td>\n",
       "      <td>0.230150</td>\n",
       "      <td>0.221221</td>\n",
       "      <td>0.232777</td>\n",
       "      <td>0.221043</td>\n",
       "      <td>0.969677</td>\n",
       "      <td>0.958555</td>\n",
       "      <td>0.973180</td>\n",
       "      <td>0.957760</td>\n",
       "      <td>0</td>\n",
       "    </tr>\n",
       "    <tr>\n",
       "      <th>2</th>\n",
       "      <td>53.652053</td>\n",
       "      <td>59.587603</td>\n",
       "      <td>3550.682395</td>\n",
       "      <td>1.574931</td>\n",
       "      <td>4.946379</td>\n",
       "      <td>10.302398</td>\n",
       "      <td>2.218936</td>\n",
       "      <td>2.779911</td>\n",
       "      <td>7.267831</td>\n",
       "      <td>10.447366</td>\n",
       "      <td>...</td>\n",
       "      <td>0.490227</td>\n",
       "      <td>0.232071</td>\n",
       "      <td>0.220649</td>\n",
       "      <td>0.233649</td>\n",
       "      <td>0.221646</td>\n",
       "      <td>0.949499</td>\n",
       "      <td>0.932350</td>\n",
       "      <td>0.958399</td>\n",
       "      <td>0.931763</td>\n",
       "      <td>0</td>\n",
       "    </tr>\n",
       "    <tr>\n",
       "      <th>3</th>\n",
       "      <td>49.231160</td>\n",
       "      <td>42.645217</td>\n",
       "      <td>1818.614523</td>\n",
       "      <td>0.483434</td>\n",
       "      <td>6.123446</td>\n",
       "      <td>10.533521</td>\n",
       "      <td>-1.392569</td>\n",
       "      <td>2.778616</td>\n",
       "      <td>7.928608</td>\n",
       "      <td>10.892414</td>\n",
       "      <td>...</td>\n",
       "      <td>0.450451</td>\n",
       "      <td>0.374133</td>\n",
       "      <td>0.365637</td>\n",
       "      <td>0.379210</td>\n",
       "      <td>0.367641</td>\n",
       "      <td>0.913667</td>\n",
       "      <td>0.891387</td>\n",
       "      <td>0.927097</td>\n",
       "      <td>0.891294</td>\n",
       "      <td>0</td>\n",
       "    </tr>\n",
       "    <tr>\n",
       "      <th>4</th>\n",
       "      <td>77.261385</td>\n",
       "      <td>83.705507</td>\n",
       "      <td>7006.611845</td>\n",
       "      <td>0.747321</td>\n",
       "      <td>6.017668</td>\n",
       "      <td>7.935202</td>\n",
       "      <td>-0.774676</td>\n",
       "      <td>2.996775</td>\n",
       "      <td>7.602490</td>\n",
       "      <td>11.633094</td>\n",
       "      <td>...</td>\n",
       "      <td>0.444437</td>\n",
       "      <td>0.312793</td>\n",
       "      <td>0.304938</td>\n",
       "      <td>0.317934</td>\n",
       "      <td>0.302303</td>\n",
       "      <td>0.923784</td>\n",
       "      <td>0.898480</td>\n",
       "      <td>0.934894</td>\n",
       "      <td>0.898350</td>\n",
       "      <td>0</td>\n",
       "    </tr>\n",
       "  </tbody>\n",
       "</table>\n",
       "<p>5 rows × 40 columns</p>\n",
       "</div>"
      ],
      "text/plain": [
       "        Mean        std     Variance  Skewness   Entropy        RMS   Kurtios  \\\n",
       "0  55.212544  46.056565  2121.207208  0.370450  5.375762   9.302612 -0.628678   \n",
       "1  76.037273  79.565990  6330.746828  0.585233  5.781641   7.635726 -0.877843   \n",
       "2  53.652053  59.587603  3550.682395  1.574931  4.946379  10.302398  2.218936   \n",
       "3  49.231160  42.645217  1818.614523  0.483434  6.123446  10.533521 -1.392569   \n",
       "4  77.261385  83.705507  7006.611845  0.747321  6.017668   7.935202 -0.774676   \n",
       "\n",
       "       HMI1      HMI2       HMI3  ...  homogeneity4   energy1   energy2  \\\n",
       "0  2.752905  8.030957  11.070417  ...      0.513325  0.177499  0.172328   \n",
       "1  2.904895  7.803627  12.448359  ...      0.432991  0.230150  0.221221   \n",
       "2  2.779911  7.267831  10.447366  ...      0.490227  0.232071  0.220649   \n",
       "3  2.778616  7.928608  10.892414  ...      0.450451  0.374133  0.365637   \n",
       "4  2.996775  7.602490  11.633094  ...      0.444437  0.312793  0.304938   \n",
       "\n",
       "    energy3   energy4  correlation1  correlation2  correlation3  correlation4  \\\n",
       "0  0.180325  0.171641      0.969317      0.959636      0.974818      0.958198   \n",
       "1  0.232777  0.221043      0.969677      0.958555      0.973180      0.957760   \n",
       "2  0.233649  0.221646      0.949499      0.932350      0.958399      0.931763   \n",
       "3  0.379210  0.367641      0.913667      0.891387      0.927097      0.891294   \n",
       "4  0.317934  0.302303      0.923784      0.898480      0.934894      0.898350   \n",
       "\n",
       "   Class  \n",
       "0      0  \n",
       "1      0  \n",
       "2      0  \n",
       "3      0  \n",
       "4      0  \n",
       "\n",
       "[5 rows x 40 columns]"
      ]
     },
     "execution_count": 6,
     "metadata": {},
     "output_type": "execute_result"
    }
   ],
   "source": [
    "df.head()"
   ]
  },
  {
   "cell_type": "code",
   "execution_count": 7,
   "metadata": {
    "scrolled": true
   },
   "outputs": [
    {
     "name": "stdout",
     "output_type": "stream",
     "text": [
      "The shape of the data set:\n",
      "The data set consists of 5217 rows and 40 columns.\n",
      "\n",
      "***********************************************\n",
      "The existence of missing values in each column:\n",
      "Mean                   False\n",
      "std                    False\n",
      "Variance               False\n",
      "Skewness               False\n",
      "Entropy                False\n",
      "RMS                    False\n",
      "Kurtios                False\n",
      "HMI1                   False\n",
      "HMI2                   False\n",
      "HMI3                   False\n",
      "HMI4                   False\n",
      "Area                    True\n",
      "Perimeter               True\n",
      "Circle                  True\n",
      "Convex Area             True\n",
      "Solidity                True\n",
      "Equivalent Diameter     True\n",
      "Major Axis              True\n",
      "Minor Axis              True\n",
      "contrast1              False\n",
      "contrast2              False\n",
      "contrast3              False\n",
      "contrast4              False\n",
      "dissimilarity1         False\n",
      "dissimilarity2         False\n",
      "dissimilarity3         False\n",
      "dissimilarity4         False\n",
      "homogeneity1           False\n",
      "homogeneity2           False\n",
      "homogeneity3           False\n",
      "homogeneity4           False\n",
      "energy1                False\n",
      "energy2                False\n",
      "energy3                False\n",
      "energy4                False\n",
      "correlation1           False\n",
      "correlation2           False\n",
      "correlation3           False\n",
      "correlation4           False\n",
      "Class                  False\n",
      "dtype: bool\n",
      "\n",
      "***********************************************\n",
      "General information about the data:\n",
      "<class 'pandas.core.frame.DataFrame'>\n",
      "RangeIndex: 5217 entries, 0 to 5216\n",
      "Data columns (total 40 columns):\n",
      " #   Column               Non-Null Count  Dtype  \n",
      "---  ------               --------------  -----  \n",
      " 0   Mean                 5217 non-null   float64\n",
      " 1   std                  5217 non-null   float64\n",
      " 2   Variance             5217 non-null   float64\n",
      " 3   Skewness             5217 non-null   float64\n",
      " 4   Entropy              5217 non-null   float64\n",
      " 5   RMS                  5217 non-null   float64\n",
      " 6   Kurtios              5217 non-null   float64\n",
      " 7   HMI1                 5217 non-null   float64\n",
      " 8   HMI2                 5217 non-null   float64\n",
      " 9   HMI3                 5217 non-null   float64\n",
      " 10  HMI4                 5217 non-null   float64\n",
      " 11  Area                 4601 non-null   float64\n",
      " 12  Perimeter            4601 non-null   float64\n",
      " 13  Circle               4601 non-null   float64\n",
      " 14  Convex Area          4601 non-null   float64\n",
      " 15  Solidity             4601 non-null   float64\n",
      " 16  Equivalent Diameter  4601 non-null   float64\n",
      " 17  Major Axis           4601 non-null   float64\n",
      " 18  Minor Axis           4601 non-null   float64\n",
      " 19  contrast1            5217 non-null   float64\n",
      " 20  contrast2            5217 non-null   float64\n",
      " 21  contrast3            5217 non-null   float64\n",
      " 22  contrast4            5217 non-null   float64\n",
      " 23  dissimilarity1       5217 non-null   float64\n",
      " 24  dissimilarity2       5217 non-null   float64\n",
      " 25  dissimilarity3       5217 non-null   float64\n",
      " 26  dissimilarity4       5217 non-null   float64\n",
      " 27  homogeneity1         5217 non-null   float64\n",
      " 28  homogeneity2         5217 non-null   float64\n",
      " 29  homogeneity3         5217 non-null   float64\n",
      " 30  homogeneity4         5217 non-null   float64\n",
      " 31  energy1              5217 non-null   float64\n",
      " 32  energy2              5217 non-null   float64\n",
      " 33  energy3              5217 non-null   float64\n",
      " 34  energy4              5217 non-null   float64\n",
      " 35  correlation1         5217 non-null   float64\n",
      " 36  correlation2         5217 non-null   float64\n",
      " 37  correlation3         5217 non-null   float64\n",
      " 38  correlation4         5217 non-null   float64\n",
      " 39  Class                5217 non-null   int64  \n",
      "dtypes: float64(39), int64(1)\n",
      "memory usage: 1.6 MB\n",
      "None\n",
      "\n",
      "***********************************************\n",
      "The number of unique values in each column:\n",
      "Mean                   5028\n",
      "std                    5030\n",
      "Variance               5030\n",
      "Skewness               5030\n",
      "Entropy                5029\n",
      "RMS                    5029\n",
      "Kurtios                5030\n",
      "HMI1                   5026\n",
      "HMI2                   5026\n",
      "HMI3                   5026\n",
      "HMI4                   5026\n",
      "Area                   4298\n",
      "Perimeter              4421\n",
      "Circle                 4431\n",
      "Convex Area            4383\n",
      "Solidity               4431\n",
      "Equivalent Diameter    4403\n",
      "Major Axis             4432\n",
      "Minor Axis             4433\n",
      "contrast1              5023\n",
      "contrast2              5023\n",
      "contrast3              5023\n",
      "contrast4              5023\n",
      "dissimilarity1         5023\n",
      "dissimilarity2         5023\n",
      "dissimilarity3         5023\n",
      "dissimilarity4         5023\n",
      "homogeneity1           5023\n",
      "homogeneity2           5023\n",
      "homogeneity3           5023\n",
      "homogeneity4           5023\n",
      "energy1                5023\n",
      "energy2                5023\n",
      "energy3                5023\n",
      "energy4                5023\n",
      "correlation1           5023\n",
      "correlation2           5023\n",
      "correlation3           5023\n",
      "correlation4           5023\n",
      "Class                     4\n",
      "dtype: int64\n"
     ]
    }
   ],
   "source": [
    "data_analysis(df)"
   ]
  },
  {
   "cell_type": "code",
   "execution_count": 80,
   "metadata": {},
   "outputs": [
    {
     "data": {
      "text/plain": [
       "Mean                   0\n",
       "std                    0\n",
       "Variance               0\n",
       "Skewness               0\n",
       "Entropy                0\n",
       "RMS                    0\n",
       "Kurtios                0\n",
       "HMI1                   0\n",
       "HMI2                   0\n",
       "HMI3                   0\n",
       "HMI4                   0\n",
       "Area                   0\n",
       "Perimeter              0\n",
       "Circle                 0\n",
       "Convex Area            0\n",
       "Solidity               0\n",
       "Equivalent Diameter    0\n",
       "Major Axis             0\n",
       "Minor Axis             0\n",
       "contrast1              0\n",
       "contrast2              0\n",
       "contrast3              0\n",
       "contrast4              0\n",
       "dissimilarity1         0\n",
       "dissimilarity2         0\n",
       "dissimilarity3         0\n",
       "dissimilarity4         0\n",
       "homogeneity1           0\n",
       "homogeneity2           0\n",
       "homogeneity3           0\n",
       "homogeneity4           0\n",
       "energy1                0\n",
       "energy2                0\n",
       "energy3                0\n",
       "energy4                0\n",
       "correlation1           0\n",
       "correlation2           0\n",
       "correlation3           0\n",
       "correlation4           0\n",
       "Class                  0\n",
       "dtype: int64"
      ]
     },
     "execution_count": 80,
     "metadata": {},
     "output_type": "execute_result"
    }
   ],
   "source": [
    "# df = df.dropna()\n",
    "\n",
    "missing_data = ['Area', 'Perimeter', 'Circle', 'Convex Area', 'Solidity', 'Equivalent Diameter', 'Major Axis', 'Minor Axis']\n",
    "for i in missing_data:\n",
    "    fill_list = df[i].dropna().tolist()\n",
    "    # df[i] = df[i].fillna(pd.Series(np.random.choice(fill_list , size = len(df.index))))\n",
    "    mean_fill = np.mean(fill_list)\n",
    "    df[i] = df[i].fillna(mean_fill)\n",
    "df.isnull().sum()"
   ]
  },
  {
   "cell_type": "code",
   "execution_count": 81,
   "metadata": {},
   "outputs": [],
   "source": [
    "X = df.drop(columns=[\"Class\"])\n",
    "y = df[\"Class\"]"
   ]
  },
  {
   "cell_type": "markdown",
   "metadata": {},
   "source": [
    "## feature selection"
   ]
  },
  {
   "cell_type": "code",
   "execution_count": 82,
   "metadata": {},
   "outputs": [
    {
     "name": "stdout",
     "output_type": "stream",
     "text": [
      "Feature Mean: Score 0.47114247635587847\n",
      "Feature std: Score 0.4704960449659905\n",
      "Feature Variance: Score 0.4704889978217637\n",
      "Feature contrast4: Score 0.4661881218395143\n",
      "Feature correlation4: Score 0.46088780747691893\n",
      "Feature contrast2: Score 0.30537128586209317\n",
      "Feature contrast3: Score 0.2910232825428394\n",
      "Feature contrast1: Score 0.2804242973388842\n",
      "Feature energy3: Score 0.27467010913982337\n",
      "Feature HMI1: Score 0.2677576730024738\n",
      "Feature energy4: Score 0.2664441613350155\n",
      "Feature dissimilarity4: Score 0.24960939822613115\n",
      "Feature energy2: Score 0.23339908192789682\n",
      "Feature correlation3: Score 0.23254402321343637\n",
      "Feature correlation1: Score 0.23161359864250608\n",
      "Feature dissimilarity1: Score 0.22858090213767568\n",
      "Feature correlation2: Score 0.1989732696574329\n",
      "Feature dissimilarity3: Score 0.15566827057320065\n",
      "Feature dissimilarity2: Score 0.1389583480224612\n",
      "Feature energy1: Score 0.1371073075616529\n"
     ]
    }
   ],
   "source": [
    "from sklearn.feature_selection import SelectKBest, mutual_info_classif\n",
    "\n",
    "# Initialize the feature selector\n",
    "k_best = SelectKBest(score_func=mutual_info_classif, k=20)  # Select the top 2 features based on mutual information\n",
    "\n",
    "feature_names = ['Mean', 'std','Variance','Skewness', 'Entropy', 'RMS', 'Kurtios', 'HMI1', 'HMI2', 'HMI3',\n",
    "       'HMI4', 'Area', 'Perimeter', 'Circle', 'Convex Area', 'Solidity',\n",
    "       'Equivalent Diameter', 'Major Axis', 'Minor Axis', 'contrast1',\n",
    "       'contrast2', 'contrast3', 'contrast4', 'dissimilarity1',\n",
    "       'dissimilarity2', 'dissimilarity3', 'dissimilarity4', 'homogeneity1',\n",
    "       'homogeneity2', 'homogeneity3', 'homogeneity4', 'energy1', 'energy2',\n",
    "       'energy3', 'energy4', 'correlation1', 'correlation2', 'correlation3',\n",
    "       'correlation4']\n",
    "\n",
    "# Apply feature selection to the data\n",
    "X_selected = k_best.fit_transform(X, y)\n",
    "\n",
    "# Get the selected feature indices and scores\n",
    "selected_indices = k_best.get_support(indices=True)\n",
    "selected_scores = k_best.scores_\n",
    "\n",
    "# Sort the features based on scores in ascending order\n",
    "sorted_features = sorted(zip(selected_indices, selected_scores), key=lambda x: x[1], reverse=True)\n",
    "X_select = pd.DataFrame()\n",
    "# Print the top 20 features in ascending order\n",
    "ll=[]\n",
    "for idx, score in sorted_features[:20]:\n",
    "    ll.append(feature_names[idx])\n",
    "    print(f\"Feature {feature_names[idx]}: Score {score}\")"
   ]
  },
  {
   "cell_type": "markdown",
   "metadata": {},
   "source": [
    "## select best features only"
   ]
  },
  {
   "cell_type": "code",
   "execution_count": 83,
   "metadata": {},
   "outputs": [],
   "source": [
    "X_select = X[ll]"
   ]
  },
  {
   "cell_type": "code",
   "execution_count": 84,
   "metadata": {},
   "outputs": [
    {
     "data": {
      "text/html": [
       "<div>\n",
       "<style scoped>\n",
       "    .dataframe tbody tr th:only-of-type {\n",
       "        vertical-align: middle;\n",
       "    }\n",
       "\n",
       "    .dataframe tbody tr th {\n",
       "        vertical-align: top;\n",
       "    }\n",
       "\n",
       "    .dataframe thead th {\n",
       "        text-align: right;\n",
       "    }\n",
       "</style>\n",
       "<table border=\"1\" class=\"dataframe\">\n",
       "  <thead>\n",
       "    <tr style=\"text-align: right;\">\n",
       "      <th></th>\n",
       "      <th>Mean</th>\n",
       "      <th>std</th>\n",
       "      <th>Variance</th>\n",
       "      <th>contrast4</th>\n",
       "      <th>correlation4</th>\n",
       "      <th>contrast2</th>\n",
       "      <th>contrast3</th>\n",
       "      <th>contrast1</th>\n",
       "      <th>energy3</th>\n",
       "      <th>HMI1</th>\n",
       "      <th>energy4</th>\n",
       "      <th>dissimilarity4</th>\n",
       "      <th>energy2</th>\n",
       "      <th>correlation3</th>\n",
       "      <th>correlation1</th>\n",
       "      <th>dissimilarity1</th>\n",
       "      <th>correlation2</th>\n",
       "      <th>dissimilarity3</th>\n",
       "      <th>dissimilarity2</th>\n",
       "      <th>energy1</th>\n",
       "    </tr>\n",
       "  </thead>\n",
       "  <tbody>\n",
       "    <tr>\n",
       "      <th>0</th>\n",
       "      <td>55.212544</td>\n",
       "      <td>46.056565</td>\n",
       "      <td>2121.207208</td>\n",
       "      <td>190.455883</td>\n",
       "      <td>0.958198</td>\n",
       "      <td>183.902674</td>\n",
       "      <td>114.986416</td>\n",
       "      <td>140.013325</td>\n",
       "      <td>0.180325</td>\n",
       "      <td>2.752905</td>\n",
       "      <td>0.171641</td>\n",
       "      <td>4.859588</td>\n",
       "      <td>0.172328</td>\n",
       "      <td>0.974818</td>\n",
       "      <td>0.969317</td>\n",
       "      <td>3.831805</td>\n",
       "      <td>0.959636</td>\n",
       "      <td>3.082982</td>\n",
       "      <td>4.735315</td>\n",
       "      <td>0.177499</td>\n",
       "    </tr>\n",
       "    <tr>\n",
       "      <th>1</th>\n",
       "      <td>76.037273</td>\n",
       "      <td>79.565990</td>\n",
       "      <td>6330.746828</td>\n",
       "      <td>512.597992</td>\n",
       "      <td>0.957760</td>\n",
       "      <td>502.955136</td>\n",
       "      <td>325.904539</td>\n",
       "      <td>368.273419</td>\n",
       "      <td>0.232777</td>\n",
       "      <td>2.904895</td>\n",
       "      <td>0.221043</td>\n",
       "      <td>8.872275</td>\n",
       "      <td>0.221221</td>\n",
       "      <td>0.973180</td>\n",
       "      <td>0.969677</td>\n",
       "      <td>6.768184</td>\n",
       "      <td>0.958555</td>\n",
       "      <td>6.198473</td>\n",
       "      <td>8.761257</td>\n",
       "      <td>0.230150</td>\n",
       "    </tr>\n",
       "    <tr>\n",
       "      <th>2</th>\n",
       "      <td>53.652053</td>\n",
       "      <td>59.587603</td>\n",
       "      <td>3550.682395</td>\n",
       "      <td>556.220494</td>\n",
       "      <td>0.931763</td>\n",
       "      <td>551.439410</td>\n",
       "      <td>339.474792</td>\n",
       "      <td>411.974803</td>\n",
       "      <td>0.233649</td>\n",
       "      <td>2.779911</td>\n",
       "      <td>0.221646</td>\n",
       "      <td>8.784037</td>\n",
       "      <td>0.220649</td>\n",
       "      <td>0.958399</td>\n",
       "      <td>0.949499</td>\n",
       "      <td>6.668132</td>\n",
       "      <td>0.932350</td>\n",
       "      <td>6.031714</td>\n",
       "      <td>8.844310</td>\n",
       "      <td>0.232071</td>\n",
       "    </tr>\n",
       "    <tr>\n",
       "      <th>3</th>\n",
       "      <td>49.231160</td>\n",
       "      <td>42.645217</td>\n",
       "      <td>1818.614523</td>\n",
       "      <td>535.851169</td>\n",
       "      <td>0.891294</td>\n",
       "      <td>535.392752</td>\n",
       "      <td>361.157438</td>\n",
       "      <td>427.392473</td>\n",
       "      <td>0.379210</td>\n",
       "      <td>2.778616</td>\n",
       "      <td>0.367641</td>\n",
       "      <td>10.319736</td>\n",
       "      <td>0.365637</td>\n",
       "      <td>0.927097</td>\n",
       "      <td>0.913667</td>\n",
       "      <td>8.527744</td>\n",
       "      <td>0.891387</td>\n",
       "      <td>7.879728</td>\n",
       "      <td>10.431541</td>\n",
       "      <td>0.374133</td>\n",
       "    </tr>\n",
       "    <tr>\n",
       "      <th>4</th>\n",
       "      <td>77.261385</td>\n",
       "      <td>83.705507</td>\n",
       "      <td>7006.611845</td>\n",
       "      <td>997.611651</td>\n",
       "      <td>0.898350</td>\n",
       "      <td>996.340638</td>\n",
       "      <td>644.759621</td>\n",
       "      <td>753.461519</td>\n",
       "      <td>0.317934</td>\n",
       "      <td>2.996775</td>\n",
       "      <td>0.302303</td>\n",
       "      <td>14.967293</td>\n",
       "      <td>0.304938</td>\n",
       "      <td>0.934894</td>\n",
       "      <td>0.923784</td>\n",
       "      <td>11.950924</td>\n",
       "      <td>0.898480</td>\n",
       "      <td>10.607111</td>\n",
       "      <td>14.913752</td>\n",
       "      <td>0.312793</td>\n",
       "    </tr>\n",
       "    <tr>\n",
       "      <th>...</th>\n",
       "      <td>...</td>\n",
       "      <td>...</td>\n",
       "      <td>...</td>\n",
       "      <td>...</td>\n",
       "      <td>...</td>\n",
       "      <td>...</td>\n",
       "      <td>...</td>\n",
       "      <td>...</td>\n",
       "      <td>...</td>\n",
       "      <td>...</td>\n",
       "      <td>...</td>\n",
       "      <td>...</td>\n",
       "      <td>...</td>\n",
       "      <td>...</td>\n",
       "      <td>...</td>\n",
       "      <td>...</td>\n",
       "      <td>...</td>\n",
       "      <td>...</td>\n",
       "      <td>...</td>\n",
       "      <td>...</td>\n",
       "    </tr>\n",
       "    <tr>\n",
       "      <th>5212</th>\n",
       "      <td>55.537216</td>\n",
       "      <td>41.476325</td>\n",
       "      <td>1720.285572</td>\n",
       "      <td>371.946740</td>\n",
       "      <td>0.912128</td>\n",
       "      <td>360.145406</td>\n",
       "      <td>213.722145</td>\n",
       "      <td>285.485452</td>\n",
       "      <td>0.154335</td>\n",
       "      <td>2.678192</td>\n",
       "      <td>0.144780</td>\n",
       "      <td>7.500077</td>\n",
       "      <td>0.145493</td>\n",
       "      <td>0.949625</td>\n",
       "      <td>0.932639</td>\n",
       "      <td>5.922500</td>\n",
       "      <td>0.914916</td>\n",
       "      <td>4.884709</td>\n",
       "      <td>7.329037</td>\n",
       "      <td>0.149783</td>\n",
       "    </tr>\n",
       "    <tr>\n",
       "      <th>5213</th>\n",
       "      <td>58.451622</td>\n",
       "      <td>42.845989</td>\n",
       "      <td>1835.778749</td>\n",
       "      <td>329.672273</td>\n",
       "      <td>0.920016</td>\n",
       "      <td>325.038720</td>\n",
       "      <td>184.926555</td>\n",
       "      <td>263.393509</td>\n",
       "      <td>0.141475</td>\n",
       "      <td>2.700193</td>\n",
       "      <td>0.131985</td>\n",
       "      <td>7.338640</td>\n",
       "      <td>0.132942</td>\n",
       "      <td>0.955264</td>\n",
       "      <td>0.936218</td>\n",
       "      <td>5.841866</td>\n",
       "      <td>0.921140</td>\n",
       "      <td>4.831209</td>\n",
       "      <td>7.204017</td>\n",
       "      <td>0.136611</td>\n",
       "    </tr>\n",
       "    <tr>\n",
       "      <th>5214</th>\n",
       "      <td>45.893677</td>\n",
       "      <td>33.173744</td>\n",
       "      <td>1100.497301</td>\n",
       "      <td>220.971159</td>\n",
       "      <td>0.910542</td>\n",
       "      <td>208.513996</td>\n",
       "      <td>123.585835</td>\n",
       "      <td>164.600526</td>\n",
       "      <td>0.082941</td>\n",
       "      <td>2.585893</td>\n",
       "      <td>0.076869</td>\n",
       "      <td>5.813055</td>\n",
       "      <td>0.077379</td>\n",
       "      <td>0.950032</td>\n",
       "      <td>0.933455</td>\n",
       "      <td>4.430714</td>\n",
       "      <td>0.915585</td>\n",
       "      <td>3.914038</td>\n",
       "      <td>5.633784</td>\n",
       "      <td>0.081568</td>\n",
       "    </tr>\n",
       "    <tr>\n",
       "      <th>5215</th>\n",
       "      <td>41.703392</td>\n",
       "      <td>36.594254</td>\n",
       "      <td>1339.139410</td>\n",
       "      <td>258.275182</td>\n",
       "      <td>0.926715</td>\n",
       "      <td>260.407608</td>\n",
       "      <td>164.764602</td>\n",
       "      <td>185.530025</td>\n",
       "      <td>0.102649</td>\n",
       "      <td>2.608306</td>\n",
       "      <td>0.095976</td>\n",
       "      <td>6.656449</td>\n",
       "      <td>0.096011</td>\n",
       "      <td>0.953305</td>\n",
       "      <td>0.947402</td>\n",
       "      <td>5.071237</td>\n",
       "      <td>0.926110</td>\n",
       "      <td>4.619081</td>\n",
       "      <td>6.705807</td>\n",
       "      <td>0.100671</td>\n",
       "    </tr>\n",
       "    <tr>\n",
       "      <th>5216</th>\n",
       "      <td>36.168495</td>\n",
       "      <td>43.646127</td>\n",
       "      <td>1904.984404</td>\n",
       "      <td>302.771623</td>\n",
       "      <td>0.941147</td>\n",
       "      <td>312.119533</td>\n",
       "      <td>195.160798</td>\n",
       "      <td>218.478588</td>\n",
       "      <td>0.144641</td>\n",
       "      <td>2.614579</td>\n",
       "      <td>0.135644</td>\n",
       "      <td>6.656991</td>\n",
       "      <td>0.135068</td>\n",
       "      <td>0.962100</td>\n",
       "      <td>0.957569</td>\n",
       "      <td>5.067747</td>\n",
       "      <td>0.939330</td>\n",
       "      <td>4.692847</td>\n",
       "      <td>6.776350</td>\n",
       "      <td>0.142878</td>\n",
       "    </tr>\n",
       "  </tbody>\n",
       "</table>\n",
       "<p>5217 rows × 20 columns</p>\n",
       "</div>"
      ],
      "text/plain": [
       "           Mean        std     Variance   contrast4  correlation4   contrast2  \\\n",
       "0     55.212544  46.056565  2121.207208  190.455883      0.958198  183.902674   \n",
       "1     76.037273  79.565990  6330.746828  512.597992      0.957760  502.955136   \n",
       "2     53.652053  59.587603  3550.682395  556.220494      0.931763  551.439410   \n",
       "3     49.231160  42.645217  1818.614523  535.851169      0.891294  535.392752   \n",
       "4     77.261385  83.705507  7006.611845  997.611651      0.898350  996.340638   \n",
       "...         ...        ...          ...         ...           ...         ...   \n",
       "5212  55.537216  41.476325  1720.285572  371.946740      0.912128  360.145406   \n",
       "5213  58.451622  42.845989  1835.778749  329.672273      0.920016  325.038720   \n",
       "5214  45.893677  33.173744  1100.497301  220.971159      0.910542  208.513996   \n",
       "5215  41.703392  36.594254  1339.139410  258.275182      0.926715  260.407608   \n",
       "5216  36.168495  43.646127  1904.984404  302.771623      0.941147  312.119533   \n",
       "\n",
       "       contrast3   contrast1   energy3      HMI1   energy4  dissimilarity4  \\\n",
       "0     114.986416  140.013325  0.180325  2.752905  0.171641        4.859588   \n",
       "1     325.904539  368.273419  0.232777  2.904895  0.221043        8.872275   \n",
       "2     339.474792  411.974803  0.233649  2.779911  0.221646        8.784037   \n",
       "3     361.157438  427.392473  0.379210  2.778616  0.367641       10.319736   \n",
       "4     644.759621  753.461519  0.317934  2.996775  0.302303       14.967293   \n",
       "...          ...         ...       ...       ...       ...             ...   \n",
       "5212  213.722145  285.485452  0.154335  2.678192  0.144780        7.500077   \n",
       "5213  184.926555  263.393509  0.141475  2.700193  0.131985        7.338640   \n",
       "5214  123.585835  164.600526  0.082941  2.585893  0.076869        5.813055   \n",
       "5215  164.764602  185.530025  0.102649  2.608306  0.095976        6.656449   \n",
       "5216  195.160798  218.478588  0.144641  2.614579  0.135644        6.656991   \n",
       "\n",
       "       energy2  correlation3  correlation1  dissimilarity1  correlation2  \\\n",
       "0     0.172328      0.974818      0.969317        3.831805      0.959636   \n",
       "1     0.221221      0.973180      0.969677        6.768184      0.958555   \n",
       "2     0.220649      0.958399      0.949499        6.668132      0.932350   \n",
       "3     0.365637      0.927097      0.913667        8.527744      0.891387   \n",
       "4     0.304938      0.934894      0.923784       11.950924      0.898480   \n",
       "...        ...           ...           ...             ...           ...   \n",
       "5212  0.145493      0.949625      0.932639        5.922500      0.914916   \n",
       "5213  0.132942      0.955264      0.936218        5.841866      0.921140   \n",
       "5214  0.077379      0.950032      0.933455        4.430714      0.915585   \n",
       "5215  0.096011      0.953305      0.947402        5.071237      0.926110   \n",
       "5216  0.135068      0.962100      0.957569        5.067747      0.939330   \n",
       "\n",
       "      dissimilarity3  dissimilarity2   energy1  \n",
       "0           3.082982        4.735315  0.177499  \n",
       "1           6.198473        8.761257  0.230150  \n",
       "2           6.031714        8.844310  0.232071  \n",
       "3           7.879728       10.431541  0.374133  \n",
       "4          10.607111       14.913752  0.312793  \n",
       "...              ...             ...       ...  \n",
       "5212        4.884709        7.329037  0.149783  \n",
       "5213        4.831209        7.204017  0.136611  \n",
       "5214        3.914038        5.633784  0.081568  \n",
       "5215        4.619081        6.705807  0.100671  \n",
       "5216        4.692847        6.776350  0.142878  \n",
       "\n",
       "[5217 rows x 20 columns]"
      ]
     },
     "execution_count": 84,
     "metadata": {},
     "output_type": "execute_result"
    }
   ],
   "source": [
    "X_select"
   ]
  },
  {
   "cell_type": "markdown",
   "metadata": {},
   "source": [
    "# models with whole dataset"
   ]
  },
  {
   "cell_type": "code",
   "execution_count": 85,
   "metadata": {},
   "outputs": [],
   "source": [
    "from sklearn.model_selection import train_test_split\n",
    "X_train,X_test,y_train,y_test = train_test_split(X,y,test_size=0.2,random_state=42)"
   ]
  },
  {
   "cell_type": "markdown",
   "metadata": {},
   "source": [
    "## RF"
   ]
  },
  {
   "cell_type": "code",
   "execution_count": 86,
   "metadata": {},
   "outputs": [
    {
     "name": "stdout",
     "output_type": "stream",
     "text": [
      "Train Acc of Random Forest : 1.0\n",
      "Test Acc of Random Forest : 0.9022988505747126\n"
     ]
    }
   ],
   "source": [
    "from sklearn.ensemble import RandomForestClassifier\n",
    "rf_clf = RandomForestClassifier()\n",
    "# Fit the parameters before oversampling:\n",
    "rf_clf.fit(X_train, y_train)\n",
    "print(f\"Train Acc of Random Forest : {rf_clf.score(X_train,y_train)}\")\n",
    "# rf_clf.score(X_test,y_test)\n",
    "print(f\"Test Acc of Random Forest : {rf_clf.score(X_test,y_test)}\")"
   ]
  },
  {
   "cell_type": "markdown",
   "metadata": {},
   "source": [
    "## SVM"
   ]
  },
  {
   "cell_type": "code",
   "execution_count": 87,
   "metadata": {},
   "outputs": [
    {
     "name": "stdout",
     "output_type": "stream",
     "text": [
      "Train Acc of SVM : 1.0\n",
      "Test Acc of SVM : 0.5172413793103449\n"
     ]
    }
   ],
   "source": [
    "from sklearn.svm import SVC\n",
    "clf1 = SVC(kernel='rbf',C=100,gamma=0.001)\n",
    "clf1.fit(X_train, y_train)\n",
    "print(f\"Train Acc of SVM : {clf1.score(X_train,y_train)}\")\n",
    "print(f\"Test Acc of SVM : {clf1.score(X_test,y_test)}\")"
   ]
  },
  {
   "cell_type": "markdown",
   "metadata": {},
   "source": [
    "## KNN"
   ]
  },
  {
   "cell_type": "code",
   "execution_count": 88,
   "metadata": {},
   "outputs": [
    {
     "name": "stdout",
     "output_type": "stream",
     "text": [
      "Train acc of KNN: 0.7414330218068536\n",
      "Test acc of KNN: 0.6695402298850575\n"
     ]
    }
   ],
   "source": [
    "from sklearn.neighbors import KNeighborsClassifier\n",
    "\n",
    "# create KNeighborsClassifier with 7 neighbors \n",
    "knn = KNeighborsClassifier(n_neighbors=7)\n",
    "# Fit the data to knn model\n",
    "knn.fit(X_train,y_train)\n",
    "print(f\"Train acc of KNN: {knn.score(X_train,y_train)}\")\n",
    "print(f\"Test acc of KNN: {knn.score(X_test,y_test)}\")"
   ]
  },
  {
   "cell_type": "markdown",
   "metadata": {},
   "source": [
    "## PCA and StandardScaler"
   ]
  },
  {
   "cell_type": "code",
   "execution_count": 89,
   "metadata": {},
   "outputs": [],
   "source": [
    "from sklearn.decomposition import PCA\n",
    "from sklearn.preprocessing import StandardScaler\n",
    "pca_m = PCA(n_components=37)\n",
    "\n",
    "new_X = pca_m.fit_transform(X)\n",
    "scaler = StandardScaler()\n",
    "new_X = scaler.fit_transform(new_X)"
   ]
  },
  {
   "cell_type": "markdown",
   "metadata": {},
   "source": [
    "## split data after pca and scaler"
   ]
  },
  {
   "cell_type": "code",
   "execution_count": 90,
   "metadata": {},
   "outputs": [],
   "source": [
    "X_trainn,X_testn,y_trainn,y_testn = train_test_split(new_X,y,test_size=0.2,random_state=42)"
   ]
  },
  {
   "cell_type": "markdown",
   "metadata": {},
   "source": [
    "## RF PCA"
   ]
  },
  {
   "cell_type": "code",
   "execution_count": 91,
   "metadata": {},
   "outputs": [
    {
     "name": "stdout",
     "output_type": "stream",
     "text": [
      "Train Acc of Random Forest PCA : 1.0\n",
      "Test Acc of Random Forest PCA : 0.9042145593869731\n"
     ]
    }
   ],
   "source": [
    "from sklearn.ensemble import RandomForestClassifier\n",
    "rf_clf2 = RandomForestClassifier()\n",
    "# Fit the parameters before oversampling:\n",
    "rf_clf2.fit(X_trainn, y_trainn)\n",
    "print(f\"Train Acc of Random Forest PCA : {rf_clf2.score(X_trainn,y_trainn)}\")\n",
    "print(f\"Test Acc of Random Forest PCA : {rf_clf2.score(X_testn,y_testn)}\")"
   ]
  },
  {
   "cell_type": "markdown",
   "metadata": {},
   "source": [
    "## SVM PCA"
   ]
  },
  {
   "cell_type": "code",
   "execution_count": 92,
   "metadata": {},
   "outputs": [
    {
     "name": "stdout",
     "output_type": "stream",
     "text": [
      "Train Acc of SVM PCA : 0.8847352024922118\n",
      "Test Acc of SVM PCA : 0.8620689655172413\n"
     ]
    }
   ],
   "source": [
    "from sklearn.svm import SVC\n",
    "clf2 = SVC(kernel='linear',C=100,gamma=0.001)\n",
    "clf2.fit(X_trainn, y_trainn)\n",
    "\n",
    "print(f\"Train Acc of SVM PCA : {clf2.score(X_trainn,y_trainn)}\")\n",
    "print(f\"Test Acc of SVM PCA : {clf2.score(X_testn,y_testn)}\")"
   ]
  },
  {
   "cell_type": "markdown",
   "metadata": {},
   "source": [
    "## KNN PCA"
   ]
  },
  {
   "cell_type": "code",
   "execution_count": 93,
   "metadata": {},
   "outputs": [
    {
     "name": "stdout",
     "output_type": "stream",
     "text": [
      "Train acc of KNN PCA : 0.9094176851186196\n",
      "Test acc of KNN PCA : 0.8735632183908046\n"
     ]
    }
   ],
   "source": [
    "knn2 = KNeighborsClassifier(n_neighbors=7)\n",
    "# Fit the data to knn model\n",
    "knn2.fit(X_trainn,y_trainn)\n",
    "print(f\"Train acc of KNN PCA : {knn2.score(X_trainn,y_trainn)}\")\n",
    "print(f\"Test acc of KNN PCA : {knn2.score(X_testn,y_testn)}\")"
   ]
  },
  {
   "cell_type": "markdown",
   "metadata": {},
   "source": [
    "# selected features"
   ]
  },
  {
   "cell_type": "code",
   "execution_count": 94,
   "metadata": {},
   "outputs": [],
   "source": [
    "from sklearn.model_selection import train_test_split\n",
    "X_train,X_test,y_train,y_test = train_test_split(X_select,y,test_size=0.2,random_state=42)"
   ]
  },
  {
   "cell_type": "markdown",
   "metadata": {},
   "source": [
    "## RF Selected"
   ]
  },
  {
   "cell_type": "code",
   "execution_count": 95,
   "metadata": {},
   "outputs": [
    {
     "name": "stdout",
     "output_type": "stream",
     "text": [
      "Train Acc of Random Forest : 1.0\n",
      "Test Acc of Random Forest : 0.8764367816091954\n"
     ]
    }
   ],
   "source": [
    "from sklearn.ensemble import RandomForestClassifier\n",
    "rf_clf = RandomForestClassifier()\n",
    "# Fit the parameters before oversampling:\n",
    "rf_clf.fit(X_train, y_train)\n",
    "print(f\"Train Acc of Random Forest : {rf_clf.score(X_train,y_train)}\")\n",
    "# rf_clf.score(X_test,y_test)\n",
    "print(f\"Test Acc of Random Forest : {rf_clf.score(X_test,y_test)}\")"
   ]
  },
  {
   "cell_type": "markdown",
   "metadata": {},
   "source": [
    "## SVM Selected"
   ]
  },
  {
   "cell_type": "code",
   "execution_count": 96,
   "metadata": {},
   "outputs": [
    {
     "name": "stdout",
     "output_type": "stream",
     "text": [
      "Train Acc of SVM : 1.0\n",
      "Test Acc of SVM : 0.7452107279693486\n"
     ]
    }
   ],
   "source": [
    "from sklearn.svm import SVC\n",
    "clf1 = SVC(kernel='rbf',C=100,gamma=0.001)\n",
    "clf1.fit(X_train, y_train)\n",
    "print(f\"Train Acc of SVM : {clf1.score(X_train,y_train)}\")\n",
    "print(f\"Test Acc of SVM : {clf1.score(X_test,y_test)}\")"
   ]
  },
  {
   "cell_type": "markdown",
   "metadata": {},
   "source": [
    "## KNN Selected"
   ]
  },
  {
   "cell_type": "code",
   "execution_count": 97,
   "metadata": {},
   "outputs": [
    {
     "name": "stdout",
     "output_type": "stream",
     "text": [
      "Train acc of KNN: 0.7768991133477114\n",
      "Test acc of KNN: 0.6906130268199234\n"
     ]
    }
   ],
   "source": [
    "from sklearn.neighbors import KNeighborsClassifier\n",
    "\n",
    "# create KNeighborsClassifier with 7 neighbors \n",
    "knn = KNeighborsClassifier(n_neighbors=7)\n",
    "# Fit the data to knn model\n",
    "knn.fit(X_train,y_train)\n",
    "print(f\"Train acc of KNN: {knn.score(X_train,y_train)}\")\n",
    "print(f\"Test acc of KNN: {knn.score(X_test,y_test)}\")"
   ]
  },
  {
   "cell_type": "markdown",
   "metadata": {},
   "source": [
    "## With PCA and StandardScaler"
   ]
  },
  {
   "cell_type": "code",
   "execution_count": 98,
   "metadata": {},
   "outputs": [],
   "source": [
    "from sklearn.decomposition import PCA\n",
    "from sklearn.preprocessing import StandardScaler\n",
    "pca_m = PCA(n_components=20)\n",
    "\n",
    "new_X = pca_m.fit_transform(X_select)\n",
    "scaler = StandardScaler()\n",
    "new_X = scaler.fit_transform(new_X)"
   ]
  },
  {
   "cell_type": "markdown",
   "metadata": {},
   "source": [
    "## Split Selected"
   ]
  },
  {
   "cell_type": "code",
   "execution_count": 99,
   "metadata": {},
   "outputs": [],
   "source": [
    "X_trainn,X_testn,y_trainn,y_testn = train_test_split(new_X,y,test_size=0.2,random_state=42)"
   ]
  },
  {
   "cell_type": "markdown",
   "metadata": {},
   "source": [
    "## RF Selected PCA"
   ]
  },
  {
   "cell_type": "code",
   "execution_count": 100,
   "metadata": {},
   "outputs": [
    {
     "name": "stdout",
     "output_type": "stream",
     "text": [
      "Train Acc of Random Forest PCA : 1.0\n",
      "Test Acc of Random Forest PCA : 0.8917624521072797\n"
     ]
    }
   ],
   "source": [
    "from sklearn.ensemble import RandomForestClassifier\n",
    "rf_clf2 = RandomForestClassifier()\n",
    "# Fit the parameters before oversampling:\n",
    "rf_clf2.fit(X_trainn, y_trainn)\n",
    "print(f\"Train Acc of Random Forest PCA : {rf_clf2.score(X_trainn,y_trainn)}\")\n",
    "print(f\"Test Acc of Random Forest PCA : {rf_clf2.score(X_testn,y_testn)}\")"
   ]
  },
  {
   "cell_type": "markdown",
   "metadata": {},
   "source": [
    "## SVM Selected PCA"
   ]
  },
  {
   "cell_type": "code",
   "execution_count": 101,
   "metadata": {},
   "outputs": [
    {
     "name": "stdout",
     "output_type": "stream",
     "text": [
      "Train Acc of SVM PCA : 0.8142822909178049\n",
      "Test Acc of SVM PCA : 0.8084291187739464\n"
     ]
    }
   ],
   "source": [
    "from sklearn.svm import SVC\n",
    "clf2 = SVC(kernel='linear',C=100,gamma=0.001)\n",
    "clf2.fit(X_trainn, y_trainn)\n",
    "\n",
    "print(f\"Train Acc of SVM PCA : {clf2.score(X_trainn,y_trainn)}\")\n",
    "print(f\"Test Acc of SVM PCA : {clf2.score(X_testn,y_testn)}\")"
   ]
  },
  {
   "cell_type": "markdown",
   "metadata": {},
   "source": [
    "## KNN Selected PCA"
   ]
  },
  {
   "cell_type": "code",
   "execution_count": 102,
   "metadata": {},
   "outputs": [
    {
     "name": "stdout",
     "output_type": "stream",
     "text": [
      "Train acc of KNN PCA : 0.8837766594775941\n",
      "Test acc of KNN PCA : 0.8275862068965517\n"
     ]
    }
   ],
   "source": [
    "knn2 = KNeighborsClassifier(n_neighbors=7)\n",
    "# Fit the data to knn model\n",
    "knn2.fit(X_trainn,y_trainn)\n",
    "print(f\"Train acc of KNN PCA : {knn2.score(X_trainn,y_trainn)}\")\n",
    "print(f\"Test acc of KNN PCA : {knn2.score(X_testn,y_testn)}\")"
   ]
  },
  {
   "cell_type": "code",
   "execution_count": 103,
   "metadata": {},
   "outputs": [],
   "source": [
    "import numpy as np\n",
    "import matplotlib.pyplot as plt\n",
    "import seaborn as sns\n",
    "from sklearn.metrics import accuracy_score, precision_score, recall_score, f1_score, confusion_matrix, classification_report\n",
    "\n",
    "def evaluate_classification_model(model, X_test, y_test):\n",
    "    # Make predictions on the test set\n",
    "    y_pred = model.predict(X_test)\n",
    "\n",
    "    # Compute evaluation metrics\n",
    "    accuracy = accuracy_score(y_test, y_pred)\n",
    "    precision = precision_score(y_test, y_pred, average='weighted')\n",
    "    recall = recall_score(y_test, y_pred, average='weighted')\n",
    "    f1 = f1_score(y_test, y_pred, average='weighted')\n",
    "    cm = confusion_matrix(y_test, y_pred)\n",
    "\n",
    "    # Print the evaluation metrics\n",
    "    print(\"Accuracy:\", accuracy)\n",
    "    print(\"Precision:\", precision)\n",
    "    print(\"Recall:\", recall)\n",
    "    print(\"F1-score:\", f1)\n",
    "\n",
    "    # Plot the confusion matrix\n",
    "    labels = np.unique(y_test)\n",
    "    sns.heatmap(cm, annot=True, fmt='d', cmap='Blues', xticklabels=labels, yticklabels=labels)\n",
    "    plt.title('Confusion Matrix')\n",
    "    plt.xlabel('Predicted Label')\n",
    "    plt.ylabel('True Label')\n",
    "    plt.show()\n"
   ]
  },
  {
   "cell_type": "markdown",
   "metadata": {},
   "source": [
    "### RF evaluation"
   ]
  },
  {
   "cell_type": "code",
   "execution_count": 104,
   "metadata": {},
   "outputs": [
    {
     "name": "stdout",
     "output_type": "stream",
     "text": [
      "Accuracy: 1.0\n",
      "Precision: 1.0\n",
      "Recall: 1.0\n",
      "F1-score: 1.0\n"
     ]
    },
    {
     "data": {
      "image/png": "[encoded data removed]",
      "text/plain": [
       "<Figure size 432x288 with 2 Axes>"
      ]
     },
     "metadata": {
      "needs_background": "light"
     },
     "output_type": "display_data"
    }
   ],
   "source": [
    "evaluate_classification_model(rf_clf2,X_trainn,y_trainn)"
   ]
  },
  {
   "cell_type": "markdown",
   "metadata": {},
   "source": [
    "### Svm evaluation"
   ]
  },
  {
   "cell_type": "code",
   "execution_count": 105,
   "metadata": {},
   "outputs": [
    {
     "name": "stdout",
     "output_type": "stream",
     "text": [
      "Accuracy: 0.8142822909178049\n",
      "Precision: 0.8137258794305329\n",
      "Recall: 0.8142822909178049\n",
      "F1-score: 0.8138656698544225\n"
     ]
    },
    {
     "data": {
      "image/png": "[encoded data removed]",
      "text/plain": [
       "<Figure size 432x288 with 2 Axes>"
      ]
     },
     "metadata": {
      "needs_background": "light"
     },
     "output_type": "display_data"
    }
   ],
   "source": [
    "evaluate_classification_model(clf2,X_trainn,y_trainn)"
   ]
  },
  {
   "cell_type": "markdown",
   "metadata": {},
   "source": [
    "### Knn evaluation "
   ]
  },
  {
   "cell_type": "code",
   "execution_count": 106,
   "metadata": {},
   "outputs": [
    {
     "name": "stdout",
     "output_type": "stream",
     "text": [
      "Accuracy: 0.8837766594775941\n",
      "Precision: 0.8850015773393685\n",
      "Recall: 0.8837766594775941\n",
      "F1-score: 0.8825034931851811\n"
     ]
    },
    {
     "data": {
      "image/png": "[encoded data removed]",
      "text/plain": [
       "<Figure size 432x288 with 2 Axes>"
      ]
     },
     "metadata": {
      "needs_background": "light"
     },
     "output_type": "display_data"
    }
   ],
   "source": [
    "evaluate_classification_model(knn2,X_trainn,y_trainn)\n"
   ]
  },
  {
   "cell_type": "code",
   "execution_count": null,
   "metadata": {},
   "outputs": [],
   "source": []
  },
  {
   "cell_type": "code",
   "execution_count": null,
   "metadata": {},
   "outputs": [],
   "source": []
  }
 ],
 "metadata": {
  "kernelspec": {
   "display_name": "Python 3 (ipykernel)",
   "language": "python",
   "name": "python3"
  },
  "language_info": {
   "codemirror_mode": {
    "name": "ipython",
    "version": 3
   },
   "file_extension": ".py",
   "mimetype": "text/x-python",
   "name": "python",
   "nbconvert_exporter": "python",
   "pygments_lexer": "ipython3",
   "version": "3.9.13"
  }
 },
 "nbformat": 4,
 "nbformat_minor": 2
}
