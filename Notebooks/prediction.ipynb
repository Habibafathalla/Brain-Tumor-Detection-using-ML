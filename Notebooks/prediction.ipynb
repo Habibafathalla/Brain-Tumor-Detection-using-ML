{
 "cells": [
  {
   "cell_type": "code",
   "execution_count": 15,
   "id": "b94fa07a",
   "metadata": {},
   "outputs": [],
   "source": [
    "import numpy as np\n",
    "import pandas as pd\n",
    "from sklearn.model_selection import train_test_split\n",
    "\n",
    "from sklearn.ensemble import RandomForestClassifier"
   ]
  },
  {
   "cell_type": "code",
   "execution_count": 16,
   "id": "2500ad06",
   "metadata": {},
   "outputs": [
    {
     "data": {
      "text/html": [
       "<div>\n",
       "<style scoped>\n",
       "    .dataframe tbody tr th:only-of-type {\n",
       "        vertical-align: middle;\n",
       "    }\n",
       "\n",
       "    .dataframe tbody tr th {\n",
       "        vertical-align: top;\n",
       "    }\n",
       "\n",
       "    .dataframe thead th {\n",
       "        text-align: right;\n",
       "    }\n",
       "</style>\n",
       "<table border=\"1\" class=\"dataframe\">\n",
       "  <thead>\n",
       "    <tr style=\"text-align: right;\">\n",
       "      <th></th>\n",
       "      <th>Unnamed: 0</th>\n",
       "      <th>Mean</th>\n",
       "      <th>std</th>\n",
       "      <th>Entropy</th>\n",
       "      <th>RMS</th>\n",
       "      <th>Kurtios</th>\n",
       "      <th>HMI1</th>\n",
       "      <th>HMI2</th>\n",
       "      <th>HMI3</th>\n",
       "      <th>HMI4</th>\n",
       "      <th>Area</th>\n",
       "      <th>Perimeter</th>\n",
       "      <th>Circle</th>\n",
       "      <th>Convex Area</th>\n",
       "      <th>Solidity</th>\n",
       "      <th>Equivalent Diameter</th>\n",
       "      <th>Major Axis</th>\n",
       "      <th>Minor Axis</th>\n",
       "      <th>Class</th>\n",
       "    </tr>\n",
       "  </thead>\n",
       "  <tbody>\n",
       "    <tr>\n",
       "      <th>0</th>\n",
       "      <td>0</td>\n",
       "      <td>69.693600</td>\n",
       "      <td>60.988672</td>\n",
       "      <td>6.614287</td>\n",
       "      <td>9.041661</td>\n",
       "      <td>0.415330</td>\n",
       "      <td>2.785595</td>\n",
       "      <td>10.037521</td>\n",
       "      <td>10.662000</td>\n",
       "      <td>11.185945</td>\n",
       "      <td>5827.800000</td>\n",
       "      <td>795.974912</td>\n",
       "      <td>0.302850</td>\n",
       "      <td>16623.100000</td>\n",
       "      <td>0.599209</td>\n",
       "      <td>72.052148</td>\n",
       "      <td>96.303532</td>\n",
       "      <td>119.381571</td>\n",
       "      <td>0</td>\n",
       "    </tr>\n",
       "    <tr>\n",
       "      <th>1</th>\n",
       "      <td>1</td>\n",
       "      <td>42.088384</td>\n",
       "      <td>50.356683</td>\n",
       "      <td>6.553086</td>\n",
       "      <td>8.875129</td>\n",
       "      <td>5.073736</td>\n",
       "      <td>2.617668</td>\n",
       "      <td>7.231273</td>\n",
       "      <td>9.914340</td>\n",
       "      <td>9.868268</td>\n",
       "      <td>1616.000000</td>\n",
       "      <td>592.984842</td>\n",
       "      <td>0.057752</td>\n",
       "      <td>5180.500000</td>\n",
       "      <td>0.311939</td>\n",
       "      <td>45.360281</td>\n",
       "      <td>50.361172</td>\n",
       "      <td>109.413765</td>\n",
       "      <td>0</td>\n",
       "    </tr>\n",
       "    <tr>\n",
       "      <th>2</th>\n",
       "      <td>2</td>\n",
       "      <td>55.212544</td>\n",
       "      <td>46.056565</td>\n",
       "      <td>5.375762</td>\n",
       "      <td>9.302612</td>\n",
       "      <td>-0.628678</td>\n",
       "      <td>2.752905</td>\n",
       "      <td>8.030957</td>\n",
       "      <td>11.070417</td>\n",
       "      <td>11.550219</td>\n",
       "      <td>10522.700000</td>\n",
       "      <td>1370.454374</td>\n",
       "      <td>0.108409</td>\n",
       "      <td>58857.300000</td>\n",
       "      <td>0.491174</td>\n",
       "      <td>94.177573</td>\n",
       "      <td>148.140262</td>\n",
       "      <td>261.929187</td>\n",
       "      <td>0</td>\n",
       "    </tr>\n",
       "    <tr>\n",
       "      <th>3</th>\n",
       "      <td>3</td>\n",
       "      <td>76.037273</td>\n",
       "      <td>79.565990</td>\n",
       "      <td>5.781641</td>\n",
       "      <td>7.635726</td>\n",
       "      <td>-0.877843</td>\n",
       "      <td>2.904895</td>\n",
       "      <td>7.803627</td>\n",
       "      <td>12.448359</td>\n",
       "      <td>12.308773</td>\n",
       "      <td>4735.000000</td>\n",
       "      <td>662.139171</td>\n",
       "      <td>0.140869</td>\n",
       "      <td>11498.250000</td>\n",
       "      <td>0.481972</td>\n",
       "      <td>74.814205</td>\n",
       "      <td>86.292353</td>\n",
       "      <td>150.854176</td>\n",
       "      <td>0</td>\n",
       "    </tr>\n",
       "    <tr>\n",
       "      <th>4</th>\n",
       "      <td>4</td>\n",
       "      <td>49.957904</td>\n",
       "      <td>48.439813</td>\n",
       "      <td>5.764681</td>\n",
       "      <td>10.755480</td>\n",
       "      <td>1.467716</td>\n",
       "      <td>2.720641</td>\n",
       "      <td>7.122902</td>\n",
       "      <td>10.259218</td>\n",
       "      <td>11.235536</td>\n",
       "      <td>5182.666667</td>\n",
       "      <td>720.466755</td>\n",
       "      <td>0.130135</td>\n",
       "      <td>11052.666667</td>\n",
       "      <td>0.469977</td>\n",
       "      <td>71.315445</td>\n",
       "      <td>136.367100</td>\n",
       "      <td>217.954408</td>\n",
       "      <td>0</td>\n",
       "    </tr>\n",
       "    <tr>\n",
       "      <th>...</th>\n",
       "      <td>...</td>\n",
       "      <td>...</td>\n",
       "      <td>...</td>\n",
       "      <td>...</td>\n",
       "      <td>...</td>\n",
       "      <td>...</td>\n",
       "      <td>...</td>\n",
       "      <td>...</td>\n",
       "      <td>...</td>\n",
       "      <td>...</td>\n",
       "      <td>...</td>\n",
       "      <td>...</td>\n",
       "      <td>...</td>\n",
       "      <td>...</td>\n",
       "      <td>...</td>\n",
       "      <td>...</td>\n",
       "      <td>...</td>\n",
       "      <td>...</td>\n",
       "      <td>...</td>\n",
       "    </tr>\n",
       "    <tr>\n",
       "      <th>5707</th>\n",
       "      <td>5707</td>\n",
       "      <td>55.537216</td>\n",
       "      <td>41.476325</td>\n",
       "      <td>6.681584</td>\n",
       "      <td>9.934108</td>\n",
       "      <td>-0.125073</td>\n",
       "      <td>2.678192</td>\n",
       "      <td>8.030136</td>\n",
       "      <td>10.921777</td>\n",
       "      <td>13.409310</td>\n",
       "      <td>3899.600000</td>\n",
       "      <td>961.862039</td>\n",
       "      <td>0.105037</td>\n",
       "      <td>20956.300000</td>\n",
       "      <td>0.323514</td>\n",
       "      <td>67.000883</td>\n",
       "      <td>160.850187</td>\n",
       "      <td>286.399046</td>\n",
       "      <td>1</td>\n",
       "    </tr>\n",
       "    <tr>\n",
       "      <th>5708</th>\n",
       "      <td>5708</td>\n",
       "      <td>58.451622</td>\n",
       "      <td>42.845989</td>\n",
       "      <td>6.740698</td>\n",
       "      <td>10.103457</td>\n",
       "      <td>-0.062257</td>\n",
       "      <td>2.700193</td>\n",
       "      <td>8.071390</td>\n",
       "      <td>10.813083</td>\n",
       "      <td>13.184454</td>\n",
       "      <td>3647.071429</td>\n",
       "      <td>746.277822</td>\n",
       "      <td>0.103040</td>\n",
       "      <td>12296.357143</td>\n",
       "      <td>0.412985</td>\n",
       "      <td>65.040970</td>\n",
       "      <td>222.811411</td>\n",
       "      <td>547.006941</td>\n",
       "      <td>1</td>\n",
       "    </tr>\n",
       "    <tr>\n",
       "      <th>5709</th>\n",
       "      <td>5709</td>\n",
       "      <td>45.893677</td>\n",
       "      <td>33.173744</td>\n",
       "      <td>6.370771</td>\n",
       "      <td>9.474798</td>\n",
       "      <td>0.096858</td>\n",
       "      <td>2.585893</td>\n",
       "      <td>7.683718</td>\n",
       "      <td>10.163987</td>\n",
       "      <td>11.763859</td>\n",
       "      <td>1469.833333</td>\n",
       "      <td>556.181789</td>\n",
       "      <td>0.085931</td>\n",
       "      <td>8562.666667</td>\n",
       "      <td>0.276993</td>\n",
       "      <td>42.977721</td>\n",
       "      <td>364.441633</td>\n",
       "      <td>740.432933</td>\n",
       "      <td>1</td>\n",
       "    </tr>\n",
       "    <tr>\n",
       "      <th>5710</th>\n",
       "      <td>5710</td>\n",
       "      <td>41.703392</td>\n",
       "      <td>36.594254</td>\n",
       "      <td>6.356158</td>\n",
       "      <td>9.738114</td>\n",
       "      <td>1.184672</td>\n",
       "      <td>2.608306</td>\n",
       "      <td>8.878155</td>\n",
       "      <td>11.275747</td>\n",
       "      <td>11.334920</td>\n",
       "      <td>4949.750000</td>\n",
       "      <td>1228.037182</td>\n",
       "      <td>0.069936</td>\n",
       "      <td>53864.750000</td>\n",
       "      <td>0.311380</td>\n",
       "      <td>72.037591</td>\n",
       "      <td>194.005651</td>\n",
       "      <td>262.560186</td>\n",
       "      <td>1</td>\n",
       "    </tr>\n",
       "    <tr>\n",
       "      <th>5711</th>\n",
       "      <td>5711</td>\n",
       "      <td>36.168495</td>\n",
       "      <td>43.646127</td>\n",
       "      <td>5.594215</td>\n",
       "      <td>7.748545</td>\n",
       "      <td>0.352705</td>\n",
       "      <td>2.614579</td>\n",
       "      <td>7.736397</td>\n",
       "      <td>11.990038</td>\n",
       "      <td>11.572209</td>\n",
       "      <td>4368.916667</td>\n",
       "      <td>763.193488</td>\n",
       "      <td>0.185503</td>\n",
       "      <td>15945.000000</td>\n",
       "      <td>0.525403</td>\n",
       "      <td>70.561511</td>\n",
       "      <td>104.328279</td>\n",
       "      <td>178.293465</td>\n",
       "      <td>1</td>\n",
       "    </tr>\n",
       "  </tbody>\n",
       "</table>\n",
       "<p>5712 rows × 19 columns</p>\n",
       "</div>"
      ],
      "text/plain": [
       "      Unnamed: 0       Mean        std   Entropy        RMS   Kurtios  \\\n",
       "0              0  69.693600  60.988672  6.614287   9.041661  0.415330   \n",
       "1              1  42.088384  50.356683  6.553086   8.875129  5.073736   \n",
       "2              2  55.212544  46.056565  5.375762   9.302612 -0.628678   \n",
       "3              3  76.037273  79.565990  5.781641   7.635726 -0.877843   \n",
       "4              4  49.957904  48.439813  5.764681  10.755480  1.467716   \n",
       "...          ...        ...        ...       ...        ...       ...   \n",
       "5707        5707  55.537216  41.476325  6.681584   9.934108 -0.125073   \n",
       "5708        5708  58.451622  42.845989  6.740698  10.103457 -0.062257   \n",
       "5709        5709  45.893677  33.173744  6.370771   9.474798  0.096858   \n",
       "5710        5710  41.703392  36.594254  6.356158   9.738114  1.184672   \n",
       "5711        5711  36.168495  43.646127  5.594215   7.748545  0.352705   \n",
       "\n",
       "          HMI1       HMI2       HMI3       HMI4          Area    Perimeter  \\\n",
       "0     2.785595  10.037521  10.662000  11.185945   5827.800000   795.974912   \n",
       "1     2.617668   7.231273   9.914340   9.868268   1616.000000   592.984842   \n",
       "2     2.752905   8.030957  11.070417  11.550219  10522.700000  1370.454374   \n",
       "3     2.904895   7.803627  12.448359  12.308773   4735.000000   662.139171   \n",
       "4     2.720641   7.122902  10.259218  11.235536   5182.666667   720.466755   \n",
       "...        ...        ...        ...        ...           ...          ...   \n",
       "5707  2.678192   8.030136  10.921777  13.409310   3899.600000   961.862039   \n",
       "5708  2.700193   8.071390  10.813083  13.184454   3647.071429   746.277822   \n",
       "5709  2.585893   7.683718  10.163987  11.763859   1469.833333   556.181789   \n",
       "5710  2.608306   8.878155  11.275747  11.334920   4949.750000  1228.037182   \n",
       "5711  2.614579   7.736397  11.990038  11.572209   4368.916667   763.193488   \n",
       "\n",
       "        Circle   Convex Area  Solidity  Equivalent Diameter  Major Axis  \\\n",
       "0     0.302850  16623.100000  0.599209            72.052148   96.303532   \n",
       "1     0.057752   5180.500000  0.311939            45.360281   50.361172   \n",
       "2     0.108409  58857.300000  0.491174            94.177573  148.140262   \n",
       "3     0.140869  11498.250000  0.481972            74.814205   86.292353   \n",
       "4     0.130135  11052.666667  0.469977            71.315445  136.367100   \n",
       "...        ...           ...       ...                  ...         ...   \n",
       "5707  0.105037  20956.300000  0.323514            67.000883  160.850187   \n",
       "5708  0.103040  12296.357143  0.412985            65.040970  222.811411   \n",
       "5709  0.085931   8562.666667  0.276993            42.977721  364.441633   \n",
       "5710  0.069936  53864.750000  0.311380            72.037591  194.005651   \n",
       "5711  0.185503  15945.000000  0.525403            70.561511  104.328279   \n",
       "\n",
       "      Minor Axis  Class  \n",
       "0     119.381571      0  \n",
       "1     109.413765      0  \n",
       "2     261.929187      0  \n",
       "3     150.854176      0  \n",
       "4     217.954408      0  \n",
       "...          ...    ...  \n",
       "5707  286.399046      1  \n",
       "5708  547.006941      1  \n",
       "5709  740.432933      1  \n",
       "5710  262.560186      1  \n",
       "5711  178.293465      1  \n",
       "\n",
       "[5712 rows x 19 columns]"
      ]
     },
     "execution_count": 16,
     "metadata": {},
     "output_type": "execute_result"
    }
   ],
   "source": [
    "df = pd.read_csv('featured_dataset1.csv')\n",
    "df"
   ]
  },
  {
   "cell_type": "code",
   "execution_count": 17,
   "id": "21e2078a",
   "metadata": {},
   "outputs": [
    {
     "data": {
      "text/plain": [
       "Index(['Unnamed: 0', 'Mean', 'std', 'Entropy', 'RMS', 'Kurtios', 'HMI1',\n",
       "       'HMI2', 'HMI3', 'HMI4', 'Area', 'Perimeter', 'Circle', 'Convex Area',\n",
       "       'Solidity', 'Equivalent Diameter', 'Major Axis', 'Minor Axis', 'Class'],\n",
       "      dtype='object')"
      ]
     },
     "execution_count": 17,
     "metadata": {},
     "output_type": "execute_result"
    }
   ],
   "source": [
    "df.columns"
   ]
  },
  {
   "cell_type": "code",
   "execution_count": 18,
   "id": "6d6816a3",
   "metadata": {},
   "outputs": [
    {
     "data": {
      "text/plain": [
       "(5712, 19)"
      ]
     },
     "execution_count": 18,
     "metadata": {},
     "output_type": "execute_result"
    }
   ],
   "source": [
    "df.shape"
   ]
  },
  {
   "cell_type": "code",
   "execution_count": 19,
   "id": "1da6eb7a",
   "metadata": {},
   "outputs": [
    {
     "data": {
      "text/html": [
       "<div>\n",
       "<style scoped>\n",
       "    .dataframe tbody tr th:only-of-type {\n",
       "        vertical-align: middle;\n",
       "    }\n",
       "\n",
       "    .dataframe tbody tr th {\n",
       "        vertical-align: top;\n",
       "    }\n",
       "\n",
       "    .dataframe thead th {\n",
       "        text-align: right;\n",
       "    }\n",
       "</style>\n",
       "<table border=\"1\" class=\"dataframe\">\n",
       "  <thead>\n",
       "    <tr style=\"text-align: right;\">\n",
       "      <th></th>\n",
       "      <th>Mean</th>\n",
       "      <th>std</th>\n",
       "      <th>Entropy</th>\n",
       "      <th>RMS</th>\n",
       "      <th>Kurtios</th>\n",
       "      <th>HMI1</th>\n",
       "      <th>HMI2</th>\n",
       "      <th>HMI3</th>\n",
       "      <th>HMI4</th>\n",
       "      <th>Area</th>\n",
       "      <th>Perimeter</th>\n",
       "      <th>Circle</th>\n",
       "      <th>Convex Area</th>\n",
       "      <th>Solidity</th>\n",
       "      <th>Equivalent Diameter</th>\n",
       "      <th>Major Axis</th>\n",
       "      <th>Minor Axis</th>\n",
       "      <th>Class</th>\n",
       "    </tr>\n",
       "  </thead>\n",
       "  <tbody>\n",
       "    <tr>\n",
       "      <th>0</th>\n",
       "      <td>69.693600</td>\n",
       "      <td>60.988672</td>\n",
       "      <td>6.614287</td>\n",
       "      <td>9.041661</td>\n",
       "      <td>0.415330</td>\n",
       "      <td>2.785595</td>\n",
       "      <td>10.037521</td>\n",
       "      <td>10.662000</td>\n",
       "      <td>11.185945</td>\n",
       "      <td>5827.800000</td>\n",
       "      <td>795.974912</td>\n",
       "      <td>0.302850</td>\n",
       "      <td>16623.100000</td>\n",
       "      <td>0.599209</td>\n",
       "      <td>72.052148</td>\n",
       "      <td>96.303532</td>\n",
       "      <td>119.381571</td>\n",
       "      <td>0</td>\n",
       "    </tr>\n",
       "    <tr>\n",
       "      <th>1</th>\n",
       "      <td>42.088384</td>\n",
       "      <td>50.356683</td>\n",
       "      <td>6.553086</td>\n",
       "      <td>8.875129</td>\n",
       "      <td>5.073736</td>\n",
       "      <td>2.617668</td>\n",
       "      <td>7.231273</td>\n",
       "      <td>9.914340</td>\n",
       "      <td>9.868268</td>\n",
       "      <td>1616.000000</td>\n",
       "      <td>592.984842</td>\n",
       "      <td>0.057752</td>\n",
       "      <td>5180.500000</td>\n",
       "      <td>0.311939</td>\n",
       "      <td>45.360281</td>\n",
       "      <td>50.361172</td>\n",
       "      <td>109.413765</td>\n",
       "      <td>0</td>\n",
       "    </tr>\n",
       "    <tr>\n",
       "      <th>2</th>\n",
       "      <td>55.212544</td>\n",
       "      <td>46.056565</td>\n",
       "      <td>5.375762</td>\n",
       "      <td>9.302612</td>\n",
       "      <td>-0.628678</td>\n",
       "      <td>2.752905</td>\n",
       "      <td>8.030957</td>\n",
       "      <td>11.070417</td>\n",
       "      <td>11.550219</td>\n",
       "      <td>10522.700000</td>\n",
       "      <td>1370.454374</td>\n",
       "      <td>0.108409</td>\n",
       "      <td>58857.300000</td>\n",
       "      <td>0.491174</td>\n",
       "      <td>94.177573</td>\n",
       "      <td>148.140262</td>\n",
       "      <td>261.929187</td>\n",
       "      <td>0</td>\n",
       "    </tr>\n",
       "    <tr>\n",
       "      <th>3</th>\n",
       "      <td>76.037273</td>\n",
       "      <td>79.565990</td>\n",
       "      <td>5.781641</td>\n",
       "      <td>7.635726</td>\n",
       "      <td>-0.877843</td>\n",
       "      <td>2.904895</td>\n",
       "      <td>7.803627</td>\n",
       "      <td>12.448359</td>\n",
       "      <td>12.308773</td>\n",
       "      <td>4735.000000</td>\n",
       "      <td>662.139171</td>\n",
       "      <td>0.140869</td>\n",
       "      <td>11498.250000</td>\n",
       "      <td>0.481972</td>\n",
       "      <td>74.814205</td>\n",
       "      <td>86.292353</td>\n",
       "      <td>150.854176</td>\n",
       "      <td>0</td>\n",
       "    </tr>\n",
       "    <tr>\n",
       "      <th>4</th>\n",
       "      <td>49.957904</td>\n",
       "      <td>48.439813</td>\n",
       "      <td>5.764681</td>\n",
       "      <td>10.755480</td>\n",
       "      <td>1.467716</td>\n",
       "      <td>2.720641</td>\n",
       "      <td>7.122902</td>\n",
       "      <td>10.259218</td>\n",
       "      <td>11.235536</td>\n",
       "      <td>5182.666667</td>\n",
       "      <td>720.466755</td>\n",
       "      <td>0.130135</td>\n",
       "      <td>11052.666667</td>\n",
       "      <td>0.469977</td>\n",
       "      <td>71.315445</td>\n",
       "      <td>136.367100</td>\n",
       "      <td>217.954408</td>\n",
       "      <td>0</td>\n",
       "    </tr>\n",
       "  </tbody>\n",
       "</table>\n",
       "</div>"
      ],
      "text/plain": [
       "        Mean        std   Entropy        RMS   Kurtios      HMI1       HMI2  \\\n",
       "0  69.693600  60.988672  6.614287   9.041661  0.415330  2.785595  10.037521   \n",
       "1  42.088384  50.356683  6.553086   8.875129  5.073736  2.617668   7.231273   \n",
       "2  55.212544  46.056565  5.375762   9.302612 -0.628678  2.752905   8.030957   \n",
       "3  76.037273  79.565990  5.781641   7.635726 -0.877843  2.904895   7.803627   \n",
       "4  49.957904  48.439813  5.764681  10.755480  1.467716  2.720641   7.122902   \n",
       "\n",
       "        HMI3       HMI4          Area    Perimeter    Circle   Convex Area  \\\n",
       "0  10.662000  11.185945   5827.800000   795.974912  0.302850  16623.100000   \n",
       "1   9.914340   9.868268   1616.000000   592.984842  0.057752   5180.500000   \n",
       "2  11.070417  11.550219  10522.700000  1370.454374  0.108409  58857.300000   \n",
       "3  12.448359  12.308773   4735.000000   662.139171  0.140869  11498.250000   \n",
       "4  10.259218  11.235536   5182.666667   720.466755  0.130135  11052.666667   \n",
       "\n",
       "   Solidity  Equivalent Diameter  Major Axis  Minor Axis  Class  \n",
       "0  0.599209            72.052148   96.303532  119.381571      0  \n",
       "1  0.311939            45.360281   50.361172  109.413765      0  \n",
       "2  0.491174            94.177573  148.140262  261.929187      0  \n",
       "3  0.481972            74.814205   86.292353  150.854176      0  \n",
       "4  0.469977            71.315445  136.367100  217.954408      0  "
      ]
     },
     "execution_count": 19,
     "metadata": {},
     "output_type": "execute_result"
    }
   ],
   "source": [
    "df = df.drop('Unnamed: 0', axis=1)\n",
    "df.head()"
   ]
  },
  {
   "cell_type": "code",
   "execution_count": 20,
   "id": "198d08de",
   "metadata": {},
   "outputs": [],
   "source": [
    "# def drop_rows_with_all_zeros(data):\n",
    "#     # Calculate the sum of values in each row\n",
    "#     row_sums = np.sum(data, axis=1)\n",
    "\n",
    "#     # Create a boolean mask indicating rows with all zeros\n",
    "#     mask = row_sums != 0\n",
    "\n",
    "#     # Filter out the rows using the boolean mask\n",
    "#     filtered_data = data[mask]\n",
    "\n",
    "#     return filtered_data\n",
    "\n",
    "# # Call the function to drop rows with all zeros\n",
    "# df = drop_rows_with_all_zeros(df)\n",
    "\n",
    "# # Print the filtered dataset\n",
    "# df"
   ]
  },
  {
   "cell_type": "code",
   "execution_count": 21,
   "id": "e0262627",
   "metadata": {},
   "outputs": [],
   "source": [
    "df = df.dropna()"
   ]
  },
  {
   "cell_type": "code",
   "execution_count": 22,
   "id": "d89bf1d8",
   "metadata": {},
   "outputs": [
    {
     "data": {
      "text/plain": [
       "(5053, 18)"
      ]
     },
     "execution_count": 22,
     "metadata": {},
     "output_type": "execute_result"
    }
   ],
   "source": [
    "df.shape"
   ]
  },
  {
   "cell_type": "code",
   "execution_count": 23,
   "id": "3ac313d9",
   "metadata": {},
   "outputs": [],
   "source": [
    "X =df.drop(['Class'], axis=1)\n",
    "Y = df['Class']\n",
    "X\n",
    "\n",
    "xtrain,xtest,ytrain,ytest = train_test_split(X,Y, test_size=0.3, random_state=0)"
   ]
  },
  {
   "cell_type": "markdown",
   "id": "985206b2",
   "metadata": {},
   "source": [
    "## NB"
   ]
  },
  {
   "cell_type": "code",
   "execution_count": 26,
   "id": "d6f70509",
   "metadata": {},
   "outputs": [],
   "source": [
    "from sklearn.metrics import accuracy_score"
   ]
  },
  {
   "cell_type": "code",
   "execution_count": 24,
   "id": "7f0cbd77",
   "metadata": {},
   "outputs": [
    {
     "ename": "ValueError",
     "evalue": "Negative values in data passed to MultinomialNB (input X)",
     "output_type": "error",
     "traceback": [
      "\u001b[1;31m---------------------------------------------------------------------------\u001b[0m",
      "\u001b[1;31mValueError\u001b[0m                                Traceback (most recent call last)",
      "\u001b[1;32m~\\AppData\\Local\\Temp\\ipykernel_20572\\100992307.py\u001b[0m in \u001b[0;36m<module>\u001b[1;34m\u001b[0m\n\u001b[0;32m      1\u001b[0m \u001b[1;32mfrom\u001b[0m \u001b[0msklearn\u001b[0m\u001b[1;33m.\u001b[0m\u001b[0mnaive_bayes\u001b[0m \u001b[1;32mimport\u001b[0m \u001b[0mMultinomialNB\u001b[0m\u001b[1;33m\u001b[0m\u001b[1;33m\u001b[0m\u001b[0m\n\u001b[0;32m      2\u001b[0m \u001b[0mMNB\u001b[0m \u001b[1;33m=\u001b[0m \u001b[0mMultinomialNB\u001b[0m\u001b[1;33m(\u001b[0m\u001b[1;33m)\u001b[0m\u001b[1;33m\u001b[0m\u001b[1;33m\u001b[0m\u001b[0m\n\u001b[1;32m----> 3\u001b[1;33m \u001b[0mMNB\u001b[0m\u001b[1;33m.\u001b[0m\u001b[0mfit\u001b[0m\u001b[1;33m(\u001b[0m\u001b[0mxtrain\u001b[0m\u001b[1;33m,\u001b[0m\u001b[0mytrain\u001b[0m\u001b[1;33m)\u001b[0m\u001b[1;33m\u001b[0m\u001b[1;33m\u001b[0m\u001b[0m\n\u001b[0m\u001b[0;32m      4\u001b[0m \u001b[1;33m\u001b[0m\u001b[0m\n\u001b[0;32m      5\u001b[0m \u001b[0mpred_MNB\u001b[0m \u001b[1;33m=\u001b[0m \u001b[0mMNB\u001b[0m\u001b[1;33m.\u001b[0m\u001b[0mpredict\u001b[0m\u001b[1;33m(\u001b[0m\u001b[0mxtest\u001b[0m\u001b[1;33m)\u001b[0m\u001b[1;33m\u001b[0m\u001b[1;33m\u001b[0m\u001b[0m\n",
      "\u001b[1;32mC:\\ProgramData\\Anaconda3\\lib\\site-packages\\sklearn\\naive_bayes.py\u001b[0m in \u001b[0;36mfit\u001b[1;34m(self, X, y, sample_weight)\u001b[0m\n\u001b[0;32m    688\u001b[0m         \u001b[0mn_classes\u001b[0m \u001b[1;33m=\u001b[0m \u001b[0mY\u001b[0m\u001b[1;33m.\u001b[0m\u001b[0mshape\u001b[0m\u001b[1;33m[\u001b[0m\u001b[1;36m1\u001b[0m\u001b[1;33m]\u001b[0m\u001b[1;33m\u001b[0m\u001b[1;33m\u001b[0m\u001b[0m\n\u001b[0;32m    689\u001b[0m         \u001b[0mself\u001b[0m\u001b[1;33m.\u001b[0m\u001b[0m_init_counters\u001b[0m\u001b[1;33m(\u001b[0m\u001b[0mn_classes\u001b[0m\u001b[1;33m,\u001b[0m \u001b[0mn_features\u001b[0m\u001b[1;33m)\u001b[0m\u001b[1;33m\u001b[0m\u001b[1;33m\u001b[0m\u001b[0m\n\u001b[1;32m--> 690\u001b[1;33m         \u001b[0mself\u001b[0m\u001b[1;33m.\u001b[0m\u001b[0m_count\u001b[0m\u001b[1;33m(\u001b[0m\u001b[0mX\u001b[0m\u001b[1;33m,\u001b[0m \u001b[0mY\u001b[0m\u001b[1;33m)\u001b[0m\u001b[1;33m\u001b[0m\u001b[1;33m\u001b[0m\u001b[0m\n\u001b[0m\u001b[0;32m    691\u001b[0m         \u001b[0malpha\u001b[0m \u001b[1;33m=\u001b[0m \u001b[0mself\u001b[0m\u001b[1;33m.\u001b[0m\u001b[0m_check_alpha\u001b[0m\u001b[1;33m(\u001b[0m\u001b[1;33m)\u001b[0m\u001b[1;33m\u001b[0m\u001b[1;33m\u001b[0m\u001b[0m\n\u001b[0;32m    692\u001b[0m         \u001b[0mself\u001b[0m\u001b[1;33m.\u001b[0m\u001b[0m_update_feature_log_prob\u001b[0m\u001b[1;33m(\u001b[0m\u001b[0malpha\u001b[0m\u001b[1;33m)\u001b[0m\u001b[1;33m\u001b[0m\u001b[1;33m\u001b[0m\u001b[0m\n",
      "\u001b[1;32mC:\\ProgramData\\Anaconda3\\lib\\site-packages\\sklearn\\naive_bayes.py\u001b[0m in \u001b[0;36m_count\u001b[1;34m(self, X, Y)\u001b[0m\n\u001b[0;32m    861\u001b[0m     \u001b[1;32mdef\u001b[0m \u001b[0m_count\u001b[0m\u001b[1;33m(\u001b[0m\u001b[0mself\u001b[0m\u001b[1;33m,\u001b[0m \u001b[0mX\u001b[0m\u001b[1;33m,\u001b[0m \u001b[0mY\u001b[0m\u001b[1;33m)\u001b[0m\u001b[1;33m:\u001b[0m\u001b[1;33m\u001b[0m\u001b[1;33m\u001b[0m\u001b[0m\n\u001b[0;32m    862\u001b[0m         \u001b[1;34m\"\"\"Count and smooth feature occurrences.\"\"\"\u001b[0m\u001b[1;33m\u001b[0m\u001b[1;33m\u001b[0m\u001b[0m\n\u001b[1;32m--> 863\u001b[1;33m         \u001b[0mcheck_non_negative\u001b[0m\u001b[1;33m(\u001b[0m\u001b[0mX\u001b[0m\u001b[1;33m,\u001b[0m \u001b[1;34m\"MultinomialNB (input X)\"\u001b[0m\u001b[1;33m)\u001b[0m\u001b[1;33m\u001b[0m\u001b[1;33m\u001b[0m\u001b[0m\n\u001b[0m\u001b[0;32m    864\u001b[0m         \u001b[0mself\u001b[0m\u001b[1;33m.\u001b[0m\u001b[0mfeature_count_\u001b[0m \u001b[1;33m+=\u001b[0m \u001b[0msafe_sparse_dot\u001b[0m\u001b[1;33m(\u001b[0m\u001b[0mY\u001b[0m\u001b[1;33m.\u001b[0m\u001b[0mT\u001b[0m\u001b[1;33m,\u001b[0m \u001b[0mX\u001b[0m\u001b[1;33m)\u001b[0m\u001b[1;33m\u001b[0m\u001b[1;33m\u001b[0m\u001b[0m\n\u001b[0;32m    865\u001b[0m         \u001b[0mself\u001b[0m\u001b[1;33m.\u001b[0m\u001b[0mclass_count_\u001b[0m \u001b[1;33m+=\u001b[0m \u001b[0mY\u001b[0m\u001b[1;33m.\u001b[0m\u001b[0msum\u001b[0m\u001b[1;33m(\u001b[0m\u001b[0maxis\u001b[0m\u001b[1;33m=\u001b[0m\u001b[1;36m0\u001b[0m\u001b[1;33m)\u001b[0m\u001b[1;33m\u001b[0m\u001b[1;33m\u001b[0m\u001b[0m\n",
      "\u001b[1;32mC:\\ProgramData\\Anaconda3\\lib\\site-packages\\sklearn\\utils\\validation.py\u001b[0m in \u001b[0;36mcheck_non_negative\u001b[1;34m(X, whom)\u001b[0m\n\u001b[0;32m   1247\u001b[0m \u001b[1;33m\u001b[0m\u001b[0m\n\u001b[0;32m   1248\u001b[0m     \u001b[1;32mif\u001b[0m \u001b[0mX_min\u001b[0m \u001b[1;33m<\u001b[0m \u001b[1;36m0\u001b[0m\u001b[1;33m:\u001b[0m\u001b[1;33m\u001b[0m\u001b[1;33m\u001b[0m\u001b[0m\n\u001b[1;32m-> 1249\u001b[1;33m         \u001b[1;32mraise\u001b[0m \u001b[0mValueError\u001b[0m\u001b[1;33m(\u001b[0m\u001b[1;34m\"Negative values in data passed to %s\"\u001b[0m \u001b[1;33m%\u001b[0m \u001b[0mwhom\u001b[0m\u001b[1;33m)\u001b[0m\u001b[1;33m\u001b[0m\u001b[1;33m\u001b[0m\u001b[0m\n\u001b[0m\u001b[0;32m   1250\u001b[0m \u001b[1;33m\u001b[0m\u001b[0m\n\u001b[0;32m   1251\u001b[0m \u001b[1;33m\u001b[0m\u001b[0m\n",
      "\u001b[1;31mValueError\u001b[0m: Negative values in data passed to MultinomialNB (input X)"
     ]
    }
   ],
   "source": [
    "from sklearn.naive_bayes import MultinomialNB\n",
    "MNB = MultinomialNB()\n",
    "MNB.fit(xtrain,ytrain)\n",
    "\n",
    "pred_MNB = MNB.predict(xtest)\n",
    "\n",
    "# MNB.score(y_train, y_pred_train)*100, MNB.score(y_test,y_pred_test)*100\n",
    "\n",
    "\n",
    "accuracy = accuracy_score(ytest, pred_MNB)"
   ]
  },
  {
   "cell_type": "code",
   "execution_count": 8,
   "id": "bbbb18eb",
   "metadata": {},
   "outputs": [
    {
     "data": {
      "text/plain": [
       "0.3478802992518703"
      ]
     },
     "execution_count": 8,
     "metadata": {},
     "output_type": "execute_result"
    }
   ],
   "source": [
    "accuracy"
   ]
  },
  {
   "cell_type": "markdown",
   "id": "1b907449",
   "metadata": {},
   "source": [
    "## RF"
   ]
  },
  {
   "cell_type": "code",
   "execution_count": 27,
   "id": "63e69c40",
   "metadata": {},
   "outputs": [
    {
     "data": {
      "text/plain": [
       "85.09"
      ]
     },
     "execution_count": 27,
     "metadata": {},
     "output_type": "execute_result"
    }
   ],
   "source": [
    "rf_clf = RandomForestClassifier()\n",
    "# Fit the parameters before oversampling:\n",
    "rf_clf.fit(xtrain, ytrain)\n",
    "\n",
    "#predict\n",
    "y_pred_test_rf = rf_clf.predict(xtest)\n",
    "\n",
    "round(accuracy_score(ytest , y_pred_test_rf)*100 , 2)"
   ]
  },
  {
   "cell_type": "markdown",
   "id": "a7aed752",
   "metadata": {},
   "source": [
    "## SVM"
   ]
  },
  {
   "cell_type": "code",
   "execution_count": 29,
   "id": "41afde9d",
   "metadata": {},
   "outputs": [],
   "source": [
    "from sklearn.svm import SVC\n",
    "from sklearn import svm"
   ]
  },
  {
   "cell_type": "code",
   "execution_count": 11,
   "id": "971c744e",
   "metadata": {},
   "outputs": [],
   "source": [
    "# svm = SVC(kernel='linear')\n",
    "# svm.fit(xtrain, ytrain)\n",
    "\n",
    "# # svm_score = svm.score(xtest, ytest)\n",
    "# # print('SVM accuracy:', svm_score)\n",
    "# # svm.score(xtrain, ytrain)\n",
    "\n",
    "# pred_svm = svm.predict(xtest)\n",
    "\n",
    "# round(accuracy_score(ytest , pred_svm)*100 , 2)"
   ]
  },
  {
   "cell_type": "code",
   "execution_count": 12,
   "id": "93eeff51",
   "metadata": {},
   "outputs": [],
   "source": [
    "# pred_svm = svm.predict(xtest)\n",
    "\n",
    "# round(accuracy_score(ytest , pred_svm)*100 , 2)"
   ]
  },
  {
   "cell_type": "code",
   "execution_count": 30,
   "id": "85555f2b",
   "metadata": {},
   "outputs": [
    {
     "data": {
      "text/plain": [
       "51.25"
      ]
     },
     "execution_count": 30,
     "metadata": {},
     "output_type": "execute_result"
    }
   ],
   "source": [
    "svc = SVC()\n",
    "svc.fit(xtrain, ytrain)\n",
    "\n",
    "pred_svc = svc.predict(xtest)\n",
    "\n",
    "round(accuracy_score(ytest , pred_svc)*100 , 2)"
   ]
  },
  {
   "cell_type": "code",
   "execution_count": null,
   "id": "ea71b3c5",
   "metadata": {},
   "outputs": [],
   "source": []
  },
  {
   "cell_type": "code",
   "execution_count": 31,
   "id": "17e07558",
   "metadata": {},
   "outputs": [
    {
     "data": {
      "text/plain": [
       "51.25"
      ]
     },
     "execution_count": 31,
     "metadata": {},
     "output_type": "execute_result"
    }
   ],
   "source": [
    "svm_classifier = svm.SVC(kernel='rbf')\n",
    "svm_classifier.fit(xtrain, ytrain)\n",
    "\n",
    "pred_svc = svm_classifier.predict(xtest)\n",
    "\n",
    "round(accuracy_score(ytest , pred_svc)*100 , 2)"
   ]
  },
  {
   "cell_type": "markdown",
   "id": "fd015213",
   "metadata": {},
   "source": [
    "# XGB"
   ]
  },
  {
   "cell_type": "code",
   "execution_count": 32,
   "id": "309e8b8b",
   "metadata": {},
   "outputs": [],
   "source": [
    "import xgboost as xgb"
   ]
  },
  {
   "cell_type": "code",
   "execution_count": 33,
   "id": "581d2eec",
   "metadata": {},
   "outputs": [
    {
     "data": {
      "text/plain": [
       "88.06"
      ]
     },
     "execution_count": 33,
     "metadata": {},
     "output_type": "execute_result"
    }
   ],
   "source": [
    "xgb_classifier = xgb.XGBClassifier()\n",
    "\n",
    "xgb_classifier.fit(xtrain, ytrain)\n",
    "\n",
    "pred_xgb = xgb_classifier.predict(xtest)\n",
    "\n",
    "round(accuracy_score(ytest , pred_xgb)*100 , 2)"
   ]
  },
  {
   "cell_type": "code",
   "execution_count": null,
   "id": "becac874",
   "metadata": {},
   "outputs": [],
   "source": []
  },
  {
   "cell_type": "code",
   "execution_count": null,
   "id": "34c7f998",
   "metadata": {},
   "outputs": [],
   "source": []
  }
 ],
 "metadata": {
  "kernelspec": {
   "display_name": "Python 3 (ipykernel)",
   "language": "python",
   "name": "python3"
  },
  "language_info": {
   "codemirror_mode": {
    "name": "ipython",
    "version": 3
   },
   "file_extension": ".py",
   "mimetype": "text/x-python",
   "name": "python",
   "nbconvert_exporter": "python",
   "pygments_lexer": "ipython3",
   "version": "3.9.13"
  }
 },
 "nbformat": 4,
 "nbformat_minor": 5
}
