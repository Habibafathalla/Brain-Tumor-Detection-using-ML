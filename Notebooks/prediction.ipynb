{
 "cells": [
  {
   "cell_type": "code",
   "execution_count": 1,
   "id": "b94fa07a",
   "metadata": {},
   "outputs": [],
   "source": [
    "import numpy as np\n",
    "import pandas as pd\n",
    "from sklearn.model_selection import train_test_split\n",
    "\n",
    "from sklearn.ensemble import RandomForestClassifier"
   ]
  },
  {
   "cell_type": "code",
   "execution_count": 2,
   "id": "2500ad06",
   "metadata": {},
   "outputs": [
    {
     "data": {
      "text/html": [
       "<div>\n",
       "<style scoped>\n",
       "    .dataframe tbody tr th:only-of-type {\n",
       "        vertical-align: middle;\n",
       "    }\n",
       "\n",
       "    .dataframe tbody tr th {\n",
       "        vertical-align: top;\n",
       "    }\n",
       "\n",
       "    .dataframe thead th {\n",
       "        text-align: right;\n",
       "    }\n",
       "</style>\n",
       "<table border=\"1\" class=\"dataframe\">\n",
       "  <thead>\n",
       "    <tr style=\"text-align: right;\">\n",
       "      <th></th>\n",
       "      <th>Area</th>\n",
       "      <th>Perimeter</th>\n",
       "      <th>Convex Area</th>\n",
       "      <th>Solidity</th>\n",
       "      <th>Equivalent Diameter</th>\n",
       "      <th>Major Axis</th>\n",
       "      <th>Minor Axis</th>\n",
       "      <th>Eccentricity</th>\n",
       "      <th>Class</th>\n",
       "    </tr>\n",
       "  </thead>\n",
       "  <tbody>\n",
       "    <tr>\n",
       "      <th>0</th>\n",
       "      <td>1456.5</td>\n",
       "      <td>281.521859</td>\n",
       "      <td>2786.5</td>\n",
       "      <td>0.522699</td>\n",
       "      <td>43.063597</td>\n",
       "      <td>45.902237</td>\n",
       "      <td>79.854164</td>\n",
       "      <td>(8.716542883371873e-17+1.4235194816073777j)</td>\n",
       "      <td>0</td>\n",
       "    </tr>\n",
       "    <tr>\n",
       "      <th>1</th>\n",
       "      <td>1136.5</td>\n",
       "      <td>127.154328</td>\n",
       "      <td>1159.0</td>\n",
       "      <td>0.980587</td>\n",
       "      <td>38.039936</td>\n",
       "      <td>35.578979</td>\n",
       "      <td>41.199059</td>\n",
       "      <td>(3.575008557559394e-17+0.5838432044322419j)</td>\n",
       "      <td>0</td>\n",
       "    </tr>\n",
       "    <tr>\n",
       "      <th>2</th>\n",
       "      <td>520.5</td>\n",
       "      <td>304.894442</td>\n",
       "      <td>1437.5</td>\n",
       "      <td>0.362087</td>\n",
       "      <td>25.743372</td>\n",
       "      <td>65.282646</td>\n",
       "      <td>127.809006</td>\n",
       "      <td>(1.0306149239447592e-16+1.6831219003917104j)</td>\n",
       "      <td>0</td>\n",
       "    </tr>\n",
       "    <tr>\n",
       "      <th>3</th>\n",
       "      <td>207284.0</td>\n",
       "      <td>1746.361601</td>\n",
       "      <td>208492.5</td>\n",
       "      <td>0.994204</td>\n",
       "      <td>513.733575</td>\n",
       "      <td>446.987000</td>\n",
       "      <td>598.894897</td>\n",
       "      <td>(5.460312066462499e-17+0.891736633005399j)</td>\n",
       "      <td>0</td>\n",
       "    </tr>\n",
       "    <tr>\n",
       "      <th>4</th>\n",
       "      <td>828.5</td>\n",
       "      <td>186.551297</td>\n",
       "      <td>1122.0</td>\n",
       "      <td>0.738414</td>\n",
       "      <td>32.478900</td>\n",
       "      <td>18.563322</td>\n",
       "      <td>75.990356</td>\n",
       "      <td>(2.430650774257775e-16+3.9695539578433365j)</td>\n",
       "      <td>0</td>\n",
       "    </tr>\n",
       "    <tr>\n",
       "      <th>...</th>\n",
       "      <td>...</td>\n",
       "      <td>...</td>\n",
       "      <td>...</td>\n",
       "      <td>...</td>\n",
       "      <td>...</td>\n",
       "      <td>...</td>\n",
       "      <td>...</td>\n",
       "      <td>...</td>\n",
       "      <td>...</td>\n",
       "    </tr>\n",
       "    <tr>\n",
       "      <th>5707</th>\n",
       "      <td>6.0</td>\n",
       "      <td>13.656854</td>\n",
       "      <td>8.0</td>\n",
       "      <td>0.750000</td>\n",
       "      <td>2.763953</td>\n",
       "      <td>1.995512</td>\n",
       "      <td>5.909304</td>\n",
       "      <td>(1.7067556641035985e-16+2.7873435267897784j)</td>\n",
       "      <td>1</td>\n",
       "    </tr>\n",
       "    <tr>\n",
       "      <th>5708</th>\n",
       "      <td>39.5</td>\n",
       "      <td>35.556349</td>\n",
       "      <td>45.0</td>\n",
       "      <td>0.877778</td>\n",
       "      <td>7.091753</td>\n",
       "      <td>3.670089</td>\n",
       "      <td>15.640107</td>\n",
       "      <td>(2.536558873445491e-16+4.1425150095709915j)</td>\n",
       "      <td>1</td>\n",
       "    </tr>\n",
       "    <tr>\n",
       "      <th>5709</th>\n",
       "      <td>0.0</td>\n",
       "      <td>0.000000</td>\n",
       "      <td>0.0</td>\n",
       "      <td>0.000000</td>\n",
       "      <td>0.000000</td>\n",
       "      <td>0.000000</td>\n",
       "      <td>0.000000</td>\n",
       "      <td>0j</td>\n",
       "      <td>1</td>\n",
       "    </tr>\n",
       "    <tr>\n",
       "      <th>5710</th>\n",
       "      <td>2.5</td>\n",
       "      <td>6.242641</td>\n",
       "      <td>2.5</td>\n",
       "      <td>1.000000</td>\n",
       "      <td>1.784124</td>\n",
       "      <td>1.632993</td>\n",
       "      <td>2.828427</td>\n",
       "      <td>(8.659559867346783e-17+1.4142134488696505j)</td>\n",
       "      <td>1</td>\n",
       "    </tr>\n",
       "    <tr>\n",
       "      <th>5711</th>\n",
       "      <td>4.0</td>\n",
       "      <td>8.828427</td>\n",
       "      <td>4.5</td>\n",
       "      <td>0.888889</td>\n",
       "      <td>2.256758</td>\n",
       "      <td>1.928454</td>\n",
       "      <td>3.685834</td>\n",
       "      <td>(9.973596837551966e-17+1.6288119716633356j)</td>\n",
       "      <td>1</td>\n",
       "    </tr>\n",
       "  </tbody>\n",
       "</table>\n",
       "<p>5712 rows × 9 columns</p>\n",
       "</div>"
      ],
      "text/plain": [
       "          Area    Perimeter  Convex Area  Solidity  Equivalent Diameter  \\\n",
       "0       1456.5   281.521859       2786.5  0.522699            43.063597   \n",
       "1       1136.5   127.154328       1159.0  0.980587            38.039936   \n",
       "2        520.5   304.894442       1437.5  0.362087            25.743372   \n",
       "3     207284.0  1746.361601     208492.5  0.994204           513.733575   \n",
       "4        828.5   186.551297       1122.0  0.738414            32.478900   \n",
       "...        ...          ...          ...       ...                  ...   \n",
       "5707       6.0    13.656854          8.0  0.750000             2.763953   \n",
       "5708      39.5    35.556349         45.0  0.877778             7.091753   \n",
       "5709       0.0     0.000000          0.0  0.000000             0.000000   \n",
       "5710       2.5     6.242641          2.5  1.000000             1.784124   \n",
       "5711       4.0     8.828427          4.5  0.888889             2.256758   \n",
       "\n",
       "      Major Axis  Minor Axis                                  Eccentricity  \\\n",
       "0      45.902237   79.854164   (8.716542883371873e-17+1.4235194816073777j)   \n",
       "1      35.578979   41.199059   (3.575008557559394e-17+0.5838432044322419j)   \n",
       "2      65.282646  127.809006  (1.0306149239447592e-16+1.6831219003917104j)   \n",
       "3     446.987000  598.894897    (5.460312066462499e-17+0.891736633005399j)   \n",
       "4      18.563322   75.990356   (2.430650774257775e-16+3.9695539578433365j)   \n",
       "...          ...         ...                                           ...   \n",
       "5707    1.995512    5.909304  (1.7067556641035985e-16+2.7873435267897784j)   \n",
       "5708    3.670089   15.640107   (2.536558873445491e-16+4.1425150095709915j)   \n",
       "5709    0.000000    0.000000                                            0j   \n",
       "5710    1.632993    2.828427   (8.659559867346783e-17+1.4142134488696505j)   \n",
       "5711    1.928454    3.685834   (9.973596837551966e-17+1.6288119716633356j)   \n",
       "\n",
       "      Class  \n",
       "0         0  \n",
       "1         0  \n",
       "2         0  \n",
       "3         0  \n",
       "4         0  \n",
       "...     ...  \n",
       "5707      1  \n",
       "5708      1  \n",
       "5709      1  \n",
       "5710      1  \n",
       "5711      1  \n",
       "\n",
       "[5712 rows x 9 columns]"
      ]
     },
     "execution_count": 2,
     "metadata": {},
     "output_type": "execute_result"
    }
   ],
   "source": [
    "df = pd.read_csv('featured_dataset.csv')\n",
    "df"
   ]
  },
  {
   "cell_type": "code",
   "execution_count": 3,
   "id": "198d08de",
   "metadata": {},
   "outputs": [
    {
     "name": "stderr",
     "output_type": "stream",
     "text": [
      "C:\\ProgramData\\Anaconda3\\lib\\site-packages\\numpy\\core\\fromnumeric.py:84: FutureWarning: Dropping of nuisance columns in DataFrame reductions (with 'numeric_only=None') is deprecated; in a future version this will raise TypeError.  Select only valid columns before calling the reduction.\n",
      "  return reduction(axis=axis, out=out, **passkwargs)\n"
     ]
    },
    {
     "data": {
      "text/html": [
       "<div>\n",
       "<style scoped>\n",
       "    .dataframe tbody tr th:only-of-type {\n",
       "        vertical-align: middle;\n",
       "    }\n",
       "\n",
       "    .dataframe tbody tr th {\n",
       "        vertical-align: top;\n",
       "    }\n",
       "\n",
       "    .dataframe thead th {\n",
       "        text-align: right;\n",
       "    }\n",
       "</style>\n",
       "<table border=\"1\" class=\"dataframe\">\n",
       "  <thead>\n",
       "    <tr style=\"text-align: right;\">\n",
       "      <th></th>\n",
       "      <th>Area</th>\n",
       "      <th>Perimeter</th>\n",
       "      <th>Convex Area</th>\n",
       "      <th>Solidity</th>\n",
       "      <th>Equivalent Diameter</th>\n",
       "      <th>Major Axis</th>\n",
       "      <th>Minor Axis</th>\n",
       "      <th>Eccentricity</th>\n",
       "      <th>Class</th>\n",
       "    </tr>\n",
       "  </thead>\n",
       "  <tbody>\n",
       "    <tr>\n",
       "      <th>0</th>\n",
       "      <td>1456.5</td>\n",
       "      <td>281.521859</td>\n",
       "      <td>2786.5</td>\n",
       "      <td>0.522699</td>\n",
       "      <td>43.063597</td>\n",
       "      <td>45.902237</td>\n",
       "      <td>79.854164</td>\n",
       "      <td>(8.716542883371873e-17+1.4235194816073777j)</td>\n",
       "      <td>0</td>\n",
       "    </tr>\n",
       "    <tr>\n",
       "      <th>1</th>\n",
       "      <td>1136.5</td>\n",
       "      <td>127.154328</td>\n",
       "      <td>1159.0</td>\n",
       "      <td>0.980587</td>\n",
       "      <td>38.039936</td>\n",
       "      <td>35.578979</td>\n",
       "      <td>41.199059</td>\n",
       "      <td>(3.575008557559394e-17+0.5838432044322419j)</td>\n",
       "      <td>0</td>\n",
       "    </tr>\n",
       "    <tr>\n",
       "      <th>2</th>\n",
       "      <td>520.5</td>\n",
       "      <td>304.894442</td>\n",
       "      <td>1437.5</td>\n",
       "      <td>0.362087</td>\n",
       "      <td>25.743372</td>\n",
       "      <td>65.282646</td>\n",
       "      <td>127.809006</td>\n",
       "      <td>(1.0306149239447592e-16+1.6831219003917104j)</td>\n",
       "      <td>0</td>\n",
       "    </tr>\n",
       "    <tr>\n",
       "      <th>3</th>\n",
       "      <td>207284.0</td>\n",
       "      <td>1746.361601</td>\n",
       "      <td>208492.5</td>\n",
       "      <td>0.994204</td>\n",
       "      <td>513.733575</td>\n",
       "      <td>446.987000</td>\n",
       "      <td>598.894897</td>\n",
       "      <td>(5.460312066462499e-17+0.891736633005399j)</td>\n",
       "      <td>0</td>\n",
       "    </tr>\n",
       "    <tr>\n",
       "      <th>4</th>\n",
       "      <td>828.5</td>\n",
       "      <td>186.551297</td>\n",
       "      <td>1122.0</td>\n",
       "      <td>0.738414</td>\n",
       "      <td>32.478900</td>\n",
       "      <td>18.563322</td>\n",
       "      <td>75.990356</td>\n",
       "      <td>(2.430650774257775e-16+3.9695539578433365j)</td>\n",
       "      <td>0</td>\n",
       "    </tr>\n",
       "    <tr>\n",
       "      <th>...</th>\n",
       "      <td>...</td>\n",
       "      <td>...</td>\n",
       "      <td>...</td>\n",
       "      <td>...</td>\n",
       "      <td>...</td>\n",
       "      <td>...</td>\n",
       "      <td>...</td>\n",
       "      <td>...</td>\n",
       "      <td>...</td>\n",
       "    </tr>\n",
       "    <tr>\n",
       "      <th>5707</th>\n",
       "      <td>6.0</td>\n",
       "      <td>13.656854</td>\n",
       "      <td>8.0</td>\n",
       "      <td>0.750000</td>\n",
       "      <td>2.763953</td>\n",
       "      <td>1.995512</td>\n",
       "      <td>5.909304</td>\n",
       "      <td>(1.7067556641035985e-16+2.7873435267897784j)</td>\n",
       "      <td>1</td>\n",
       "    </tr>\n",
       "    <tr>\n",
       "      <th>5708</th>\n",
       "      <td>39.5</td>\n",
       "      <td>35.556349</td>\n",
       "      <td>45.0</td>\n",
       "      <td>0.877778</td>\n",
       "      <td>7.091753</td>\n",
       "      <td>3.670089</td>\n",
       "      <td>15.640107</td>\n",
       "      <td>(2.536558873445491e-16+4.1425150095709915j)</td>\n",
       "      <td>1</td>\n",
       "    </tr>\n",
       "    <tr>\n",
       "      <th>5709</th>\n",
       "      <td>0.0</td>\n",
       "      <td>0.000000</td>\n",
       "      <td>0.0</td>\n",
       "      <td>0.000000</td>\n",
       "      <td>0.000000</td>\n",
       "      <td>0.000000</td>\n",
       "      <td>0.000000</td>\n",
       "      <td>0j</td>\n",
       "      <td>1</td>\n",
       "    </tr>\n",
       "    <tr>\n",
       "      <th>5710</th>\n",
       "      <td>2.5</td>\n",
       "      <td>6.242641</td>\n",
       "      <td>2.5</td>\n",
       "      <td>1.000000</td>\n",
       "      <td>1.784124</td>\n",
       "      <td>1.632993</td>\n",
       "      <td>2.828427</td>\n",
       "      <td>(8.659559867346783e-17+1.4142134488696505j)</td>\n",
       "      <td>1</td>\n",
       "    </tr>\n",
       "    <tr>\n",
       "      <th>5711</th>\n",
       "      <td>4.0</td>\n",
       "      <td>8.828427</td>\n",
       "      <td>4.5</td>\n",
       "      <td>0.888889</td>\n",
       "      <td>2.256758</td>\n",
       "      <td>1.928454</td>\n",
       "      <td>3.685834</td>\n",
       "      <td>(9.973596837551966e-17+1.6288119716633356j)</td>\n",
       "      <td>1</td>\n",
       "    </tr>\n",
       "  </tbody>\n",
       "</table>\n",
       "<p>5351 rows × 9 columns</p>\n",
       "</div>"
      ],
      "text/plain": [
       "          Area    Perimeter  Convex Area  Solidity  Equivalent Diameter  \\\n",
       "0       1456.5   281.521859       2786.5  0.522699            43.063597   \n",
       "1       1136.5   127.154328       1159.0  0.980587            38.039936   \n",
       "2        520.5   304.894442       1437.5  0.362087            25.743372   \n",
       "3     207284.0  1746.361601     208492.5  0.994204           513.733575   \n",
       "4        828.5   186.551297       1122.0  0.738414            32.478900   \n",
       "...        ...          ...          ...       ...                  ...   \n",
       "5707       6.0    13.656854          8.0  0.750000             2.763953   \n",
       "5708      39.5    35.556349         45.0  0.877778             7.091753   \n",
       "5709       0.0     0.000000          0.0  0.000000             0.000000   \n",
       "5710       2.5     6.242641          2.5  1.000000             1.784124   \n",
       "5711       4.0     8.828427          4.5  0.888889             2.256758   \n",
       "\n",
       "      Major Axis  Minor Axis                                  Eccentricity  \\\n",
       "0      45.902237   79.854164   (8.716542883371873e-17+1.4235194816073777j)   \n",
       "1      35.578979   41.199059   (3.575008557559394e-17+0.5838432044322419j)   \n",
       "2      65.282646  127.809006  (1.0306149239447592e-16+1.6831219003917104j)   \n",
       "3     446.987000  598.894897    (5.460312066462499e-17+0.891736633005399j)   \n",
       "4      18.563322   75.990356   (2.430650774257775e-16+3.9695539578433365j)   \n",
       "...          ...         ...                                           ...   \n",
       "5707    1.995512    5.909304  (1.7067556641035985e-16+2.7873435267897784j)   \n",
       "5708    3.670089   15.640107   (2.536558873445491e-16+4.1425150095709915j)   \n",
       "5709    0.000000    0.000000                                            0j   \n",
       "5710    1.632993    2.828427   (8.659559867346783e-17+1.4142134488696505j)   \n",
       "5711    1.928454    3.685834   (9.973596837551966e-17+1.6288119716633356j)   \n",
       "\n",
       "      Class  \n",
       "0         0  \n",
       "1         0  \n",
       "2         0  \n",
       "3         0  \n",
       "4         0  \n",
       "...     ...  \n",
       "5707      1  \n",
       "5708      1  \n",
       "5709      1  \n",
       "5710      1  \n",
       "5711      1  \n",
       "\n",
       "[5351 rows x 9 columns]"
      ]
     },
     "execution_count": 3,
     "metadata": {},
     "output_type": "execute_result"
    }
   ],
   "source": [
    "def drop_rows_with_all_zeros(data):\n",
    "    # Calculate the sum of values in each row\n",
    "    row_sums = np.sum(data, axis=1)\n",
    "\n",
    "    # Create a boolean mask indicating rows with all zeros\n",
    "    mask = row_sums != 0\n",
    "\n",
    "    # Filter out the rows using the boolean mask\n",
    "    filtered_data = data[mask]\n",
    "\n",
    "    return filtered_data\n",
    "\n",
    "# Call the function to drop rows with all zeros\n",
    "df = drop_rows_with_all_zeros(df)\n",
    "\n",
    "# Print the filtered dataset\n",
    "df"
   ]
  },
  {
   "cell_type": "code",
   "execution_count": 4,
   "id": "e0262627",
   "metadata": {},
   "outputs": [],
   "source": [
    "df = df.dropna()"
   ]
  },
  {
   "cell_type": "code",
   "execution_count": 5,
   "id": "d89bf1d8",
   "metadata": {},
   "outputs": [
    {
     "data": {
      "text/plain": [
       "(5345, 9)"
      ]
     },
     "execution_count": 5,
     "metadata": {},
     "output_type": "execute_result"
    }
   ],
   "source": [
    "df.shape"
   ]
  },
  {
   "cell_type": "code",
   "execution_count": 6,
   "id": "3ac313d9",
   "metadata": {},
   "outputs": [],
   "source": [
    "X =df.drop(['Class', 'Eccentricity'], axis=1)\n",
    "Y = df['Class']\n",
    "X\n",
    "\n",
    "xtrain,xtest,ytrain,ytest = train_test_split(X,Y, test_size=0.3, random_state=0)"
   ]
  },
  {
   "cell_type": "markdown",
   "id": "985206b2",
   "metadata": {},
   "source": [
    "## NB"
   ]
  },
  {
   "cell_type": "code",
   "execution_count": 7,
   "id": "7f0cbd77",
   "metadata": {},
   "outputs": [],
   "source": [
    "from sklearn.naive_bayes import MultinomialNB\n",
    "MNB = MultinomialNB()\n",
    "MNB.fit(xtrain,ytrain)\n",
    "\n",
    "pred_MNB = MNB.predict(xtest)\n",
    "\n",
    "# MNB.score(y_train, y_pred_train)*100, MNB.score(y_test,y_pred_test)*100\n",
    "from sklearn.metrics import accuracy_score\n",
    "\n",
    "accuracy = accuracy_score(ytest, pred_MNB)"
   ]
  },
  {
   "cell_type": "code",
   "execution_count": 8,
   "id": "bbbb18eb",
   "metadata": {},
   "outputs": [
    {
     "data": {
      "text/plain": [
       "0.3478802992518703"
      ]
     },
     "execution_count": 8,
     "metadata": {},
     "output_type": "execute_result"
    }
   ],
   "source": [
    "accuracy"
   ]
  },
  {
   "cell_type": "markdown",
   "id": "1b907449",
   "metadata": {},
   "source": [
    "## RF"
   ]
  },
  {
   "cell_type": "code",
   "execution_count": 18,
   "id": "63e69c40",
   "metadata": {},
   "outputs": [
    {
     "data": {
      "text/plain": [
       "64.09"
      ]
     },
     "execution_count": 18,
     "metadata": {},
     "output_type": "execute_result"
    }
   ],
   "source": [
    "rf_clf = RandomForestClassifier()\n",
    "# Fit the parameters before oversampling:\n",
    "rf_clf.fit(xtrain, ytrain)\n",
    "\n",
    "#predict\n",
    "y_pred_test_rf = rf_clf.predict(xtest)\n",
    "\n",
    "round(accuracy_score(ytest , y_pred_test_rf)*100 , 2)"
   ]
  },
  {
   "cell_type": "markdown",
   "id": "a7aed752",
   "metadata": {},
   "source": [
    "## SVM"
   ]
  },
  {
   "cell_type": "code",
   "execution_count": 10,
   "id": "41afde9d",
   "metadata": {},
   "outputs": [],
   "source": [
    "from sklearn.svm import SVC\n",
    "from sklearn import svm"
   ]
  },
  {
   "cell_type": "code",
   "execution_count": 11,
   "id": "971c744e",
   "metadata": {},
   "outputs": [],
   "source": [
    "# svm = SVC(kernel='linear')\n",
    "# svm.fit(xtrain, ytrain)\n",
    "\n",
    "# # svm_score = svm.score(xtest, ytest)\n",
    "# # print('SVM accuracy:', svm_score)\n",
    "# # svm.score(xtrain, ytrain)\n",
    "\n",
    "# pred_svm = svm.predict(xtest)\n",
    "\n",
    "# round(accuracy_score(ytest , pred_svm)*100 , 2)"
   ]
  },
  {
   "cell_type": "code",
   "execution_count": 12,
   "id": "93eeff51",
   "metadata": {},
   "outputs": [],
   "source": [
    "# pred_svm = svm.predict(xtest)\n",
    "\n",
    "# round(accuracy_score(ytest , pred_svm)*100 , 2)"
   ]
  },
  {
   "cell_type": "code",
   "execution_count": 13,
   "id": "85555f2b",
   "metadata": {},
   "outputs": [
    {
     "data": {
      "text/plain": [
       "30.61"
      ]
     },
     "execution_count": 13,
     "metadata": {},
     "output_type": "execute_result"
    }
   ],
   "source": [
    "svc = SVC()\n",
    "svc.fit(xtrain, ytrain)\n",
    "\n",
    "pred_svc = svc.predict(xtest)\n",
    "\n",
    "round(accuracy_score(ytest , pred_svc)*100 , 2)"
   ]
  },
  {
   "cell_type": "code",
   "execution_count": null,
   "id": "ea71b3c5",
   "metadata": {},
   "outputs": [],
   "source": []
  },
  {
   "cell_type": "code",
   "execution_count": 14,
   "id": "17e07558",
   "metadata": {},
   "outputs": [
    {
     "data": {
      "text/plain": [
       "30.61"
      ]
     },
     "execution_count": 14,
     "metadata": {},
     "output_type": "execute_result"
    }
   ],
   "source": [
    "svm_classifier = svm.SVC(kernel='rbf')\n",
    "svm_classifier.fit(xtrain, ytrain)\n",
    "\n",
    "pred_svc = svm_classifier.predict(xtest)\n",
    "\n",
    "round(accuracy_score(ytest , pred_svc)*100 , 2)"
   ]
  },
  {
   "cell_type": "markdown",
   "id": "fd015213",
   "metadata": {},
   "source": [
    "# XGB"
   ]
  },
  {
   "cell_type": "code",
   "execution_count": 15,
   "id": "309e8b8b",
   "metadata": {},
   "outputs": [],
   "source": [
    "import xgboost as xgb"
   ]
  },
  {
   "cell_type": "code",
   "execution_count": 17,
   "id": "581d2eec",
   "metadata": {},
   "outputs": [
    {
     "data": {
      "text/plain": [
       "61.41"
      ]
     },
     "execution_count": 17,
     "metadata": {},
     "output_type": "execute_result"
    }
   ],
   "source": [
    "xgb_classifier = xgb.XGBClassifier()\n",
    "\n",
    "xgb_classifier.fit(xtrain, ytrain)\n",
    "\n",
    "pred_xgb = xgb_classifier.predict(xtest)\n",
    "\n",
    "round(accuracy_score(ytest , pred_xgb)*100 , 2)"
   ]
  },
  {
   "cell_type": "code",
   "execution_count": null,
   "id": "becac874",
   "metadata": {},
   "outputs": [],
   "source": []
  },
  {
   "cell_type": "code",
   "execution_count": null,
   "id": "34c7f998",
   "metadata": {},
   "outputs": [],
   "source": []
  }
 ],
 "metadata": {
  "kernelspec": {
   "display_name": "Python 3 (ipykernel)",
   "language": "python",
   "name": "python3"
  },
  "language_info": {
   "codemirror_mode": {
    "name": "ipython",
    "version": 3
   },
   "file_extension": ".py",
   "mimetype": "text/x-python",
   "name": "python",
   "nbconvert_exporter": "python",
   "pygments_lexer": "ipython3",
   "version": "3.9.13"
  }
 },
 "nbformat": 4,
 "nbformat_minor": 5
}
