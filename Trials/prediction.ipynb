{
 "cells": [
  {
   "cell_type": "code",
   "execution_count": 1,
   "id": "b94fa07a",
   "metadata": {},
   "outputs": [],
   "source": [
    "import numpy as np\n",
    "import pandas as pd\n",
    "from sklearn.model_selection import train_test_split\n",
    "\n",
    "from sklearn.ensemble import RandomForestClassifier"
   ]
  },
  {
   "cell_type": "code",
   "execution_count": 2,
   "id": "2500ad06",
   "metadata": {},
   "outputs": [
    {
     "data": {
      "text/html": [
       "<div>\n",
       "<style scoped>\n",
       "    .dataframe tbody tr th:only-of-type {\n",
       "        vertical-align: middle;\n",
       "    }\n",
       "\n",
       "    .dataframe tbody tr th {\n",
       "        vertical-align: top;\n",
       "    }\n",
       "\n",
       "    .dataframe thead th {\n",
       "        text-align: right;\n",
       "    }\n",
       "</style>\n",
       "<table border=\"1\" class=\"dataframe\">\n",
       "  <thead>\n",
       "    <tr style=\"text-align: right;\">\n",
       "      <th></th>\n",
       "      <th>Mean</th>\n",
       "      <th>std</th>\n",
       "      <th>Entropy</th>\n",
       "      <th>RMS</th>\n",
       "      <th>Kurtios</th>\n",
       "      <th>HMI1</th>\n",
       "      <th>HMI2</th>\n",
       "      <th>HMI3</th>\n",
       "      <th>HMI4</th>\n",
       "      <th>Area</th>\n",
       "      <th>...</th>\n",
       "      <th>homogeneity4</th>\n",
       "      <th>energy1</th>\n",
       "      <th>energy2</th>\n",
       "      <th>energy3</th>\n",
       "      <th>energy4</th>\n",
       "      <th>correlation1</th>\n",
       "      <th>correlation2</th>\n",
       "      <th>correlation3</th>\n",
       "      <th>correlation4</th>\n",
       "      <th>Class</th>\n",
       "    </tr>\n",
       "  </thead>\n",
       "  <tbody>\n",
       "    <tr>\n",
       "      <th>0</th>\n",
       "      <td>69.693600</td>\n",
       "      <td>60.988672</td>\n",
       "      <td>6.614287</td>\n",
       "      <td>9.041661</td>\n",
       "      <td>0.415330</td>\n",
       "      <td>2.785595</td>\n",
       "      <td>10.037521</td>\n",
       "      <td>10.662000</td>\n",
       "      <td>11.185945</td>\n",
       "      <td>5827.800000</td>\n",
       "      <td>...</td>\n",
       "      <td>0.405790</td>\n",
       "      <td>0.306356</td>\n",
       "      <td>0.299436</td>\n",
       "      <td>0.313603</td>\n",
       "      <td>0.299894</td>\n",
       "      <td>0.921058</td>\n",
       "      <td>0.902715</td>\n",
       "      <td>0.940892</td>\n",
       "      <td>0.902733</td>\n",
       "      <td>0</td>\n",
       "    </tr>\n",
       "    <tr>\n",
       "      <th>1</th>\n",
       "      <td>42.088384</td>\n",
       "      <td>50.356683</td>\n",
       "      <td>6.553086</td>\n",
       "      <td>8.875129</td>\n",
       "      <td>5.073736</td>\n",
       "      <td>2.617668</td>\n",
       "      <td>7.231273</td>\n",
       "      <td>9.914340</td>\n",
       "      <td>9.868268</td>\n",
       "      <td>1616.000000</td>\n",
       "      <td>...</td>\n",
       "      <td>0.306209</td>\n",
       "      <td>0.212378</td>\n",
       "      <td>0.206820</td>\n",
       "      <td>0.214469</td>\n",
       "      <td>0.205028</td>\n",
       "      <td>0.895421</td>\n",
       "      <td>0.864810</td>\n",
       "      <td>0.906165</td>\n",
       "      <td>0.862465</td>\n",
       "      <td>0</td>\n",
       "    </tr>\n",
       "    <tr>\n",
       "      <th>2</th>\n",
       "      <td>55.212544</td>\n",
       "      <td>46.056565</td>\n",
       "      <td>5.375762</td>\n",
       "      <td>9.302612</td>\n",
       "      <td>-0.628678</td>\n",
       "      <td>2.752905</td>\n",
       "      <td>8.030957</td>\n",
       "      <td>11.070417</td>\n",
       "      <td>11.550219</td>\n",
       "      <td>10522.700000</td>\n",
       "      <td>...</td>\n",
       "      <td>0.513325</td>\n",
       "      <td>0.177499</td>\n",
       "      <td>0.172328</td>\n",
       "      <td>0.180325</td>\n",
       "      <td>0.171641</td>\n",
       "      <td>0.969317</td>\n",
       "      <td>0.959636</td>\n",
       "      <td>0.974818</td>\n",
       "      <td>0.958198</td>\n",
       "      <td>0</td>\n",
       "    </tr>\n",
       "    <tr>\n",
       "      <th>3</th>\n",
       "      <td>76.037273</td>\n",
       "      <td>79.565990</td>\n",
       "      <td>5.781641</td>\n",
       "      <td>7.635726</td>\n",
       "      <td>-0.877843</td>\n",
       "      <td>2.904895</td>\n",
       "      <td>7.803627</td>\n",
       "      <td>12.448359</td>\n",
       "      <td>12.308773</td>\n",
       "      <td>4735.000000</td>\n",
       "      <td>...</td>\n",
       "      <td>0.432991</td>\n",
       "      <td>0.230150</td>\n",
       "      <td>0.221221</td>\n",
       "      <td>0.232777</td>\n",
       "      <td>0.221043</td>\n",
       "      <td>0.969677</td>\n",
       "      <td>0.958555</td>\n",
       "      <td>0.973180</td>\n",
       "      <td>0.957760</td>\n",
       "      <td>0</td>\n",
       "    </tr>\n",
       "    <tr>\n",
       "      <th>4</th>\n",
       "      <td>49.957904</td>\n",
       "      <td>48.439813</td>\n",
       "      <td>5.764681</td>\n",
       "      <td>10.755480</td>\n",
       "      <td>1.467716</td>\n",
       "      <td>2.720641</td>\n",
       "      <td>7.122902</td>\n",
       "      <td>10.259218</td>\n",
       "      <td>11.235536</td>\n",
       "      <td>5182.666667</td>\n",
       "      <td>...</td>\n",
       "      <td>0.466591</td>\n",
       "      <td>0.179320</td>\n",
       "      <td>0.170887</td>\n",
       "      <td>0.181765</td>\n",
       "      <td>0.170025</td>\n",
       "      <td>0.959890</td>\n",
       "      <td>0.947522</td>\n",
       "      <td>0.966923</td>\n",
       "      <td>0.945591</td>\n",
       "      <td>0</td>\n",
       "    </tr>\n",
       "    <tr>\n",
       "      <th>...</th>\n",
       "      <td>...</td>\n",
       "      <td>...</td>\n",
       "      <td>...</td>\n",
       "      <td>...</td>\n",
       "      <td>...</td>\n",
       "      <td>...</td>\n",
       "      <td>...</td>\n",
       "      <td>...</td>\n",
       "      <td>...</td>\n",
       "      <td>...</td>\n",
       "      <td>...</td>\n",
       "      <td>...</td>\n",
       "      <td>...</td>\n",
       "      <td>...</td>\n",
       "      <td>...</td>\n",
       "      <td>...</td>\n",
       "      <td>...</td>\n",
       "      <td>...</td>\n",
       "      <td>...</td>\n",
       "      <td>...</td>\n",
       "      <td>...</td>\n",
       "    </tr>\n",
       "    <tr>\n",
       "      <th>5707</th>\n",
       "      <td>55.537216</td>\n",
       "      <td>41.476325</td>\n",
       "      <td>6.681584</td>\n",
       "      <td>9.934108</td>\n",
       "      <td>-0.125073</td>\n",
       "      <td>2.678192</td>\n",
       "      <td>8.030136</td>\n",
       "      <td>10.921777</td>\n",
       "      <td>13.409310</td>\n",
       "      <td>3899.600000</td>\n",
       "      <td>...</td>\n",
       "      <td>0.354122</td>\n",
       "      <td>0.149783</td>\n",
       "      <td>0.145493</td>\n",
       "      <td>0.154335</td>\n",
       "      <td>0.144780</td>\n",
       "      <td>0.932639</td>\n",
       "      <td>0.914916</td>\n",
       "      <td>0.949625</td>\n",
       "      <td>0.912128</td>\n",
       "      <td>1</td>\n",
       "    </tr>\n",
       "    <tr>\n",
       "      <th>5708</th>\n",
       "      <td>58.451622</td>\n",
       "      <td>42.845989</td>\n",
       "      <td>6.740698</td>\n",
       "      <td>10.103457</td>\n",
       "      <td>-0.062257</td>\n",
       "      <td>2.700193</td>\n",
       "      <td>8.071390</td>\n",
       "      <td>10.813083</td>\n",
       "      <td>13.184454</td>\n",
       "      <td>3647.071429</td>\n",
       "      <td>...</td>\n",
       "      <td>0.334873</td>\n",
       "      <td>0.136611</td>\n",
       "      <td>0.132942</td>\n",
       "      <td>0.141475</td>\n",
       "      <td>0.131985</td>\n",
       "      <td>0.936218</td>\n",
       "      <td>0.921140</td>\n",
       "      <td>0.955264</td>\n",
       "      <td>0.920016</td>\n",
       "      <td>1</td>\n",
       "    </tr>\n",
       "    <tr>\n",
       "      <th>5709</th>\n",
       "      <td>45.893677</td>\n",
       "      <td>33.173744</td>\n",
       "      <td>6.370771</td>\n",
       "      <td>9.474798</td>\n",
       "      <td>0.096858</td>\n",
       "      <td>2.585893</td>\n",
       "      <td>7.683718</td>\n",
       "      <td>10.163987</td>\n",
       "      <td>11.763859</td>\n",
       "      <td>1469.833333</td>\n",
       "      <td>...</td>\n",
       "      <td>0.321362</td>\n",
       "      <td>0.081568</td>\n",
       "      <td>0.077379</td>\n",
       "      <td>0.082941</td>\n",
       "      <td>0.076869</td>\n",
       "      <td>0.933455</td>\n",
       "      <td>0.915585</td>\n",
       "      <td>0.950032</td>\n",
       "      <td>0.910542</td>\n",
       "      <td>1</td>\n",
       "    </tr>\n",
       "    <tr>\n",
       "      <th>5710</th>\n",
       "      <td>41.703392</td>\n",
       "      <td>36.594254</td>\n",
       "      <td>6.356158</td>\n",
       "      <td>9.738114</td>\n",
       "      <td>1.184672</td>\n",
       "      <td>2.608306</td>\n",
       "      <td>8.878155</td>\n",
       "      <td>11.275747</td>\n",
       "      <td>11.334920</td>\n",
       "      <td>4949.750000</td>\n",
       "      <td>...</td>\n",
       "      <td>0.312610</td>\n",
       "      <td>0.100671</td>\n",
       "      <td>0.096011</td>\n",
       "      <td>0.102649</td>\n",
       "      <td>0.095976</td>\n",
       "      <td>0.947402</td>\n",
       "      <td>0.926110</td>\n",
       "      <td>0.953305</td>\n",
       "      <td>0.926715</td>\n",
       "      <td>1</td>\n",
       "    </tr>\n",
       "    <tr>\n",
       "      <th>5711</th>\n",
       "      <td>36.168495</td>\n",
       "      <td>43.646127</td>\n",
       "      <td>5.594215</td>\n",
       "      <td>7.748545</td>\n",
       "      <td>0.352705</td>\n",
       "      <td>2.614579</td>\n",
       "      <td>7.736397</td>\n",
       "      <td>11.990038</td>\n",
       "      <td>11.572209</td>\n",
       "      <td>4368.916667</td>\n",
       "      <td>...</td>\n",
       "      <td>0.403408</td>\n",
       "      <td>0.142878</td>\n",
       "      <td>0.135068</td>\n",
       "      <td>0.144641</td>\n",
       "      <td>0.135644</td>\n",
       "      <td>0.957569</td>\n",
       "      <td>0.939330</td>\n",
       "      <td>0.962100</td>\n",
       "      <td>0.941147</td>\n",
       "      <td>1</td>\n",
       "    </tr>\n",
       "  </tbody>\n",
       "</table>\n",
       "<p>5712 rows × 38 columns</p>\n",
       "</div>"
      ],
      "text/plain": [
       "           Mean        std   Entropy        RMS   Kurtios      HMI1  \\\n",
       "0     69.693600  60.988672  6.614287   9.041661  0.415330  2.785595   \n",
       "1     42.088384  50.356683  6.553086   8.875129  5.073736  2.617668   \n",
       "2     55.212544  46.056565  5.375762   9.302612 -0.628678  2.752905   \n",
       "3     76.037273  79.565990  5.781641   7.635726 -0.877843  2.904895   \n",
       "4     49.957904  48.439813  5.764681  10.755480  1.467716  2.720641   \n",
       "...         ...        ...       ...        ...       ...       ...   \n",
       "5707  55.537216  41.476325  6.681584   9.934108 -0.125073  2.678192   \n",
       "5708  58.451622  42.845989  6.740698  10.103457 -0.062257  2.700193   \n",
       "5709  45.893677  33.173744  6.370771   9.474798  0.096858  2.585893   \n",
       "5710  41.703392  36.594254  6.356158   9.738114  1.184672  2.608306   \n",
       "5711  36.168495  43.646127  5.594215   7.748545  0.352705  2.614579   \n",
       "\n",
       "           HMI2       HMI3       HMI4          Area  ...  homogeneity4  \\\n",
       "0     10.037521  10.662000  11.185945   5827.800000  ...      0.405790   \n",
       "1      7.231273   9.914340   9.868268   1616.000000  ...      0.306209   \n",
       "2      8.030957  11.070417  11.550219  10522.700000  ...      0.513325   \n",
       "3      7.803627  12.448359  12.308773   4735.000000  ...      0.432991   \n",
       "4      7.122902  10.259218  11.235536   5182.666667  ...      0.466591   \n",
       "...         ...        ...        ...           ...  ...           ...   \n",
       "5707   8.030136  10.921777  13.409310   3899.600000  ...      0.354122   \n",
       "5708   8.071390  10.813083  13.184454   3647.071429  ...      0.334873   \n",
       "5709   7.683718  10.163987  11.763859   1469.833333  ...      0.321362   \n",
       "5710   8.878155  11.275747  11.334920   4949.750000  ...      0.312610   \n",
       "5711   7.736397  11.990038  11.572209   4368.916667  ...      0.403408   \n",
       "\n",
       "       energy1   energy2   energy3   energy4  correlation1  correlation2  \\\n",
       "0     0.306356  0.299436  0.313603  0.299894      0.921058      0.902715   \n",
       "1     0.212378  0.206820  0.214469  0.205028      0.895421      0.864810   \n",
       "2     0.177499  0.172328  0.180325  0.171641      0.969317      0.959636   \n",
       "3     0.230150  0.221221  0.232777  0.221043      0.969677      0.958555   \n",
       "4     0.179320  0.170887  0.181765  0.170025      0.959890      0.947522   \n",
       "...        ...       ...       ...       ...           ...           ...   \n",
       "5707  0.149783  0.145493  0.154335  0.144780      0.932639      0.914916   \n",
       "5708  0.136611  0.132942  0.141475  0.131985      0.936218      0.921140   \n",
       "5709  0.081568  0.077379  0.082941  0.076869      0.933455      0.915585   \n",
       "5710  0.100671  0.096011  0.102649  0.095976      0.947402      0.926110   \n",
       "5711  0.142878  0.135068  0.144641  0.135644      0.957569      0.939330   \n",
       "\n",
       "      correlation3  correlation4  Class  \n",
       "0         0.940892      0.902733      0  \n",
       "1         0.906165      0.862465      0  \n",
       "2         0.974818      0.958198      0  \n",
       "3         0.973180      0.957760      0  \n",
       "4         0.966923      0.945591      0  \n",
       "...            ...           ...    ...  \n",
       "5707      0.949625      0.912128      1  \n",
       "5708      0.955264      0.920016      1  \n",
       "5709      0.950032      0.910542      1  \n",
       "5710      0.953305      0.926715      1  \n",
       "5711      0.962100      0.941147      1  \n",
       "\n",
       "[5712 rows x 38 columns]"
      ]
     },
     "execution_count": 2,
     "metadata": {},
     "output_type": "execute_result"
    }
   ],
   "source": [
    "df = pd.read_csv('final_featured_dataset.csv')\n",
    "df"
   ]
  },
  {
   "cell_type": "code",
   "execution_count": 3,
   "id": "54d77048",
   "metadata": {},
   "outputs": [
    {
     "name": "stdout",
     "output_type": "stream",
     "text": [
      "Mean                     0\n",
      "std                      0\n",
      "Entropy                  0\n",
      "RMS                      0\n",
      "Kurtios                  0\n",
      "HMI1                     0\n",
      "HMI2                     0\n",
      "HMI3                     0\n",
      "HMI4                     0\n",
      "Area                   659\n",
      "Perimeter              659\n",
      "Circle                 659\n",
      "Convex Area            659\n",
      "Solidity               659\n",
      "Equivalent Diameter    659\n",
      "Major Axis             659\n",
      "Minor Axis             659\n",
      "contrast1                0\n",
      "contrast2                0\n",
      "contrast3                0\n",
      "contrast4                0\n",
      "dissimilarity1           0\n",
      "dissimilarity2           0\n",
      "dissimilarity3           0\n",
      "dissimilarity4           0\n",
      "homogeneity1             0\n",
      "homogeneity2             0\n",
      "homogeneity3             0\n",
      "homogeneity4             0\n",
      "energy1                  0\n",
      "energy2                  0\n",
      "energy3                  0\n",
      "energy4                  0\n",
      "correlation1             0\n",
      "correlation2             0\n",
      "correlation3             0\n",
      "correlation4             0\n",
      "Class                    0\n",
      "dtype: int64\n"
     ]
    },
    {
     "data": {
      "text/plain": [
       "Index(['Mean', 'std', 'Entropy', 'RMS', 'Kurtios', 'HMI1', 'HMI2', 'HMI3',\n",
       "       'HMI4', 'Area', 'Perimeter', 'Circle', 'Convex Area', 'Solidity',\n",
       "       'Equivalent Diameter', 'Major Axis', 'Minor Axis', 'contrast1',\n",
       "       'contrast2', 'contrast3', 'contrast4', 'dissimilarity1',\n",
       "       'dissimilarity2', 'dissimilarity3', 'dissimilarity4', 'homogeneity1',\n",
       "       'homogeneity2', 'homogeneity3', 'homogeneity4', 'energy1', 'energy2',\n",
       "       'energy3', 'energy4', 'correlation1', 'correlation2', 'correlation3',\n",
       "       'correlation4', 'Class'],\n",
       "      dtype='object')"
      ]
     },
     "execution_count": 3,
     "metadata": {},
     "output_type": "execute_result"
    }
   ],
   "source": [
    "# Count the number of NaN values in each column\n",
    "print(df.isna().sum())\n",
    "df.columns"
   ]
  },
  {
   "cell_type": "code",
   "execution_count": 4,
   "id": "28d67995",
   "metadata": {},
   "outputs": [
    {
     "data": {
      "text/plain": [
       "(5712, 38)"
      ]
     },
     "execution_count": 4,
     "metadata": {},
     "output_type": "execute_result"
    }
   ],
   "source": [
    "df.shape"
   ]
  },
  {
   "cell_type": "code",
   "execution_count": 5,
   "id": "198d08de",
   "metadata": {},
   "outputs": [],
   "source": [
    "# def drop_rows_with_all_zeros(data):\n",
    "#     # Calculate the sum of values in each row\n",
    "#     row_sums = np.sum(data, axis=1)\n",
    "\n",
    "#     # Create a boolean mask indicating rows with all zeros\n",
    "#     mask = row_sums != 0\n",
    "\n",
    "#     # Filter out the rows using the boolean mask\n",
    "#     filtered_data = data[mask]\n",
    "\n",
    "#     return filtered_data\n",
    "\n",
    "# # Call the function to drop rows with all zeros\n",
    "# df = drop_rows_with_all_zeros(df)\n",
    "\n",
    "# # Print the filtered dataset\n",
    "# df"
   ]
  },
  {
   "cell_type": "code",
   "execution_count": 6,
   "id": "e0262627",
   "metadata": {},
   "outputs": [
    {
     "data": {
      "text/plain": [
       "Mean                   0\n",
       "std                    0\n",
       "Entropy                0\n",
       "RMS                    0\n",
       "Kurtios                0\n",
       "HMI1                   0\n",
       "HMI2                   0\n",
       "HMI3                   0\n",
       "HMI4                   0\n",
       "Area                   0\n",
       "Perimeter              0\n",
       "Circle                 0\n",
       "Convex Area            0\n",
       "Solidity               0\n",
       "Equivalent Diameter    0\n",
       "Major Axis             0\n",
       "Minor Axis             0\n",
       "contrast1              0\n",
       "contrast2              0\n",
       "contrast3              0\n",
       "contrast4              0\n",
       "dissimilarity1         0\n",
       "dissimilarity2         0\n",
       "dissimilarity3         0\n",
       "dissimilarity4         0\n",
       "homogeneity1           0\n",
       "homogeneity2           0\n",
       "homogeneity3           0\n",
       "homogeneity4           0\n",
       "energy1                0\n",
       "energy2                0\n",
       "energy3                0\n",
       "energy4                0\n",
       "correlation1           0\n",
       "correlation2           0\n",
       "correlation3           0\n",
       "correlation4           0\n",
       "Class                  0\n",
       "dtype: int64"
      ]
     },
     "execution_count": 6,
     "metadata": {},
     "output_type": "execute_result"
    }
   ],
   "source": [
    "# df = df.dropna()\n",
    "\n",
    "missing_data = ['Area', 'Perimeter', 'Circle', 'Convex Area', 'Solidity', 'Equivalent Diameter', 'Major Axis', 'Minor Axis']\n",
    "for i in missing_data:\n",
    "    fill_list = df[i].dropna().tolist()\n",
    "    df[i] = df[i].fillna(pd.Series(np.random.choice(fill_list , size = len(df.index))))\n",
    "    \n",
    "df.isnull().sum()   "
   ]
  },
  {
   "cell_type": "code",
   "execution_count": 7,
   "id": "d89bf1d8",
   "metadata": {},
   "outputs": [
    {
     "data": {
      "text/plain": [
       "(5712, 38)"
      ]
     },
     "execution_count": 7,
     "metadata": {},
     "output_type": "execute_result"
    }
   ],
   "source": [
    "df.shape"
   ]
  },
  {
   "cell_type": "code",
   "execution_count": 8,
   "id": "3ac313d9",
   "metadata": {},
   "outputs": [],
   "source": [
    "X =df.drop(['Class'], axis=1)\n",
    "Y = df['Class']\n",
    "X\n",
    "\n",
    "xtrain,xtest,ytrain,ytest = train_test_split(X,Y, test_size=0.3, random_state=0)"
   ]
  },
  {
   "cell_type": "markdown",
   "id": "7e661f5f",
   "metadata": {},
   "source": [
    "## Scaling"
   ]
  },
  {
   "cell_type": "code",
   "execution_count": 9,
   "id": "9a116ee5",
   "metadata": {},
   "outputs": [],
   "source": [
    "# from sklearn.preprocessing import StandardScaler\n",
    "\n",
    "# std = StandardScaler()\n",
    "\n",
    "# xtrain = std.fit_transform(xtrain)\n",
    "# xtest = std.transform(xtest)"
   ]
  },
  {
   "cell_type": "code",
   "execution_count": null,
   "id": "5caa6233",
   "metadata": {},
   "outputs": [],
   "source": []
  },
  {
   "cell_type": "markdown",
   "id": "985206b2",
   "metadata": {},
   "source": [
    "## NB"
   ]
  },
  {
   "cell_type": "code",
   "execution_count": 10,
   "id": "0b4d863a",
   "metadata": {},
   "outputs": [],
   "source": [
    "from sklearn.metrics import accuracy_score"
   ]
  },
  {
   "cell_type": "code",
   "execution_count": 11,
   "id": "7f0cbd77",
   "metadata": {},
   "outputs": [
    {
     "ename": "ValueError",
     "evalue": "Negative values in data passed to MultinomialNB (input X)",
     "output_type": "error",
     "traceback": [
      "\u001b[1;31m---------------------------------------------------------------------------\u001b[0m",
      "\u001b[1;31mValueError\u001b[0m                                Traceback (most recent call last)",
      "\u001b[1;32m~\\AppData\\Local\\Temp\\ipykernel_19104\\3146054492.py\u001b[0m in \u001b[0;36m<module>\u001b[1;34m\u001b[0m\n\u001b[0;32m      1\u001b[0m \u001b[1;32mfrom\u001b[0m \u001b[0msklearn\u001b[0m\u001b[1;33m.\u001b[0m\u001b[0mnaive_bayes\u001b[0m \u001b[1;32mimport\u001b[0m \u001b[0mMultinomialNB\u001b[0m\u001b[1;33m\u001b[0m\u001b[1;33m\u001b[0m\u001b[0m\n\u001b[0;32m      2\u001b[0m \u001b[0mMNB\u001b[0m \u001b[1;33m=\u001b[0m \u001b[0mMultinomialNB\u001b[0m\u001b[1;33m(\u001b[0m\u001b[1;33m)\u001b[0m\u001b[1;33m\u001b[0m\u001b[1;33m\u001b[0m\u001b[0m\n\u001b[1;32m----> 3\u001b[1;33m \u001b[0mMNB\u001b[0m\u001b[1;33m.\u001b[0m\u001b[0mfit\u001b[0m\u001b[1;33m(\u001b[0m\u001b[0mxtrain\u001b[0m\u001b[1;33m,\u001b[0m\u001b[0mytrain\u001b[0m\u001b[1;33m)\u001b[0m\u001b[1;33m\u001b[0m\u001b[1;33m\u001b[0m\u001b[0m\n\u001b[0m\u001b[0;32m      4\u001b[0m \u001b[1;33m\u001b[0m\u001b[0m\n\u001b[0;32m      5\u001b[0m \u001b[0mpred_MNB\u001b[0m \u001b[1;33m=\u001b[0m \u001b[0mMNB\u001b[0m\u001b[1;33m.\u001b[0m\u001b[0mpredict\u001b[0m\u001b[1;33m(\u001b[0m\u001b[0mxtest\u001b[0m\u001b[1;33m)\u001b[0m\u001b[1;33m\u001b[0m\u001b[1;33m\u001b[0m\u001b[0m\n",
      "\u001b[1;32mC:\\ProgramData\\Anaconda3\\lib\\site-packages\\sklearn\\naive_bayes.py\u001b[0m in \u001b[0;36mfit\u001b[1;34m(self, X, y, sample_weight)\u001b[0m\n\u001b[0;32m    688\u001b[0m         \u001b[0mn_classes\u001b[0m \u001b[1;33m=\u001b[0m \u001b[0mY\u001b[0m\u001b[1;33m.\u001b[0m\u001b[0mshape\u001b[0m\u001b[1;33m[\u001b[0m\u001b[1;36m1\u001b[0m\u001b[1;33m]\u001b[0m\u001b[1;33m\u001b[0m\u001b[1;33m\u001b[0m\u001b[0m\n\u001b[0;32m    689\u001b[0m         \u001b[0mself\u001b[0m\u001b[1;33m.\u001b[0m\u001b[0m_init_counters\u001b[0m\u001b[1;33m(\u001b[0m\u001b[0mn_classes\u001b[0m\u001b[1;33m,\u001b[0m \u001b[0mn_features\u001b[0m\u001b[1;33m)\u001b[0m\u001b[1;33m\u001b[0m\u001b[1;33m\u001b[0m\u001b[0m\n\u001b[1;32m--> 690\u001b[1;33m         \u001b[0mself\u001b[0m\u001b[1;33m.\u001b[0m\u001b[0m_count\u001b[0m\u001b[1;33m(\u001b[0m\u001b[0mX\u001b[0m\u001b[1;33m,\u001b[0m \u001b[0mY\u001b[0m\u001b[1;33m)\u001b[0m\u001b[1;33m\u001b[0m\u001b[1;33m\u001b[0m\u001b[0m\n\u001b[0m\u001b[0;32m    691\u001b[0m         \u001b[0malpha\u001b[0m \u001b[1;33m=\u001b[0m \u001b[0mself\u001b[0m\u001b[1;33m.\u001b[0m\u001b[0m_check_alpha\u001b[0m\u001b[1;33m(\u001b[0m\u001b[1;33m)\u001b[0m\u001b[1;33m\u001b[0m\u001b[1;33m\u001b[0m\u001b[0m\n\u001b[0;32m    692\u001b[0m         \u001b[0mself\u001b[0m\u001b[1;33m.\u001b[0m\u001b[0m_update_feature_log_prob\u001b[0m\u001b[1;33m(\u001b[0m\u001b[0malpha\u001b[0m\u001b[1;33m)\u001b[0m\u001b[1;33m\u001b[0m\u001b[1;33m\u001b[0m\u001b[0m\n",
      "\u001b[1;32mC:\\ProgramData\\Anaconda3\\lib\\site-packages\\sklearn\\naive_bayes.py\u001b[0m in \u001b[0;36m_count\u001b[1;34m(self, X, Y)\u001b[0m\n\u001b[0;32m    861\u001b[0m     \u001b[1;32mdef\u001b[0m \u001b[0m_count\u001b[0m\u001b[1;33m(\u001b[0m\u001b[0mself\u001b[0m\u001b[1;33m,\u001b[0m \u001b[0mX\u001b[0m\u001b[1;33m,\u001b[0m \u001b[0mY\u001b[0m\u001b[1;33m)\u001b[0m\u001b[1;33m:\u001b[0m\u001b[1;33m\u001b[0m\u001b[1;33m\u001b[0m\u001b[0m\n\u001b[0;32m    862\u001b[0m         \u001b[1;34m\"\"\"Count and smooth feature occurrences.\"\"\"\u001b[0m\u001b[1;33m\u001b[0m\u001b[1;33m\u001b[0m\u001b[0m\n\u001b[1;32m--> 863\u001b[1;33m         \u001b[0mcheck_non_negative\u001b[0m\u001b[1;33m(\u001b[0m\u001b[0mX\u001b[0m\u001b[1;33m,\u001b[0m \u001b[1;34m\"MultinomialNB (input X)\"\u001b[0m\u001b[1;33m)\u001b[0m\u001b[1;33m\u001b[0m\u001b[1;33m\u001b[0m\u001b[0m\n\u001b[0m\u001b[0;32m    864\u001b[0m         \u001b[0mself\u001b[0m\u001b[1;33m.\u001b[0m\u001b[0mfeature_count_\u001b[0m \u001b[1;33m+=\u001b[0m \u001b[0msafe_sparse_dot\u001b[0m\u001b[1;33m(\u001b[0m\u001b[0mY\u001b[0m\u001b[1;33m.\u001b[0m\u001b[0mT\u001b[0m\u001b[1;33m,\u001b[0m \u001b[0mX\u001b[0m\u001b[1;33m)\u001b[0m\u001b[1;33m\u001b[0m\u001b[1;33m\u001b[0m\u001b[0m\n\u001b[0;32m    865\u001b[0m         \u001b[0mself\u001b[0m\u001b[1;33m.\u001b[0m\u001b[0mclass_count_\u001b[0m \u001b[1;33m+=\u001b[0m \u001b[0mY\u001b[0m\u001b[1;33m.\u001b[0m\u001b[0msum\u001b[0m\u001b[1;33m(\u001b[0m\u001b[0maxis\u001b[0m\u001b[1;33m=\u001b[0m\u001b[1;36m0\u001b[0m\u001b[1;33m)\u001b[0m\u001b[1;33m\u001b[0m\u001b[1;33m\u001b[0m\u001b[0m\n",
      "\u001b[1;32mC:\\ProgramData\\Anaconda3\\lib\\site-packages\\sklearn\\utils\\validation.py\u001b[0m in \u001b[0;36mcheck_non_negative\u001b[1;34m(X, whom)\u001b[0m\n\u001b[0;32m   1247\u001b[0m \u001b[1;33m\u001b[0m\u001b[0m\n\u001b[0;32m   1248\u001b[0m     \u001b[1;32mif\u001b[0m \u001b[0mX_min\u001b[0m \u001b[1;33m<\u001b[0m \u001b[1;36m0\u001b[0m\u001b[1;33m:\u001b[0m\u001b[1;33m\u001b[0m\u001b[1;33m\u001b[0m\u001b[0m\n\u001b[1;32m-> 1249\u001b[1;33m         \u001b[1;32mraise\u001b[0m \u001b[0mValueError\u001b[0m\u001b[1;33m(\u001b[0m\u001b[1;34m\"Negative values in data passed to %s\"\u001b[0m \u001b[1;33m%\u001b[0m \u001b[0mwhom\u001b[0m\u001b[1;33m)\u001b[0m\u001b[1;33m\u001b[0m\u001b[1;33m\u001b[0m\u001b[0m\n\u001b[0m\u001b[0;32m   1250\u001b[0m \u001b[1;33m\u001b[0m\u001b[0m\n\u001b[0;32m   1251\u001b[0m \u001b[1;33m\u001b[0m\u001b[0m\n",
      "\u001b[1;31mValueError\u001b[0m: Negative values in data passed to MultinomialNB (input X)"
     ]
    }
   ],
   "source": [
    "from sklearn.naive_bayes import MultinomialNB\n",
    "MNB = MultinomialNB()\n",
    "MNB.fit(xtrain,ytrain)\n",
    "\n",
    "pred_MNB = MNB.predict(xtest)\n",
    "\n",
    "# MNB.score(y_train, y_pred_train)*100, MNB.score(y_test,y_pred_test)*100\n",
    "\n",
    "\n",
    "accuracy = accuracy_score(ytest, pred_MNB)"
   ]
  },
  {
   "cell_type": "code",
   "execution_count": null,
   "id": "bbbb18eb",
   "metadata": {},
   "outputs": [],
   "source": [
    "accuracy"
   ]
  },
  {
   "cell_type": "markdown",
   "id": "1b907449",
   "metadata": {},
   "source": [
    "## RF"
   ]
  },
  {
   "cell_type": "code",
   "execution_count": 12,
   "id": "63e69c40",
   "metadata": {},
   "outputs": [
    {
     "name": "stdout",
     "output_type": "stream",
     "text": [
      "The acc of the Model: 100.0\n",
      "The acc of the prediction: 87.11\n"
     ]
    },
    {
     "data": {
      "text/plain": [
       "87.11"
      ]
     },
     "execution_count": 12,
     "metadata": {},
     "output_type": "execute_result"
    }
   ],
   "source": [
    "rf_clf = RandomForestClassifier()\n",
    "# Fit the parameters before oversampling:\n",
    "rf_clf.fit(xtrain, ytrain)\n",
    "\n",
    "#predict\n",
    "y_pred_test_rf = rf_clf.predict(xtest)\n",
    "\n",
    "# check the accuracy of the model on train data\n",
    "acc1 = round(rf_clf.score(xtrain , ytrain)* 100, 2)\n",
    "print(\"The acc of the Model:\",acc1)\n",
    "\n",
    "# check the accuracy on the test data\n",
    "acc2= round(rf_clf.score(xtest , ytest) *100, 2)\n",
    "print(\"The acc of the prediction:\",acc2)\n",
    "\n",
    "round(accuracy_score(ytest , y_pred_test_rf)*100 , 2)"
   ]
  },
  {
   "cell_type": "markdown",
   "id": "a7aed752",
   "metadata": {},
   "source": [
    "## SVM"
   ]
  },
  {
   "cell_type": "code",
   "execution_count": null,
   "id": "41afde9d",
   "metadata": {},
   "outputs": [],
   "source": [
    "from sklearn.svm import SVC\n",
    "from sklearn import svm"
   ]
  },
  {
   "cell_type": "code",
   "execution_count": null,
   "id": "971c744e",
   "metadata": {},
   "outputs": [],
   "source": [
    "# svm = SVC(kernel='linear')\n",
    "# svm.fit(xtrain, ytrain)\n",
    "\n",
    "# # svm_score = svm.score(xtest, ytest)\n",
    "# # print('SVM accuracy:', svm_score)\n",
    "# # svm.score(xtrain, ytrain)\n",
    "\n",
    "# pred_svm = svm.predict(xtest)\n",
    "\n",
    "# round(accuracy_score(ytest , pred_svm)*100 , 2)"
   ]
  },
  {
   "cell_type": "code",
   "execution_count": null,
   "id": "93eeff51",
   "metadata": {},
   "outputs": [],
   "source": [
    "# pred_svm = svm.predict(xtest)\n",
    "\n",
    "# round(accuracy_score(ytest , pred_svm)*100 , 2)"
   ]
  },
  {
   "cell_type": "code",
   "execution_count": null,
   "id": "85555f2b",
   "metadata": {},
   "outputs": [],
   "source": [
    "svc = SVC()\n",
    "svc.fit(xtrain, ytrain)\n",
    "\n",
    "pred_svc = svc.predict(xtest)\n",
    "\n",
    "round(accuracy_score(ytest , pred_svc)*100 , 2)"
   ]
  },
  {
   "cell_type": "code",
   "execution_count": null,
   "id": "ea71b3c5",
   "metadata": {},
   "outputs": [],
   "source": []
  },
  {
   "cell_type": "code",
   "execution_count": null,
   "id": "17e07558",
   "metadata": {},
   "outputs": [],
   "source": [
    "svm_classifier = svm.SVC(kernel='rbf', C=10, gamma=0.001)\n",
    "svm_classifier.fit(xtrain, ytrain)\n",
    "\n",
    "pred_svc = svm_classifier.predict(xtest)\n",
    "\n",
    "round(accuracy_score(ytest , pred_svc)*100 , 2)"
   ]
  },
  {
   "cell_type": "markdown",
   "id": "fd015213",
   "metadata": {},
   "source": [
    "# XGB"
   ]
  },
  {
   "cell_type": "code",
   "execution_count": 13,
   "id": "309e8b8b",
   "metadata": {},
   "outputs": [],
   "source": [
    "import xgboost as xgb"
   ]
  },
  {
   "cell_type": "code",
   "execution_count": 14,
   "id": "581d2eec",
   "metadata": {},
   "outputs": [
    {
     "name": "stdout",
     "output_type": "stream",
     "text": [
      "The acc of the Model: 100.0\n",
      "The acc of the prediction: 89.91\n"
     ]
    },
    {
     "data": {
      "text/plain": [
       "89.91"
      ]
     },
     "execution_count": 14,
     "metadata": {},
     "output_type": "execute_result"
    }
   ],
   "source": [
    "xgb_classifier = xgb.XGBClassifier()\n",
    "\n",
    "xgb_classifier.fit(xtrain, ytrain)\n",
    "\n",
    "pred_xgb = xgb_classifier.predict(xtest)\n",
    "\n",
    "# check the accuracy of the model on train data\n",
    "acc1 = round(xgb_classifier.score(xtrain , ytrain)* 100, 2)\n",
    "print(\"The acc of the Model:\",acc1)\n",
    "\n",
    "# check the accuracy on the test data\n",
    "acc2= round(xgb_classifier.score(xtest , ytest) *100, 2)\n",
    "print(\"The acc of the prediction:\",acc2)\n",
    "\n",
    "round(accuracy_score(ytest , pred_xgb)*100 , 2)"
   ]
  },
  {
   "cell_type": "markdown",
   "id": "33d2d62d",
   "metadata": {},
   "source": [
    "## KNN"
   ]
  },
  {
   "cell_type": "code",
   "execution_count": null,
   "id": "34c7f998",
   "metadata": {},
   "outputs": [],
   "source": [
    "from sklearn.neighbors import KNeighborsClassifier\n",
    "\n",
    "# create KNeighborsClassifier with 7 neighbors \n",
    "knn = KNeighborsClassifier(n_neighbors=7)\n",
    "\n",
    "# Fit the data to knn model\n",
    "knn.fit(xtrain , ytrain)\n",
    "\n",
    "# check the accuracy of the model on train data\n",
    "knn_acc1 = round(knn.score(xtrain , ytrain)* 100, 2)\n",
    "print(\"The acc of the Model:\",knn_acc1)\n",
    "\n",
    "# check the accuracy on the test data\n",
    "knn_acc2= round(knn.score(xtest , ytest) *100, 2)\n",
    "print(\"The acc of the prediction:\",knn_acc2)\n"
   ]
  },
  {
   "cell_type": "code",
   "execution_count": null,
   "id": "e70f9b3b",
   "metadata": {},
   "outputs": [],
   "source": []
  }
 ],
 "metadata": {
  "kernelspec": {
   "display_name": "Python 3 (ipykernel)",
   "language": "python",
   "name": "python3"
  },
  "language_info": {
   "codemirror_mode": {
    "name": "ipython",
    "version": 3
   },
   "file_extension": ".py",
   "mimetype": "text/x-python",
   "name": "python",
   "nbconvert_exporter": "python",
   "pygments_lexer": "ipython3",
   "version": "3.9.13"
  }
 },
 "nbformat": 4,
 "nbformat_minor": 5
}
